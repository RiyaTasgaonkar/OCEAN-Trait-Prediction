{
  "nbformat": 4,
  "nbformat_minor": 0,
  "metadata": {
    "colab": {
      "name": "E_model.ipynb",
      "provenance": [],
      "collapsed_sections": []
    },
    "kernelspec": {
      "display_name": "Python 3",
      "name": "python3"
    },
    "language_info": {
      "name": "python"
    }
  },
  "cells": [
    {
      "cell_type": "code",
      "metadata": {
        "colab": {
          "base_uri": "https://localhost:8080/"
        },
        "id": "ybti9l5A9y_1",
        "outputId": "1c5893cf-2d9d-4038-ed11-af735eaacf0f"
      },
      "source": [
        "!pip install tensorflow"
      ],
      "execution_count": null,
      "outputs": [
        {
          "output_type": "stream",
          "text": [
            "Requirement already satisfied: tensorflow in /usr/local/lib/python3.7/dist-packages (2.4.1)\n",
            "Requirement already satisfied: six~=1.15.0 in /usr/local/lib/python3.7/dist-packages (from tensorflow) (1.15.0)\n",
            "Requirement already satisfied: tensorboard~=2.4 in /usr/local/lib/python3.7/dist-packages (from tensorflow) (2.4.1)\n",
            "Requirement already satisfied: wrapt~=1.12.1 in /usr/local/lib/python3.7/dist-packages (from tensorflow) (1.12.1)\n",
            "Requirement already satisfied: absl-py~=0.10 in /usr/local/lib/python3.7/dist-packages (from tensorflow) (0.12.0)\n",
            "Requirement already satisfied: numpy~=1.19.2 in /usr/local/lib/python3.7/dist-packages (from tensorflow) (1.19.5)\n",
            "Requirement already satisfied: protobuf>=3.9.2 in /usr/local/lib/python3.7/dist-packages (from tensorflow) (3.12.4)\n",
            "Requirement already satisfied: tensorflow-estimator<2.5.0,>=2.4.0 in /usr/local/lib/python3.7/dist-packages (from tensorflow) (2.4.0)\n",
            "Requirement already satisfied: grpcio~=1.32.0 in /usr/local/lib/python3.7/dist-packages (from tensorflow) (1.32.0)\n",
            "Requirement already satisfied: h5py~=2.10.0 in /usr/local/lib/python3.7/dist-packages (from tensorflow) (2.10.0)\n",
            "Requirement already satisfied: keras-preprocessing~=1.1.2 in /usr/local/lib/python3.7/dist-packages (from tensorflow) (1.1.2)\n",
            "Requirement already satisfied: flatbuffers~=1.12.0 in /usr/local/lib/python3.7/dist-packages (from tensorflow) (1.12)\n",
            "Requirement already satisfied: google-pasta~=0.2 in /usr/local/lib/python3.7/dist-packages (from tensorflow) (0.2.0)\n",
            "Requirement already satisfied: gast==0.3.3 in /usr/local/lib/python3.7/dist-packages (from tensorflow) (0.3.3)\n",
            "Requirement already satisfied: opt-einsum~=3.3.0 in /usr/local/lib/python3.7/dist-packages (from tensorflow) (3.3.0)\n",
            "Requirement already satisfied: termcolor~=1.1.0 in /usr/local/lib/python3.7/dist-packages (from tensorflow) (1.1.0)\n",
            "Requirement already satisfied: astunparse~=1.6.3 in /usr/local/lib/python3.7/dist-packages (from tensorflow) (1.6.3)\n",
            "Requirement already satisfied: wheel~=0.35 in /usr/local/lib/python3.7/dist-packages (from tensorflow) (0.36.2)\n",
            "Requirement already satisfied: typing-extensions~=3.7.4 in /usr/local/lib/python3.7/dist-packages (from tensorflow) (3.7.4.3)\n",
            "Requirement already satisfied: markdown>=2.6.8 in /usr/local/lib/python3.7/dist-packages (from tensorboard~=2.4->tensorflow) (3.3.4)\n",
            "Requirement already satisfied: requests<3,>=2.21.0 in /usr/local/lib/python3.7/dist-packages (from tensorboard~=2.4->tensorflow) (2.23.0)\n",
            "Requirement already satisfied: werkzeug>=0.11.15 in /usr/local/lib/python3.7/dist-packages (from tensorboard~=2.4->tensorflow) (1.0.1)\n",
            "Requirement already satisfied: tensorboard-plugin-wit>=1.6.0 in /usr/local/lib/python3.7/dist-packages (from tensorboard~=2.4->tensorflow) (1.8.0)\n",
            "Requirement already satisfied: google-auth<2,>=1.6.3 in /usr/local/lib/python3.7/dist-packages (from tensorboard~=2.4->tensorflow) (1.28.0)\n",
            "Requirement already satisfied: google-auth-oauthlib<0.5,>=0.4.1 in /usr/local/lib/python3.7/dist-packages (from tensorboard~=2.4->tensorflow) (0.4.3)\n",
            "Requirement already satisfied: setuptools>=41.0.0 in /usr/local/lib/python3.7/dist-packages (from tensorboard~=2.4->tensorflow) (54.2.0)\n",
            "Requirement already satisfied: importlib-metadata; python_version < \"3.8\" in /usr/local/lib/python3.7/dist-packages (from markdown>=2.6.8->tensorboard~=2.4->tensorflow) (3.8.1)\n",
            "Requirement already satisfied: urllib3!=1.25.0,!=1.25.1,<1.26,>=1.21.1 in /usr/local/lib/python3.7/dist-packages (from requests<3,>=2.21.0->tensorboard~=2.4->tensorflow) (1.24.3)\n",
            "Requirement already satisfied: chardet<4,>=3.0.2 in /usr/local/lib/python3.7/dist-packages (from requests<3,>=2.21.0->tensorboard~=2.4->tensorflow) (3.0.4)\n",
            "Requirement already satisfied: certifi>=2017.4.17 in /usr/local/lib/python3.7/dist-packages (from requests<3,>=2.21.0->tensorboard~=2.4->tensorflow) (2020.12.5)\n",
            "Requirement already satisfied: idna<3,>=2.5 in /usr/local/lib/python3.7/dist-packages (from requests<3,>=2.21.0->tensorboard~=2.4->tensorflow) (2.10)\n",
            "Requirement already satisfied: cachetools<5.0,>=2.0.0 in /usr/local/lib/python3.7/dist-packages (from google-auth<2,>=1.6.3->tensorboard~=2.4->tensorflow) (4.2.1)\n",
            "Requirement already satisfied: rsa<5,>=3.1.4; python_version >= \"3.6\" in /usr/local/lib/python3.7/dist-packages (from google-auth<2,>=1.6.3->tensorboard~=2.4->tensorflow) (4.7.2)\n",
            "Requirement already satisfied: pyasn1-modules>=0.2.1 in /usr/local/lib/python3.7/dist-packages (from google-auth<2,>=1.6.3->tensorboard~=2.4->tensorflow) (0.2.8)\n",
            "Requirement already satisfied: requests-oauthlib>=0.7.0 in /usr/local/lib/python3.7/dist-packages (from google-auth-oauthlib<0.5,>=0.4.1->tensorboard~=2.4->tensorflow) (1.3.0)\n",
            "Requirement already satisfied: zipp>=0.5 in /usr/local/lib/python3.7/dist-packages (from importlib-metadata; python_version < \"3.8\"->markdown>=2.6.8->tensorboard~=2.4->tensorflow) (3.4.1)\n",
            "Requirement already satisfied: pyasn1>=0.1.3 in /usr/local/lib/python3.7/dist-packages (from rsa<5,>=3.1.4; python_version >= \"3.6\"->google-auth<2,>=1.6.3->tensorboard~=2.4->tensorflow) (0.4.8)\n",
            "Requirement already satisfied: oauthlib>=3.0.0 in /usr/local/lib/python3.7/dist-packages (from requests-oauthlib>=0.7.0->google-auth-oauthlib<0.5,>=0.4.1->tensorboard~=2.4->tensorflow) (3.1.0)\n"
          ],
          "name": "stdout"
        }
      ]
    },
    {
      "cell_type": "code",
      "metadata": {
        "id": "5l1QJv5o-gdl"
      },
      "source": [
        "import numpy as np\n",
        "import pandas as pd\n",
        "import tensorflow as tf\n",
        "from tensorflow import keras\n",
        "from google.colab import drive\n",
        "from tensorflow.keras.layers.experimental.preprocessing import TextVectorization\n",
        "import re\n",
        "import string"
      ],
      "execution_count": null,
      "outputs": []
    },
    {
      "cell_type": "code",
      "metadata": {
        "colab": {
          "base_uri": "https://localhost:8080/"
        },
        "id": "5rL7_l0U_QWo",
        "outputId": "16a3a7dc-ea5b-46ce-ae0c-365693d69013"
      },
      "source": [
        "drive.mount('/content/drive')"
      ],
      "execution_count": null,
      "outputs": [
        {
          "output_type": "stream",
          "text": [
            "Mounted at /content/drive\n"
          ],
          "name": "stdout"
        }
      ]
    },
    {
      "cell_type": "code",
      "metadata": {
        "id": "lj6XuQ7G_dyx",
        "colab": {
          "base_uri": "https://localhost:8080/",
          "height": 202
        },
        "outputId": "515b50cf-8a89-41b8-a2e1-656f97bddcd7"
      },
      "source": [
        "df = pd.read_csv('/content/drive/MyDrive/ocean-modelC/Data/final_myPersonality.csv')\n",
        "df.head()"
      ],
      "execution_count": null,
      "outputs": [
        {
          "output_type": "execute_result",
          "data": {
            "text/html": [
              "<div>\n",
              "<style scoped>\n",
              "    .dataframe tbody tr th:only-of-type {\n",
              "        vertical-align: middle;\n",
              "    }\n",
              "\n",
              "    .dataframe tbody tr th {\n",
              "        vertical-align: top;\n",
              "    }\n",
              "\n",
              "    .dataframe thead th {\n",
              "        text-align: right;\n",
              "    }\n",
              "</style>\n",
              "<table border=\"1\" class=\"dataframe\">\n",
              "  <thead>\n",
              "    <tr style=\"text-align: right;\">\n",
              "      <th></th>\n",
              "      <th>Unnamed: 0</th>\n",
              "      <th>STATUS</th>\n",
              "      <th>cEXT</th>\n",
              "      <th>cNEU</th>\n",
              "      <th>cAGR</th>\n",
              "      <th>cCON</th>\n",
              "      <th>cOPN</th>\n",
              "    </tr>\n",
              "  </thead>\n",
              "  <tbody>\n",
              "    <tr>\n",
              "      <th>0</th>\n",
              "      <td>0</td>\n",
              "      <td>likes sound thunder.</td>\n",
              "      <td>0</td>\n",
              "      <td>1</td>\n",
              "      <td>0</td>\n",
              "      <td>0</td>\n",
              "      <td>1</td>\n",
              "    </tr>\n",
              "    <tr>\n",
              "      <th>1</th>\n",
              "      <td>1</td>\n",
              "      <td>sleepy even funny get sleep.</td>\n",
              "      <td>0</td>\n",
              "      <td>1</td>\n",
              "      <td>0</td>\n",
              "      <td>0</td>\n",
              "      <td>1</td>\n",
              "    </tr>\n",
              "    <tr>\n",
              "      <th>2</th>\n",
              "      <td>2</td>\n",
              "      <td>sore wants knot muscles base neck stop hurting...</td>\n",
              "      <td>0</td>\n",
              "      <td>1</td>\n",
              "      <td>0</td>\n",
              "      <td>0</td>\n",
              "      <td>1</td>\n",
              "    </tr>\n",
              "    <tr>\n",
              "      <th>3</th>\n",
              "      <td>3</td>\n",
              "      <td>likes day sounds new song.</td>\n",
              "      <td>0</td>\n",
              "      <td>1</td>\n",
              "      <td>0</td>\n",
              "      <td>0</td>\n",
              "      <td>1</td>\n",
              "    </tr>\n",
              "    <tr>\n",
              "      <th>4</th>\n",
              "      <td>4</td>\n",
              "      <td>home. happy face smiley</td>\n",
              "      <td>0</td>\n",
              "      <td>1</td>\n",
              "      <td>0</td>\n",
              "      <td>0</td>\n",
              "      <td>1</td>\n",
              "    </tr>\n",
              "  </tbody>\n",
              "</table>\n",
              "</div>"
            ],
            "text/plain": [
              "   Unnamed: 0                                             STATUS  ...  cCON  cOPN\n",
              "0           0                               likes sound thunder.  ...     0     1\n",
              "1           1                       sleepy even funny get sleep.  ...     0     1\n",
              "2           2  sore wants knot muscles base neck stop hurting...  ...     0     1\n",
              "3           3                         likes day sounds new song.  ...     0     1\n",
              "4           4                            home. happy face smiley  ...     0     1\n",
              "\n",
              "[5 rows x 7 columns]"
            ]
          },
          "metadata": {
            "tags": []
          },
          "execution_count": 4
        }
      ]
    },
    {
      "cell_type": "code",
      "metadata": {
        "id": "Xc9ORNSdBH-5",
        "colab": {
          "base_uri": "https://localhost:8080/"
        },
        "outputId": "6c0f9bb1-ea0e-4f32-e0e2-464d13b69cab"
      },
      "source": [
        "df['cEXT'].value_counts()"
      ],
      "execution_count": null,
      "outputs": [
        {
          "output_type": "execute_result",
          "data": {
            "text/plain": [
              "0    5698\n",
              "1    4206\n",
              "Name: cEXT, dtype: int64"
            ]
          },
          "metadata": {
            "tags": []
          },
          "execution_count": 5
        }
      ]
    },
    {
      "cell_type": "code",
      "metadata": {
        "id": "u7gclQleBUXr",
        "colab": {
          "base_uri": "https://localhost:8080/",
          "height": 354
        },
        "outputId": "d38e21e0-2927-4796-b2bc-1c0af9f65e62"
      },
      "source": [
        "import seaborn as sns\n",
        "\n",
        "sns.barplot(df['cEXT'], df['cEXT'], palette='Set1', estimator=lambda x: len(x) / len(df) )"
      ],
      "execution_count": null,
      "outputs": [
        {
          "output_type": "stream",
          "text": [
            "/usr/local/lib/python3.7/dist-packages/seaborn/_decorators.py:43: FutureWarning: Pass the following variables as keyword args: x, y. From version 0.12, the only valid positional argument will be `data`, and passing other arguments without an explicit keyword will result in an error or misinterpretation.\n",
            "  FutureWarning\n"
          ],
          "name": "stderr"
        },
        {
          "output_type": "execute_result",
          "data": {
            "text/plain": [
              "<matplotlib.axes._subplots.AxesSubplot at 0x7f09cf4cded0>"
            ]
          },
          "metadata": {
            "tags": []
          },
          "execution_count": 6
        },
        {
          "output_type": "display_data",
          "data": {
            "image/png": "[encoded data removed]",
            "text/plain": [
              "<Figure size 432x288 with 1 Axes>"
            ]
          },
          "metadata": {
            "tags": [],
            "needs_background": "light"
          }
        }
      ]
    },
    {
      "cell_type": "code",
      "metadata": {
        "id": "wKDyUXM4Boip",
        "colab": {
          "base_uri": "https://localhost:8080/",
          "height": 202
        },
        "outputId": "b2d94cbb-bd2a-4aa7-f924-e55fbe0a2476"
      },
      "source": [
        "df['cEXT'] = df['cEXT'].astype('category')\n",
        "dataframe = df[['STATUS', 'cEXT']]\n",
        "dataframe.head()"
      ],
      "execution_count": null,
      "outputs": [
        {
          "output_type": "execute_result",
          "data": {
            "text/html": [
              "<div>\n",
              "<style scoped>\n",
              "    .dataframe tbody tr th:only-of-type {\n",
              "        vertical-align: middle;\n",
              "    }\n",
              "\n",
              "    .dataframe tbody tr th {\n",
              "        vertical-align: top;\n",
              "    }\n",
              "\n",
              "    .dataframe thead th {\n",
              "        text-align: right;\n",
              "    }\n",
              "</style>\n",
              "<table border=\"1\" class=\"dataframe\">\n",
              "  <thead>\n",
              "    <tr style=\"text-align: right;\">\n",
              "      <th></th>\n",
              "      <th>STATUS</th>\n",
              "      <th>cEXT</th>\n",
              "    </tr>\n",
              "  </thead>\n",
              "  <tbody>\n",
              "    <tr>\n",
              "      <th>0</th>\n",
              "      <td>likes sound thunder.</td>\n",
              "      <td>0</td>\n",
              "    </tr>\n",
              "    <tr>\n",
              "      <th>1</th>\n",
              "      <td>sleepy even funny get sleep.</td>\n",
              "      <td>0</td>\n",
              "    </tr>\n",
              "    <tr>\n",
              "      <th>2</th>\n",
              "      <td>sore wants knot muscles base neck stop hurting...</td>\n",
              "      <td>0</td>\n",
              "    </tr>\n",
              "    <tr>\n",
              "      <th>3</th>\n",
              "      <td>likes day sounds new song.</td>\n",
              "      <td>0</td>\n",
              "    </tr>\n",
              "    <tr>\n",
              "      <th>4</th>\n",
              "      <td>home. happy face smiley</td>\n",
              "      <td>0</td>\n",
              "    </tr>\n",
              "  </tbody>\n",
              "</table>\n",
              "</div>"
            ],
            "text/plain": [
              "                                              STATUS cEXT\n",
              "0                               likes sound thunder.    0\n",
              "1                       sleepy even funny get sleep.    0\n",
              "2  sore wants knot muscles base neck stop hurting...    0\n",
              "3                         likes day sounds new song.    0\n",
              "4                            home. happy face smiley    0"
            ]
          },
          "metadata": {
            "tags": []
          },
          "execution_count": 7
        }
      ]
    },
    {
      "cell_type": "code",
      "metadata": {
        "id": "mlcQLEY9CRtS",
        "colab": {
          "base_uri": "https://localhost:8080/"
        },
        "outputId": "aa174afa-f5ee-491d-d86b-22c3728ab3f6"
      },
      "source": [
        "val_dataframe = dataframe.sample(frac = 0.1, random_state = 10)\n",
        "train_dataframe = dataframe.drop(val_dataframe.index)\n",
        "val_data, val_labels, train_data, train_labels = val_dataframe['STATUS'], val_dataframe['cEXT'], train_dataframe['STATUS'], train_dataframe['cEXT']\n",
        "print(\"Training Samples => \",len(train_dataframe),\" Validation Samples => \",len(val_dataframe))"
      ],
      "execution_count": null,
      "outputs": [
        {
          "output_type": "stream",
          "text": [
            "Training Samples =>  8914  Validation Samples =>  990\n"
          ],
          "name": "stdout"
        }
      ]
    },
    {
      "cell_type": "code",
      "metadata": {
        "id": "KuGiRo0eDutc"
      },
      "source": [
        "class_names = ['n', 'y']"
      ],
      "execution_count": null,
      "outputs": []
    },
    {
      "cell_type": "code",
      "metadata": {
        "id": "5lwooRU9EITf"
      },
      "source": [
        "vectorizer = TextVectorization(standardize = \"lower_and_strip_punctuation\",\n",
        "                               max_tokens = 20000, \n",
        "                               output_sequence_length = 300,\n",
        "                               output_mode='int')\n",
        "\n",
        "train_ds = tf.data.Dataset.from_tensor_slices(train_data).batch(64)\n",
        "vectorizer.adapt(train_ds)"
      ],
      "execution_count": null,
      "outputs": []
    },
    {
      "cell_type": "code",
      "metadata": {
        "id": "dMwxlpNaHXa-"
      },
      "source": [
        "voc = vectorizer.get_vocabulary()\n",
        "word_index = dict(zip(voc, range(len(voc))))"
      ],
      "execution_count": null,
      "outputs": []
    },
    {
      "cell_type": "code",
      "metadata": {
        "id": "oqxOaZeaJjrz",
        "colab": {
          "base_uri": "https://localhost:8080/"
        },
        "outputId": "3fe1b705-814d-46fc-892b-562122f3c124"
      },
      "source": [
        "path_to_glove_file = '/content/drive/MyDrive/ocean-modelC/Data/glove.6B.100d.txt'\n",
        "\n",
        "embeddings_index = {}\n",
        "with open(path_to_glove_file) as f:\n",
        "    for line in f:\n",
        "        word, coefs = line.split(maxsplit=1)\n",
        "        coefs = np.fromstring(coefs, \"f\", sep=\" \")\n",
        "        embeddings_index[word] = coefs\n",
        "\n",
        "print(\"Found %s word vectors.\" % len(embeddings_index))"
      ],
      "execution_count": null,
      "outputs": [
        {
          "output_type": "stream",
          "text": [
            "Found 400000 word vectors.\n"
          ],
          "name": "stdout"
        }
      ]
    },
    {
      "cell_type": "code",
      "metadata": {
        "id": "_Zg2ziBmOwk-",
        "colab": {
          "base_uri": "https://localhost:8080/"
        },
        "outputId": "5dea13af-52fe-4542-cd28-72a27d5fd07e"
      },
      "source": [
        "num_tokens = len(voc) + 2\n",
        "embedding_dim = 100\n",
        "hits = 0\n",
        "misses = 0\n",
        "\n",
        "embedding_matrix = np.zeros((num_tokens, embedding_dim))\n",
        "for word, i in word_index.items():\n",
        "    embedding_vector = embeddings_index.get(word)\n",
        "    if embedding_vector is not None:\n",
        "        embedding_matrix[i] = embedding_vector\n",
        "        hits += 1\n",
        "    else:\n",
        "        misses += 1\n",
        "print(\"Converted %d words (%d misses)\" % (hits, misses))"
      ],
      "execution_count": null,
      "outputs": [
        {
          "output_type": "stream",
          "text": [
            "Converted 12437 words (3949 misses)\n"
          ],
          "name": "stdout"
        }
      ]
    },
    {
      "cell_type": "code",
      "metadata": {
        "id": "H6yf41aRO7IW"
      },
      "source": [
        "from tensorflow.keras.layers import Embedding\n",
        "\n",
        "embedding_layer = Embedding(\n",
        "    num_tokens,\n",
        "    embedding_dim,\n",
        "    embeddings_initializer = keras.initializers.Constant(embedding_matrix),\n",
        "    trainable = False,\n",
        ")"
      ],
      "execution_count": null,
      "outputs": []
    },
    {
      "cell_type": "code",
      "metadata": {
        "id": "XSCiHxxnPCG9",
        "colab": {
          "base_uri": "https://localhost:8080/"
        },
        "outputId": "e520ba6c-b442-44c6-94ca-272289924842"
      },
      "source": [
        "from tensorflow.keras import layers\n",
        "xavier =  tf.keras.initializers.GlorotNormal()\n",
        "\n",
        "int_sequences_input = keras.Input(shape=(None,), dtype=\"int64\")\n",
        "embedded_sequences = embedding_layer(int_sequences_input)\n",
        "x = layers.Bidirectional(layers.LSTM(64, dropout = 0.15))(embedded_sequences)\n",
        "x = layers.Dense(8, activation=\"relu\")(x)\n",
        "x = layers.BatchNormalization()(x)\n",
        "x = layers.Dropout(0.15)(x)\n",
        "\n",
        "predictions = layers.Dense(2, activation=\"relu\", name=\"predictions\")(x)\n",
        "model = tf.keras.Model(int_sequences_input, predictions)\n",
        "\n",
        "model.summary()"
      ],
      "execution_count": null,
      "outputs": [
        {
          "output_type": "stream",
          "text": [
            "Model: \"model\"\n",
            "_________________________________________________________________\n",
            "Layer (type)                 Output Shape              Param #   \n",
            "=================================================================\n",
            "input_1 (InputLayer)         [(None, None)]            0         \n",
            "_________________________________________________________________\n",
            "embedding (Embedding)        (None, None, 100)         1638800   \n",
            "_________________________________________________________________\n",
            "bidirectional (Bidirectional (None, 128)               84480     \n",
            "_________________________________________________________________\n",
            "dense (Dense)                (None, 8)                 1032      \n",
            "_________________________________________________________________\n",
            "batch_normalization (BatchNo (None, 8)                 32        \n",
            "_________________________________________________________________\n",
            "dropout (Dropout)            (None, 8)                 0         \n",
            "_________________________________________________________________\n",
            "predictions (Dense)          (None, 2)                 18        \n",
            "=================================================================\n",
            "Total params: 1,724,362\n",
            "Trainable params: 85,546\n",
            "Non-trainable params: 1,638,816\n",
            "_________________________________________________________________\n"
          ],
          "name": "stdout"
        }
      ]
    },
    {
      "cell_type": "code",
      "metadata": {
        "id": "cdZq0AW2PEgV"
      },
      "source": [
        "X_train = vectorizer(np.array([[s] for s in train_data])).numpy()\n",
        "X_val = vectorizer(np.array([[s] for s in val_data])).numpy()\n",
        "\n",
        "y_train = np.array(train_labels)\n",
        "y_val = np.array(val_labels)"
      ],
      "execution_count": null,
      "outputs": []
    },
    {
      "cell_type": "code",
      "metadata": {
        "id": "6WSsjwluPHXs",
        "colab": {
          "base_uri": "https://localhost:8080/"
        },
        "outputId": "f80440b6-5d64-44b0-fce1-d03811fe149f"
      },
      "source": [
        "from sklearn.utils import compute_class_weight\n",
        "\n",
        "classWeight = compute_class_weight('balanced', [0,1], df['cEXT']) \n",
        "classWeight = dict(enumerate(classWeight))\n",
        "print(classWeight)"
      ],
      "execution_count": null,
      "outputs": [
        {
          "output_type": "stream",
          "text": [
            "{0: 0.8690768690768691, 1: 1.1773656680932}\n"
          ],
          "name": "stdout"
        }
      ]
    },
    {
      "cell_type": "code",
      "metadata": {
        "id": "FpQAv8W6PKSM",
        "colab": {
          "base_uri": "https://localhost:8080/"
        },
        "outputId": "ef110822-478e-4980-a46c-9053abb159ea"
      },
      "source": [
        "rms = tf.keras.optimizers.RMSprop(learning_rate=5*1e-5, rho=0.9, momentum=0.25, epsilon=1e-07)\n",
        "\n",
        "model.compile(loss = \"sparse_categorical_crossentropy\", optimizer = rms, metrics = [\"acc\"])\n",
        "\n",
        "history = model.fit(X_train, y_train, batch_size = 128, epochs = 40, validation_data = (X_val, y_val), class_weight=classWeight)"
      ],
      "execution_count": null,
      "outputs": [
        {
          "output_type": "stream",
          "text": [
            "Epoch 1/40\n",
            "70/70 [==============================] - 56s 751ms/step - loss: 3.3421 - acc: 0.5479 - val_loss: 4.8061 - val_acc: 0.5010\n",
            "Epoch 2/40\n",
            "70/70 [==============================] - 51s 726ms/step - loss: 3.3468 - acc: 0.5345 - val_loss: 4.2132 - val_acc: 0.5152\n",
            "Epoch 3/40\n",
            "70/70 [==============================] - 51s 724ms/step - loss: 3.2180 - acc: 0.5363 - val_loss: 3.8627 - val_acc: 0.5182\n",
            "Epoch 4/40\n",
            "70/70 [==============================] - 51s 723ms/step - loss: 3.2150 - acc: 0.5299 - val_loss: 3.7202 - val_acc: 0.5222\n",
            "Epoch 5/40\n",
            "70/70 [==============================] - 51s 723ms/step - loss: 3.0887 - acc: 0.5382 - val_loss: 3.4551 - val_acc: 0.5394\n",
            "Epoch 6/40\n",
            "70/70 [==============================] - 51s 723ms/step - loss: 3.0294 - acc: 0.5342 - val_loss: 3.4859 - val_acc: 0.5303\n",
            "Epoch 7/40\n",
            "70/70 [==============================] - 51s 724ms/step - loss: 2.9485 - acc: 0.5346 - val_loss: 3.1528 - val_acc: 0.5384\n",
            "Epoch 8/40\n",
            "70/70 [==============================] - 51s 726ms/step - loss: 2.8642 - acc: 0.5431 - val_loss: 2.9700 - val_acc: 0.5343\n",
            "Epoch 9/40\n",
            "70/70 [==============================] - 51s 724ms/step - loss: 2.9519 - acc: 0.5418 - val_loss: 2.9483 - val_acc: 0.5343\n",
            "Epoch 10/40\n",
            "70/70 [==============================] - 51s 727ms/step - loss: 2.7687 - acc: 0.5437 - val_loss: 2.8495 - val_acc: 0.5394\n",
            "Epoch 11/40\n",
            "70/70 [==============================] - 51s 732ms/step - loss: 2.8669 - acc: 0.5311 - val_loss: 2.7380 - val_acc: 0.5424\n",
            "Epoch 12/40\n",
            "70/70 [==============================] - 51s 732ms/step - loss: 2.7265 - acc: 0.5467 - val_loss: 2.6356 - val_acc: 0.5455\n",
            "Epoch 13/40\n",
            "70/70 [==============================] - 51s 723ms/step - loss: 2.6811 - acc: 0.5403 - val_loss: 2.6123 - val_acc: 0.5404\n",
            "Epoch 14/40\n",
            "70/70 [==============================] - 50s 721ms/step - loss: 2.6786 - acc: 0.5353 - val_loss: 2.4501 - val_acc: 0.5505\n",
            "Epoch 15/40\n",
            "70/70 [==============================] - 51s 727ms/step - loss: 2.5338 - acc: 0.5498 - val_loss: 2.3175 - val_acc: 0.5525\n",
            "Epoch 16/40\n",
            "70/70 [==============================] - 51s 728ms/step - loss: 2.5477 - acc: 0.5366 - val_loss: 2.3731 - val_acc: 0.5414\n",
            "Epoch 17/40\n",
            "70/70 [==============================] - 51s 730ms/step - loss: 2.4661 - acc: 0.5358 - val_loss: 2.3012 - val_acc: 0.5556\n",
            "Epoch 18/40\n",
            "70/70 [==============================] - 51s 727ms/step - loss: 2.3992 - acc: 0.5353 - val_loss: 2.3646 - val_acc: 0.5364\n",
            "Epoch 19/40\n",
            "70/70 [==============================] - 51s 724ms/step - loss: 2.3771 - acc: 0.5452 - val_loss: 2.1617 - val_acc: 0.5485\n",
            "Epoch 20/40\n",
            "70/70 [==============================] - 51s 725ms/step - loss: 2.3823 - acc: 0.5397 - val_loss: 2.1366 - val_acc: 0.5495\n",
            "Epoch 21/40\n",
            "70/70 [==============================] - 51s 724ms/step - loss: 2.1755 - acc: 0.5482 - val_loss: 2.0976 - val_acc: 0.5434\n",
            "Epoch 22/40\n",
            "70/70 [==============================] - 51s 726ms/step - loss: 2.2155 - acc: 0.5481 - val_loss: 2.1111 - val_acc: 0.5414\n",
            "Epoch 23/40\n",
            "70/70 [==============================] - 51s 727ms/step - loss: 2.2242 - acc: 0.5334 - val_loss: 1.9294 - val_acc: 0.5475\n",
            "Epoch 24/40\n",
            "70/70 [==============================] - 51s 725ms/step - loss: 2.0082 - acc: 0.5492 - val_loss: 1.9062 - val_acc: 0.5475\n",
            "Epoch 25/40\n",
            "70/70 [==============================] - 51s 728ms/step - loss: 2.0643 - acc: 0.5438 - val_loss: 1.8458 - val_acc: 0.5434\n",
            "Epoch 26/40\n",
            "70/70 [==============================] - 51s 725ms/step - loss: 2.0452 - acc: 0.5345 - val_loss: 1.8300 - val_acc: 0.5505\n",
            "Epoch 27/40\n",
            "70/70 [==============================] - 51s 721ms/step - loss: 2.0582 - acc: 0.5550 - val_loss: 1.7477 - val_acc: 0.5515\n",
            "Epoch 28/40\n",
            "70/70 [==============================] - 51s 727ms/step - loss: 1.9662 - acc: 0.5371 - val_loss: 1.7046 - val_acc: 0.5515\n",
            "Epoch 29/40\n",
            "70/70 [==============================] - 51s 729ms/step - loss: 1.8889 - acc: 0.5369 - val_loss: 1.6551 - val_acc: 0.5505\n",
            "Epoch 30/40\n",
            "70/70 [==============================] - 51s 729ms/step - loss: 1.8661 - acc: 0.5432 - val_loss: 1.8407 - val_acc: 0.5374\n",
            "Epoch 31/40\n",
            "70/70 [==============================] - 51s 728ms/step - loss: 1.8545 - acc: 0.5408 - val_loss: 1.8221 - val_acc: 0.5364\n",
            "Epoch 32/40\n",
            "70/70 [==============================] - 51s 729ms/step - loss: 1.8659 - acc: 0.5459 - val_loss: 2.2124 - val_acc: 0.5091\n",
            "Epoch 33/40\n",
            "70/70 [==============================] - 51s 731ms/step - loss: 1.8174 - acc: 0.5314 - val_loss: 1.5668 - val_acc: 0.5374\n",
            "Epoch 34/40\n",
            "70/70 [==============================] - 51s 727ms/step - loss: 1.7015 - acc: 0.5396 - val_loss: 1.5765 - val_acc: 0.5293\n",
            "Epoch 35/40\n",
            "70/70 [==============================] - 50s 722ms/step - loss: 1.7659 - acc: 0.5306 - val_loss: 1.5292 - val_acc: 0.5384\n",
            "Epoch 36/40\n",
            "70/70 [==============================] - 51s 728ms/step - loss: 1.7282 - acc: 0.5429 - val_loss: 1.5249 - val_acc: 0.5404\n",
            "Epoch 37/40\n",
            "70/70 [==============================] - 51s 730ms/step - loss: 1.6614 - acc: 0.5349 - val_loss: 1.4927 - val_acc: 0.5253\n",
            "Epoch 38/40\n",
            "70/70 [==============================] - 51s 725ms/step - loss: 1.6885 - acc: 0.5502 - val_loss: 1.8396 - val_acc: 0.5343\n",
            "Epoch 39/40\n",
            "70/70 [==============================] - 51s 725ms/step - loss: 1.5364 - acc: 0.5397 - val_loss: 1.4875 - val_acc: 0.5354\n",
            "Epoch 40/40\n",
            "70/70 [==============================] - 51s 727ms/step - loss: 1.5583 - acc: 0.5456 - val_loss: 1.4415 - val_acc: 0.5414\n"
          ],
          "name": "stdout"
        }
      ]
    },
    {
      "cell_type": "code",
      "metadata": {
        "id": "HarcHuDhPM5L",
        "colab": {
          "base_uri": "https://localhost:8080/"
        },
        "outputId": "d5033bbd-0efa-4692-b882-6e33cf70e357"
      },
      "source": [
        "score, acc = model.evaluate(x=(X_val), y=(y_val))\n",
        "print('Test score:', score)\n",
        "print('Test accuracy:', acc)"
      ],
      "execution_count": null,
      "outputs": [
        {
          "output_type": "stream",
          "text": [
            "31/31 [==============================] - 2s 58ms/step - loss: 1.4415 - acc: 0.5414\n",
            "Test score: 1.4415184259414673\n",
            "Test accuracy: 0.5414141416549683\n"
          ],
          "name": "stdout"
        }
      ]
    },
    {
      "cell_type": "code",
      "metadata": {
        "id": "uWUkfwOiPQXy",
        "colab": {
          "base_uri": "https://localhost:8080/",
          "height": 573
        },
        "outputId": "b13a57b3-4485-4dc0-8876-af37a5ecbfb6"
      },
      "source": [
        "import matplotlib.pyplot as plt\n",
        "\n",
        "plt.plot(history.history['acc'])\n",
        "plt.plot(history.history['val_acc'])\n",
        "plt.title('model accuracy')\n",
        "plt.ylabel('accuracy')\n",
        "plt.xlabel('epoch')\n",
        "plt.legend(['train', 'test'], loc='upper left')\n",
        "plt.show()\n",
        "\n",
        "plt.plot(history.history['loss'])\n",
        "plt.plot(history.history['val_loss'])\n",
        "plt.title('model loss')\n",
        "plt.ylabel('loss')\n",
        "plt.xlabel('epoch')\n",
        "plt.legend(['train', 'test'], loc='upper left')\n",
        "plt.show()"
      ],
      "execution_count": null,
      "outputs": [
        {
          "output_type": "display_data",
          "data": {
            "image/png": "[encoded data removed]",
            "text/plain": [
              "<Figure size 432x288 with 1 Axes>"
            ]
          },
          "metadata": {
            "tags": [],
            "needs_background": "light"
          }
        },
        {
          "output_type": "display_data",
          "data": {
            "image/png": "[encoded data removed]",
            "text/plain": [
              "<Figure size 432x288 with 1 Axes>"
            ]
          },
          "metadata": {
            "tags": [],
            "needs_background": "light"
          }
        }
      ]
    },
    {
      "cell_type": "code",
      "metadata": {
        "id": "3IOgm-P5Pe1X",
        "colab": {
          "base_uri": "https://localhost:8080/"
        },
        "outputId": "7f3a3e6d-1762-4a01-8f48-55d3a89c8f1a"
      },
      "source": [
        "from sklearn.metrics import classification_report, confusion_matrix\n",
        "\n",
        "y_pred = model.predict(X_val)\n",
        "y_pred = np.argmax(y_pred, axis=1)\n",
        "print('Confusion Matrix')\n",
        "print(confusion_matrix(y_val, y_pred))"
      ],
      "execution_count": null,
      "outputs": [
        {
          "output_type": "stream",
          "text": [
            "Confusion Matrix\n",
            "[[402 163]\n",
            " [291 134]]\n"
          ],
          "name": "stdout"
        }
      ]
    },
    {
      "cell_type": "code",
      "metadata": {
        "id": "BXWwx2fuPiSw",
        "colab": {
          "base_uri": "https://localhost:8080/"
        },
        "outputId": "8008d610-e276-4b6b-b09c-ad1c41a701e9"
      },
      "source": [
        "print('Classification Report')\n",
        "target_names = class_names\n",
        "print(classification_report(y_val, y_pred, target_names=target_names))"
      ],
      "execution_count": null,
      "outputs": [
        {
          "output_type": "stream",
          "text": [
            "Classification Report\n",
            "              precision    recall  f1-score   support\n",
            "\n",
            "           n       0.58      0.71      0.64       565\n",
            "           y       0.45      0.32      0.37       425\n",
            "\n",
            "    accuracy                           0.54       990\n",
            "   macro avg       0.52      0.51      0.51       990\n",
            "weighted avg       0.52      0.54      0.52       990\n",
            "\n"
          ],
          "name": "stdout"
        }
      ]
    },
    {
      "cell_type": "code",
      "metadata": {
        "id": "2NvZpkhrPmvz",
        "colab": {
          "base_uri": "https://localhost:8080/",
          "height": 35
        },
        "outputId": "198ed4c3-bac7-4e26-c557-9c11bf7724bc"
      },
      "source": [
        "string_input = keras.Input(shape=(1,), dtype=\"string\")\n",
        "x = vectorizer(string_input)\n",
        "preds = model(x)\n",
        "end_to_end_model = keras.Model(string_input, preds)\n",
        "\n",
        "probabilities = end_to_end_model.predict(\n",
        "    [[\"I  love new experiences\"]]\n",
        ")\n",
        "\n",
        "class_names[np.argmax(probabilities[0])]"
      ],
      "execution_count": null,
      "outputs": [
        {
          "output_type": "execute_result",
          "data": {
            "application/vnd.google.colaboratory.intrinsic+json": {
              "type": "string"
            },
            "text/plain": [
              "'y'"
            ]
          },
          "metadata": {
            "tags": []
          },
          "execution_count": 23
        }
      ]
    },
    {
      "cell_type": "code",
      "metadata": {
        "id": "6KBIcxcPVaFE"
      },
      "source": [
        "rms = tf.keras.optimizers.RMSprop(learning_rate=5*1e-5, rho=0.9, momentum=0.25, epsilon=1e-07)\n",
        "end_to_end_model.compile(loss = \"sparse_categorical_crossentropy\", optimizer = rms, metrics = [\"acc\"])"
      ],
      "execution_count": null,
      "outputs": []
    },
    {
      "cell_type": "code",
      "metadata": {
        "colab": {
          "base_uri": "https://localhost:8080/"
        },
        "id": "i2YtoXXHV3xK",
        "outputId": "e1cd2adc-9b4a-41ef-9a56-41a578c3eebe"
      },
      "source": [
        "end_to_end_model.save('/content/drive/MyDrive/ocean-modelC/Models/EModel_54_55', save_format='tf')"
      ],
      "execution_count": null,
      "outputs": [
        {
          "output_type": "stream",
          "text": [
            "WARNING:absl:Found untraced functions such as lstm_cell_1_layer_call_fn, lstm_cell_1_layer_call_and_return_conditional_losses, lstm_cell_2_layer_call_fn, lstm_cell_2_layer_call_and_return_conditional_losses, lstm_cell_1_layer_call_fn while saving (showing 5 of 10). These functions will not be directly callable after loading.\n",
            "WARNING:absl:Found untraced functions such as lstm_cell_1_layer_call_fn, lstm_cell_1_layer_call_and_return_conditional_losses, lstm_cell_2_layer_call_fn, lstm_cell_2_layer_call_and_return_conditional_losses, lstm_cell_1_layer_call_fn while saving (showing 5 of 10). These functions will not be directly callable after loading.\n"
          ],
          "name": "stderr"
        },
        {
          "output_type": "stream",
          "text": [
            "INFO:tensorflow:Assets written to: /content/drive/MyDrive/ocean-modelC/Models/EModel_54_55/assets\n"
          ],
          "name": "stdout"
        },
        {
          "output_type": "stream",
          "text": [
            "INFO:tensorflow:Assets written to: /content/drive/MyDrive/ocean-modelC/Models/EModel_54_55/assets\n"
          ],
          "name": "stderr"
        }
      ]
    },
    {
      "cell_type": "code",
      "metadata": {
        "id": "7twz9-ccV6eA"
      },
      "source": [
        "Emodel = keras.models.load_model('/content/drive/MyDrive/ocean-modelC/Models/EModel_54_55')"
      ],
      "execution_count": null,
      "outputs": []
    },
    {
      "cell_type": "code",
      "metadata": {
        "colab": {
          "base_uri": "https://localhost:8080/"
        },
        "id": "sFVIHgbcWBOt",
        "outputId": "ff352364-d82c-4eba-8e96-c411fa6f8b6a"
      },
      "source": [
        "print(class_names[np.argmax(Emodel.predict([['I like new experiences']]))])"
      ],
      "execution_count": null,
      "outputs": [
        {
          "output_type": "stream",
          "text": [
            "y\n"
          ],
          "name": "stdout"
        }
      ]
    }
  ]
}