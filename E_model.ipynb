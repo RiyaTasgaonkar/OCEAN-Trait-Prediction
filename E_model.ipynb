{
  "nbformat": 4,
  "nbformat_minor": 0,
  "metadata": {
    "colab": {
      "name": "E_model.ipynb",
      "provenance": [],
      "collapsed_sections": []
    },
    "kernelspec": {
      "display_name": "Python 3",
      "name": "python3"
    },
    "language_info": {
      "name": "python"
    }
  },
  "cells": [
    {
      "cell_type": "code",
      "metadata": {
        "colab": {
          "base_uri": "https://localhost:8080/"
        },
        "id": "ybti9l5A9y_1",
        "outputId": "51a8ca10-4aca-4cd2-ba55-9d0499ea22a2"
      },
      "source": [
        "!pip install tensorflow"
      ],
      "execution_count": null,
      "outputs": [
        {
          "output_type": "stream",
          "text": [
            "Requirement already satisfied: tensorflow in /usr/local/lib/python3.7/dist-packages (2.4.1)\n",
            "Requirement already satisfied: flatbuffers~=1.12.0 in /usr/local/lib/python3.7/dist-packages (from tensorflow) (1.12)\n",
            "Requirement already satisfied: wrapt~=1.12.1 in /usr/local/lib/python3.7/dist-packages (from tensorflow) (1.12.1)\n",
            "Requirement already satisfied: tensorboard~=2.4 in /usr/local/lib/python3.7/dist-packages (from tensorflow) (2.4.1)\n",
            "Requirement already satisfied: absl-py~=0.10 in /usr/local/lib/python3.7/dist-packages (from tensorflow) (0.12.0)\n",
            "Requirement already satisfied: typing-extensions~=3.7.4 in /usr/local/lib/python3.7/dist-packages (from tensorflow) (3.7.4.3)\n",
            "Requirement already satisfied: h5py~=2.10.0 in /usr/local/lib/python3.7/dist-packages (from tensorflow) (2.10.0)\n",
            "Requirement already satisfied: opt-einsum~=3.3.0 in /usr/local/lib/python3.7/dist-packages (from tensorflow) (3.3.0)\n",
            "Requirement already satisfied: termcolor~=1.1.0 in /usr/local/lib/python3.7/dist-packages (from tensorflow) (1.1.0)\n",
            "Requirement already satisfied: gast==0.3.3 in /usr/local/lib/python3.7/dist-packages (from tensorflow) (0.3.3)\n",
            "Requirement already satisfied: grpcio~=1.32.0 in /usr/local/lib/python3.7/dist-packages (from tensorflow) (1.32.0)\n",
            "Requirement already satisfied: tensorflow-estimator<2.5.0,>=2.4.0 in /usr/local/lib/python3.7/dist-packages (from tensorflow) (2.4.0)\n",
            "Requirement already satisfied: wheel~=0.35 in /usr/local/lib/python3.7/dist-packages (from tensorflow) (0.36.2)\n",
            "Requirement already satisfied: numpy~=1.19.2 in /usr/local/lib/python3.7/dist-packages (from tensorflow) (1.19.5)\n",
            "Requirement already satisfied: google-pasta~=0.2 in /usr/local/lib/python3.7/dist-packages (from tensorflow) (0.2.0)\n",
            "Requirement already satisfied: protobuf>=3.9.2 in /usr/local/lib/python3.7/dist-packages (from tensorflow) (3.12.4)\n",
            "Requirement already satisfied: six~=1.15.0 in /usr/local/lib/python3.7/dist-packages (from tensorflow) (1.15.0)\n",
            "Requirement already satisfied: astunparse~=1.6.3 in /usr/local/lib/python3.7/dist-packages (from tensorflow) (1.6.3)\n",
            "Requirement already satisfied: keras-preprocessing~=1.1.2 in /usr/local/lib/python3.7/dist-packages (from tensorflow) (1.1.2)\n",
            "Requirement already satisfied: markdown>=2.6.8 in /usr/local/lib/python3.7/dist-packages (from tensorboard~=2.4->tensorflow) (3.3.4)\n",
            "Requirement already satisfied: setuptools>=41.0.0 in /usr/local/lib/python3.7/dist-packages (from tensorboard~=2.4->tensorflow) (54.2.0)\n",
            "Requirement already satisfied: werkzeug>=0.11.15 in /usr/local/lib/python3.7/dist-packages (from tensorboard~=2.4->tensorflow) (1.0.1)\n",
            "Requirement already satisfied: google-auth<2,>=1.6.3 in /usr/local/lib/python3.7/dist-packages (from tensorboard~=2.4->tensorflow) (1.28.1)\n",
            "Requirement already satisfied: google-auth-oauthlib<0.5,>=0.4.1 in /usr/local/lib/python3.7/dist-packages (from tensorboard~=2.4->tensorflow) (0.4.4)\n",
            "Requirement already satisfied: tensorboard-plugin-wit>=1.6.0 in /usr/local/lib/python3.7/dist-packages (from tensorboard~=2.4->tensorflow) (1.8.0)\n",
            "Requirement already satisfied: requests<3,>=2.21.0 in /usr/local/lib/python3.7/dist-packages (from tensorboard~=2.4->tensorflow) (2.23.0)\n",
            "Requirement already satisfied: importlib-metadata; python_version < \"3.8\" in /usr/local/lib/python3.7/dist-packages (from markdown>=2.6.8->tensorboard~=2.4->tensorflow) (3.10.0)\n",
            "Requirement already satisfied: cachetools<5.0,>=2.0.0 in /usr/local/lib/python3.7/dist-packages (from google-auth<2,>=1.6.3->tensorboard~=2.4->tensorflow) (4.2.1)\n",
            "Requirement already satisfied: rsa<5,>=3.1.4; python_version >= \"3.6\" in /usr/local/lib/python3.7/dist-packages (from google-auth<2,>=1.6.3->tensorboard~=2.4->tensorflow) (4.7.2)\n",
            "Requirement already satisfied: pyasn1-modules>=0.2.1 in /usr/local/lib/python3.7/dist-packages (from google-auth<2,>=1.6.3->tensorboard~=2.4->tensorflow) (0.2.8)\n",
            "Requirement already satisfied: requests-oauthlib>=0.7.0 in /usr/local/lib/python3.7/dist-packages (from google-auth-oauthlib<0.5,>=0.4.1->tensorboard~=2.4->tensorflow) (1.3.0)\n",
            "Requirement already satisfied: chardet<4,>=3.0.2 in /usr/local/lib/python3.7/dist-packages (from requests<3,>=2.21.0->tensorboard~=2.4->tensorflow) (3.0.4)\n",
            "Requirement already satisfied: urllib3!=1.25.0,!=1.25.1,<1.26,>=1.21.1 in /usr/local/lib/python3.7/dist-packages (from requests<3,>=2.21.0->tensorboard~=2.4->tensorflow) (1.24.3)\n",
            "Requirement already satisfied: idna<3,>=2.5 in /usr/local/lib/python3.7/dist-packages (from requests<3,>=2.21.0->tensorboard~=2.4->tensorflow) (2.10)\n",
            "Requirement already satisfied: certifi>=2017.4.17 in /usr/local/lib/python3.7/dist-packages (from requests<3,>=2.21.0->tensorboard~=2.4->tensorflow) (2020.12.5)\n",
            "Requirement already satisfied: zipp>=0.5 in /usr/local/lib/python3.7/dist-packages (from importlib-metadata; python_version < \"3.8\"->markdown>=2.6.8->tensorboard~=2.4->tensorflow) (3.4.1)\n",
            "Requirement already satisfied: pyasn1>=0.1.3 in /usr/local/lib/python3.7/dist-packages (from rsa<5,>=3.1.4; python_version >= \"3.6\"->google-auth<2,>=1.6.3->tensorboard~=2.4->tensorflow) (0.4.8)\n",
            "Requirement already satisfied: oauthlib>=3.0.0 in /usr/local/lib/python3.7/dist-packages (from requests-oauthlib>=0.7.0->google-auth-oauthlib<0.5,>=0.4.1->tensorboard~=2.4->tensorflow) (3.1.0)\n"
          ],
          "name": "stdout"
        }
      ]
    },
    {
      "cell_type": "code",
      "metadata": {
        "id": "5l1QJv5o-gdl"
      },
      "source": [
        "import numpy as np\n",
        "import pandas as pd\n",
        "import tensorflow as tf\n",
        "from tensorflow import keras\n",
        "from google.colab import drive\n",
        "from tensorflow.keras.layers.experimental.preprocessing import TextVectorization\n",
        "import re\n",
        "import string"
      ],
      "execution_count": null,
      "outputs": []
    },
    {
      "cell_type": "code",
      "metadata": {
        "colab": {
          "base_uri": "https://localhost:8080/"
        },
        "id": "5rL7_l0U_QWo",
        "outputId": "c81a2f96-f490-4692-ba39-e12d5abd0020"
      },
      "source": [
        "drive.mount('/content/drive')"
      ],
      "execution_count": null,
      "outputs": [
        {
          "output_type": "stream",
          "text": [
            "Drive already mounted at /content/drive; to attempt to forcibly remount, call drive.mount(\"/content/drive\", force_remount=True).\n"
          ],
          "name": "stdout"
        }
      ]
    },
    {
      "cell_type": "code",
      "metadata": {
        "id": "lj6XuQ7G_dyx",
        "colab": {
          "base_uri": "https://localhost:8080/",
          "height": 202
        },
        "outputId": "deff3465-3b25-4919-bbe8-6895f434e4fa"
      },
      "source": [
        "df = pd.read_csv('/content/drive/MyDrive/ocean-modelC/Data/final_myPersonality.csv')\n",
        "df.head()"
      ],
      "execution_count": null,
      "outputs": [
        {
          "output_type": "execute_result",
          "data": {
            "text/html": [
              "<div>\n",
              "<style scoped>\n",
              "    .dataframe tbody tr th:only-of-type {\n",
              "        vertical-align: middle;\n",
              "    }\n",
              "\n",
              "    .dataframe tbody tr th {\n",
              "        vertical-align: top;\n",
              "    }\n",
              "\n",
              "    .dataframe thead th {\n",
              "        text-align: right;\n",
              "    }\n",
              "</style>\n",
              "<table border=\"1\" class=\"dataframe\">\n",
              "  <thead>\n",
              "    <tr style=\"text-align: right;\">\n",
              "      <th></th>\n",
              "      <th>Unnamed: 0</th>\n",
              "      <th>STATUS</th>\n",
              "      <th>cEXT</th>\n",
              "      <th>cNEU</th>\n",
              "      <th>cAGR</th>\n",
              "      <th>cCON</th>\n",
              "      <th>cOPN</th>\n",
              "    </tr>\n",
              "  </thead>\n",
              "  <tbody>\n",
              "    <tr>\n",
              "      <th>0</th>\n",
              "      <td>0</td>\n",
              "      <td>likes sound thunder.</td>\n",
              "      <td>0</td>\n",
              "      <td>1</td>\n",
              "      <td>0</td>\n",
              "      <td>0</td>\n",
              "      <td>1</td>\n",
              "    </tr>\n",
              "    <tr>\n",
              "      <th>1</th>\n",
              "      <td>1</td>\n",
              "      <td>sleepy even funny get sleep.</td>\n",
              "      <td>0</td>\n",
              "      <td>1</td>\n",
              "      <td>0</td>\n",
              "      <td>0</td>\n",
              "      <td>1</td>\n",
              "    </tr>\n",
              "    <tr>\n",
              "      <th>2</th>\n",
              "      <td>2</td>\n",
              "      <td>sore wants knot muscles base neck stop hurting...</td>\n",
              "      <td>0</td>\n",
              "      <td>1</td>\n",
              "      <td>0</td>\n",
              "      <td>0</td>\n",
              "      <td>1</td>\n",
              "    </tr>\n",
              "    <tr>\n",
              "      <th>3</th>\n",
              "      <td>3</td>\n",
              "      <td>likes day sounds new song.</td>\n",
              "      <td>0</td>\n",
              "      <td>1</td>\n",
              "      <td>0</td>\n",
              "      <td>0</td>\n",
              "      <td>1</td>\n",
              "    </tr>\n",
              "    <tr>\n",
              "      <th>4</th>\n",
              "      <td>4</td>\n",
              "      <td>home. happy face smiley</td>\n",
              "      <td>0</td>\n",
              "      <td>1</td>\n",
              "      <td>0</td>\n",
              "      <td>0</td>\n",
              "      <td>1</td>\n",
              "    </tr>\n",
              "  </tbody>\n",
              "</table>\n",
              "</div>"
            ],
            "text/plain": [
              "   Unnamed: 0                                             STATUS  ...  cCON  cOPN\n",
              "0           0                               likes sound thunder.  ...     0     1\n",
              "1           1                       sleepy even funny get sleep.  ...     0     1\n",
              "2           2  sore wants knot muscles base neck stop hurting...  ...     0     1\n",
              "3           3                         likes day sounds new song.  ...     0     1\n",
              "4           4                            home. happy face smiley  ...     0     1\n",
              "\n",
              "[5 rows x 7 columns]"
            ]
          },
          "metadata": {
            "tags": []
          },
          "execution_count": 103
        }
      ]
    },
    {
      "cell_type": "code",
      "metadata": {
        "id": "Xc9ORNSdBH-5",
        "colab": {
          "base_uri": "https://localhost:8080/"
        },
        "outputId": "b8447819-cd26-495b-ab2e-e19d7b2a1c20"
      },
      "source": [
        "df['cEXT'].value_counts()"
      ],
      "execution_count": null,
      "outputs": [
        {
          "output_type": "execute_result",
          "data": {
            "text/plain": [
              "0    5698\n",
              "1    4206\n",
              "Name: cEXT, dtype: int64"
            ]
          },
          "metadata": {
            "tags": []
          },
          "execution_count": 104
        }
      ]
    },
    {
      "cell_type": "code",
      "metadata": {
        "id": "u7gclQleBUXr",
        "colab": {
          "base_uri": "https://localhost:8080/",
          "height": 354
        },
        "outputId": "5f13c15f-6fd7-439d-9813-82fc8cd5ffb5"
      },
      "source": [
        "import seaborn as sns\n",
        "\n",
        "sns.barplot(df['cEXT'], df['cEXT'], palette='Set1', estimator=lambda x: len(x) / len(df) )"
      ],
      "execution_count": null,
      "outputs": [
        {
          "output_type": "stream",
          "text": [
            "/usr/local/lib/python3.7/dist-packages/seaborn/_decorators.py:43: FutureWarning: Pass the following variables as keyword args: x, y. From version 0.12, the only valid positional argument will be `data`, and passing other arguments without an explicit keyword will result in an error or misinterpretation.\n",
            "  FutureWarning\n"
          ],
          "name": "stderr"
        },
        {
          "output_type": "execute_result",
          "data": {
            "text/plain": [
              "<matplotlib.axes._subplots.AxesSubplot at 0x7f04e4679a50>"
            ]
          },
          "metadata": {
            "tags": []
          },
          "execution_count": 105
        },
        {
          "output_type": "display_data",
          "data": {
            "image/png": "[encoded data removed]",
            "text/plain": [
              "<Figure size 432x288 with 1 Axes>"
            ]
          },
          "metadata": {
            "tags": [],
            "needs_background": "light"
          }
        }
      ]
    },
    {
      "cell_type": "code",
      "metadata": {
        "id": "wKDyUXM4Boip",
        "colab": {
          "base_uri": "https://localhost:8080/",
          "height": 202
        },
        "outputId": "5937b92a-1cee-446d-bd80-b83c17ea05f7"
      },
      "source": [
        "df['cEXT'] = df['cEXT'].astype('category')\n",
        "dataframe = df[['STATUS', 'cEXT']]\n",
        "dataframe.head()"
      ],
      "execution_count": null,
      "outputs": [
        {
          "output_type": "execute_result",
          "data": {
            "text/html": [
              "<div>\n",
              "<style scoped>\n",
              "    .dataframe tbody tr th:only-of-type {\n",
              "        vertical-align: middle;\n",
              "    }\n",
              "\n",
              "    .dataframe tbody tr th {\n",
              "        vertical-align: top;\n",
              "    }\n",
              "\n",
              "    .dataframe thead th {\n",
              "        text-align: right;\n",
              "    }\n",
              "</style>\n",
              "<table border=\"1\" class=\"dataframe\">\n",
              "  <thead>\n",
              "    <tr style=\"text-align: right;\">\n",
              "      <th></th>\n",
              "      <th>STATUS</th>\n",
              "      <th>cEXT</th>\n",
              "    </tr>\n",
              "  </thead>\n",
              "  <tbody>\n",
              "    <tr>\n",
              "      <th>0</th>\n",
              "      <td>likes sound thunder.</td>\n",
              "      <td>0</td>\n",
              "    </tr>\n",
              "    <tr>\n",
              "      <th>1</th>\n",
              "      <td>sleepy even funny get sleep.</td>\n",
              "      <td>0</td>\n",
              "    </tr>\n",
              "    <tr>\n",
              "      <th>2</th>\n",
              "      <td>sore wants knot muscles base neck stop hurting...</td>\n",
              "      <td>0</td>\n",
              "    </tr>\n",
              "    <tr>\n",
              "      <th>3</th>\n",
              "      <td>likes day sounds new song.</td>\n",
              "      <td>0</td>\n",
              "    </tr>\n",
              "    <tr>\n",
              "      <th>4</th>\n",
              "      <td>home. happy face smiley</td>\n",
              "      <td>0</td>\n",
              "    </tr>\n",
              "  </tbody>\n",
              "</table>\n",
              "</div>"
            ],
            "text/plain": [
              "                                              STATUS cEXT\n",
              "0                               likes sound thunder.    0\n",
              "1                       sleepy even funny get sleep.    0\n",
              "2  sore wants knot muscles base neck stop hurting...    0\n",
              "3                         likes day sounds new song.    0\n",
              "4                            home. happy face smiley    0"
            ]
          },
          "metadata": {
            "tags": []
          },
          "execution_count": 106
        }
      ]
    },
    {
      "cell_type": "code",
      "metadata": {
        "id": "mlcQLEY9CRtS",
        "colab": {
          "base_uri": "https://localhost:8080/"
        },
        "outputId": "06b91f92-100c-400d-fb8a-dc9eaaeebe7e"
      },
      "source": [
        "val_dataframe = dataframe.sample(frac = 0.1, random_state = 10)\n",
        "train_dataframe = dataframe.drop(val_dataframe.index)\n",
        "val_data, val_labels, train_data, train_labels = val_dataframe['STATUS'], val_dataframe['cEXT'], train_dataframe['STATUS'], train_dataframe['cEXT']\n",
        "print(\"Training Samples => \",len(train_dataframe),\" Validation Samples => \",len(val_dataframe))"
      ],
      "execution_count": null,
      "outputs": [
        {
          "output_type": "stream",
          "text": [
            "Training Samples =>  8914  Validation Samples =>  990\n"
          ],
          "name": "stdout"
        }
      ]
    },
    {
      "cell_type": "code",
      "metadata": {
        "id": "KuGiRo0eDutc"
      },
      "source": [
        "class_names = ['n', 'y']"
      ],
      "execution_count": null,
      "outputs": []
    },
    {
      "cell_type": "code",
      "metadata": {
        "id": "5lwooRU9EITf"
      },
      "source": [
        "vectorizer = TextVectorization(standardize = \"lower_and_strip_punctuation\",\n",
        "                               max_tokens = 20000, \n",
        "                               output_sequence_length = 300,\n",
        "                               output_mode='int')\n",
        "\n",
        "train_ds = tf.data.Dataset.from_tensor_slices(train_data).batch(64)\n",
        "vectorizer.adapt(train_ds)"
      ],
      "execution_count": null,
      "outputs": []
    },
    {
      "cell_type": "code",
      "metadata": {
        "id": "dMwxlpNaHXa-"
      },
      "source": [
        "voc = vectorizer.get_vocabulary()\n",
        "word_index = dict(zip(voc, range(len(voc))))"
      ],
      "execution_count": null,
      "outputs": []
    },
    {
      "cell_type": "code",
      "metadata": {
        "id": "oqxOaZeaJjrz",
        "colab": {
          "base_uri": "https://localhost:8080/"
        },
        "outputId": "15459e42-47d4-4166-b089-5c82938eabe7"
      },
      "source": [
        "path_to_glove_file = '/content/drive/MyDrive/ocean-modelC/Data/glove.6B.100d.txt'\n",
        "\n",
        "embeddings_index = {}\n",
        "with open(path_to_glove_file) as f:\n",
        "    for line in f:\n",
        "        word, coefs = line.split(maxsplit=1)\n",
        "        coefs = np.fromstring(coefs, \"f\", sep=\" \")\n",
        "        embeddings_index[word] = coefs\n",
        "\n",
        "print(\"Found %s word vectors.\" % len(embeddings_index))"
      ],
      "execution_count": null,
      "outputs": [
        {
          "output_type": "stream",
          "text": [
            "Found 400000 word vectors.\n"
          ],
          "name": "stdout"
        }
      ]
    },
    {
      "cell_type": "code",
      "metadata": {
        "id": "_Zg2ziBmOwk-",
        "colab": {
          "base_uri": "https://localhost:8080/"
        },
        "outputId": "947b93c9-12ca-4d8a-f450-378a0aa601ad"
      },
      "source": [
        "num_tokens = len(voc) + 2\n",
        "embedding_dim = 100\n",
        "hits = 0\n",
        "misses = 0\n",
        "\n",
        "embedding_matrix = np.zeros((num_tokens, embedding_dim))\n",
        "for word, i in word_index.items():\n",
        "    embedding_vector = embeddings_index.get(word)\n",
        "    if embedding_vector is not None:\n",
        "        embedding_matrix[i] = embedding_vector\n",
        "        hits += 1\n",
        "    else:\n",
        "        misses += 1\n",
        "print(\"Converted %d words (%d misses)\" % (hits, misses))"
      ],
      "execution_count": null,
      "outputs": [
        {
          "output_type": "stream",
          "text": [
            "Converted 12437 words (3949 misses)\n"
          ],
          "name": "stdout"
        }
      ]
    },
    {
      "cell_type": "code",
      "metadata": {
        "id": "H6yf41aRO7IW"
      },
      "source": [
        "from tensorflow.keras.layers import Embedding\n",
        "\n",
        "embedding_layer = Embedding(\n",
        "    num_tokens,\n",
        "    embedding_dim,\n",
        "    embeddings_initializer = keras.initializers.Constant(embedding_matrix),\n",
        "    trainable = False,\n",
        ")"
      ],
      "execution_count": null,
      "outputs": []
    },
    {
      "cell_type": "code",
      "metadata": {
        "id": "XSCiHxxnPCG9",
        "colab": {
          "base_uri": "https://localhost:8080/"
        },
        "outputId": "945011c4-200f-4eff-ceb9-b5f34453e821"
      },
      "source": [
        "from tensorflow.keras import layers\n",
        "xavier =  tf.keras.initializers.GlorotNormal()\n",
        "\n",
        "int_sequences_input = keras.Input(shape=(None,), dtype=\"int64\")\n",
        "embedded_sequences = embedding_layer(int_sequences_input)\n",
        "x = layers.Bidirectional(layers.LSTM(64, dropout = 0.20))(embedded_sequences)\n",
        "x = layers.Dense(8, activation=\"relu\")(x)\n",
        "x = layers.BatchNormalization()(x)\n",
        "x = layers.Dropout(0.20)(x)\n",
        "\n",
        "predictions = layers.Dense(2, activation=\"relu\", name=\"predictions\")(x)\n",
        "model = tf.keras.Model(int_sequences_input, predictions)\n",
        "\n",
        "model.summary()"
      ],
      "execution_count": null,
      "outputs": [
        {
          "output_type": "stream",
          "text": [
            "Model: \"model_7\"\n",
            "_________________________________________________________________\n",
            "Layer (type)                 Output Shape              Param #   \n",
            "=================================================================\n",
            "input_8 (InputLayer)         [(None, None)]            0         \n",
            "_________________________________________________________________\n",
            "embedding_4 (Embedding)      (None, None, 100)         1638800   \n",
            "_________________________________________________________________\n",
            "bidirectional_4 (Bidirection (None, 128)               84480     \n",
            "_________________________________________________________________\n",
            "dense_4 (Dense)              (None, 8)                 1032      \n",
            "_________________________________________________________________\n",
            "batch_normalization_4 (Batch (None, 8)                 32        \n",
            "_________________________________________________________________\n",
            "dropout_4 (Dropout)          (None, 8)                 0         \n",
            "_________________________________________________________________\n",
            "predictions (Dense)          (None, 2)                 18        \n",
            "=================================================================\n",
            "Total params: 1,724,362\n",
            "Trainable params: 85,546\n",
            "Non-trainable params: 1,638,816\n",
            "_________________________________________________________________\n"
          ],
          "name": "stdout"
        }
      ]
    },
    {
      "cell_type": "code",
      "metadata": {
        "id": "cdZq0AW2PEgV"
      },
      "source": [
        "X_train = vectorizer(np.array([[s] for s in train_data])).numpy()\n",
        "X_val = vectorizer(np.array([[s] for s in val_data])).numpy()\n",
        "\n",
        "y_train = np.array(train_labels)\n",
        "y_val = np.array(val_labels)"
      ],
      "execution_count": null,
      "outputs": []
    },
    {
      "cell_type": "code",
      "metadata": {
        "id": "6WSsjwluPHXs",
        "colab": {
          "base_uri": "https://localhost:8080/"
        },
        "outputId": "5fefc336-f721-4de8-e074-cc75cacfaddd"
      },
      "source": [
        "from sklearn.utils import compute_class_weight\n",
        "\n",
        "classWeight = compute_class_weight('balanced', [0,1], df['cEXT']) \n",
        "classWeight = dict(enumerate(classWeight))\n",
        "print(classWeight)"
      ],
      "execution_count": null,
      "outputs": [
        {
          "output_type": "stream",
          "text": [
            "{0: 0.8690768690768691, 1: 1.1773656680932}\n"
          ],
          "name": "stdout"
        }
      ]
    },
    {
      "cell_type": "code",
      "metadata": {
        "id": "FpQAv8W6PKSM",
        "colab": {
          "base_uri": "https://localhost:8080/"
        },
        "outputId": "ddfa58c7-1553-4f6d-c2fb-a40d2218504e"
      },
      "source": [
        "rms = tf.keras.optimizers.RMSprop(learning_rate=5*1e-5, rho=0.85, momentum=0.25, epsilon=1e-06)\n",
        "\n",
        "model.compile(loss = \"sparse_categorical_crossentropy\", optimizer = rms, metrics = [\"acc\"])\n",
        "\n",
        "history = model.fit(X_train, y_train, batch_size = 128, epochs = 40, validation_data = (X_val, y_val), class_weight=classWeight)"
      ],
      "execution_count": null,
      "outputs": [
        {
          "output_type": "stream",
          "text": [
            "Epoch 1/40\n",
            "70/70 [==============================] - 13s 138ms/step - loss: 3.2647 - acc: 0.5366 - val_loss: 2.2526 - val_acc: 0.5677\n",
            "Epoch 2/40\n",
            "70/70 [==============================] - 7s 105ms/step - loss: 2.9738 - acc: 0.5269 - val_loss: 1.9913 - val_acc: 0.5717\n",
            "Epoch 3/40\n",
            "70/70 [==============================] - 7s 104ms/step - loss: 2.5753 - acc: 0.5422 - val_loss: 2.1295 - val_acc: 0.5444\n",
            "Epoch 4/40\n",
            "70/70 [==============================] - 7s 104ms/step - loss: 2.6031 - acc: 0.5432 - val_loss: 1.9922 - val_acc: 0.5485\n",
            "Epoch 5/40\n",
            "70/70 [==============================] - 7s 104ms/step - loss: 2.3347 - acc: 0.5489 - val_loss: 1.8273 - val_acc: 0.5535\n",
            "Epoch 6/40\n",
            "70/70 [==============================] - 7s 104ms/step - loss: 2.0754 - acc: 0.5484 - val_loss: 1.6035 - val_acc: 0.5576\n",
            "Epoch 7/40\n",
            "70/70 [==============================] - 7s 104ms/step - loss: 1.9692 - acc: 0.5462 - val_loss: 1.5168 - val_acc: 0.5545\n",
            "Epoch 8/40\n",
            "70/70 [==============================] - 7s 104ms/step - loss: 1.8898 - acc: 0.5510 - val_loss: 1.4024 - val_acc: 0.5545\n",
            "Epoch 9/40\n",
            "70/70 [==============================] - 7s 104ms/step - loss: 1.7633 - acc: 0.5622 - val_loss: 1.3324 - val_acc: 0.5566\n",
            "Epoch 10/40\n",
            "70/70 [==============================] - 7s 103ms/step - loss: 1.5778 - acc: 0.5607 - val_loss: 1.3553 - val_acc: 0.5576\n",
            "Epoch 11/40\n",
            "70/70 [==============================] - 7s 103ms/step - loss: 1.6585 - acc: 0.5624 - val_loss: 1.2230 - val_acc: 0.5657\n",
            "Epoch 12/40\n",
            "70/70 [==============================] - 7s 103ms/step - loss: 1.5550 - acc: 0.5569 - val_loss: 1.2200 - val_acc: 0.5616\n",
            "Epoch 13/40\n",
            "70/70 [==============================] - 7s 103ms/step - loss: 1.5397 - acc: 0.5499 - val_loss: 1.1793 - val_acc: 0.5657\n",
            "Epoch 14/40\n",
            "70/70 [==============================] - 7s 103ms/step - loss: 1.5242 - acc: 0.5500 - val_loss: 1.1237 - val_acc: 0.5616\n",
            "Epoch 15/40\n",
            "70/70 [==============================] - 7s 103ms/step - loss: 1.4701 - acc: 0.5584 - val_loss: 1.1166 - val_acc: 0.5697\n",
            "Epoch 16/40\n",
            "70/70 [==============================] - 7s 103ms/step - loss: 1.3796 - acc: 0.5680 - val_loss: 1.0888 - val_acc: 0.5646\n",
            "Epoch 17/40\n",
            "70/70 [==============================] - 7s 103ms/step - loss: 1.3660 - acc: 0.5497 - val_loss: 1.0755 - val_acc: 0.5616\n",
            "Epoch 18/40\n",
            "70/70 [==============================] - 7s 104ms/step - loss: 1.4014 - acc: 0.5455 - val_loss: 1.0232 - val_acc: 0.5586\n",
            "Epoch 19/40\n",
            "70/70 [==============================] - 7s 104ms/step - loss: 1.2788 - acc: 0.5671 - val_loss: 1.0098 - val_acc: 0.5576\n",
            "Epoch 20/40\n",
            "70/70 [==============================] - 7s 104ms/step - loss: 1.2767 - acc: 0.5636 - val_loss: 0.9845 - val_acc: 0.5586\n",
            "Epoch 21/40\n",
            "70/70 [==============================] - 7s 104ms/step - loss: 1.2789 - acc: 0.5618 - val_loss: 0.9598 - val_acc: 0.5586\n",
            "Epoch 22/40\n",
            "70/70 [==============================] - 7s 103ms/step - loss: 1.1963 - acc: 0.5552 - val_loss: 0.9696 - val_acc: 0.5566\n",
            "Epoch 23/40\n",
            "70/70 [==============================] - 7s 104ms/step - loss: 1.2033 - acc: 0.5597 - val_loss: 0.9655 - val_acc: 0.5576\n",
            "Epoch 24/40\n",
            "70/70 [==============================] - 7s 104ms/step - loss: 1.1711 - acc: 0.5596 - val_loss: 0.9240 - val_acc: 0.5626\n",
            "Epoch 25/40\n",
            "70/70 [==============================] - 7s 103ms/step - loss: 1.1844 - acc: 0.5599 - val_loss: 0.9041 - val_acc: 0.5636\n",
            "Epoch 26/40\n",
            "70/70 [==============================] - 7s 103ms/step - loss: 1.1331 - acc: 0.5580 - val_loss: 0.9130 - val_acc: 0.5616\n",
            "Epoch 27/40\n",
            "70/70 [==============================] - 7s 103ms/step - loss: 1.1202 - acc: 0.5756 - val_loss: 0.8875 - val_acc: 0.5646\n",
            "Epoch 28/40\n",
            "70/70 [==============================] - 7s 103ms/step - loss: 1.1101 - acc: 0.5595 - val_loss: 0.9834 - val_acc: 0.5566\n",
            "Epoch 29/40\n",
            "70/70 [==============================] - 7s 103ms/step - loss: 1.1355 - acc: 0.5594 - val_loss: 0.8666 - val_acc: 0.5636\n",
            "Epoch 30/40\n",
            "70/70 [==============================] - 7s 103ms/step - loss: 1.1419 - acc: 0.5672 - val_loss: 0.8798 - val_acc: 0.5636\n",
            "Epoch 31/40\n",
            "70/70 [==============================] - 7s 103ms/step - loss: 1.0348 - acc: 0.5657 - val_loss: 0.9117 - val_acc: 0.5636\n",
            "Epoch 32/40\n",
            "70/70 [==============================] - 7s 104ms/step - loss: 1.0806 - acc: 0.5577 - val_loss: 0.8800 - val_acc: 0.5596\n",
            "Epoch 33/40\n",
            "70/70 [==============================] - 7s 104ms/step - loss: 1.0818 - acc: 0.5629 - val_loss: 0.8927 - val_acc: 0.5606\n",
            "Epoch 34/40\n",
            "70/70 [==============================] - 7s 104ms/step - loss: 1.0347 - acc: 0.5714 - val_loss: 0.8603 - val_acc: 0.5616\n",
            "Epoch 35/40\n",
            "70/70 [==============================] - 7s 104ms/step - loss: 1.0489 - acc: 0.5647 - val_loss: 0.8331 - val_acc: 0.5616\n",
            "Epoch 36/40\n",
            "70/70 [==============================] - 7s 104ms/step - loss: 1.0064 - acc: 0.5657 - val_loss: 0.8620 - val_acc: 0.5626\n",
            "Epoch 37/40\n",
            "70/70 [==============================] - 7s 104ms/step - loss: 1.0510 - acc: 0.5640 - val_loss: 0.8170 - val_acc: 0.5636\n",
            "Epoch 38/40\n",
            "70/70 [==============================] - 7s 104ms/step - loss: 1.0385 - acc: 0.5589 - val_loss: 0.8181 - val_acc: 0.5636\n",
            "Epoch 39/40\n",
            "70/70 [==============================] - 7s 104ms/step - loss: 1.0017 - acc: 0.5691 - val_loss: 0.8241 - val_acc: 0.5657\n",
            "Epoch 40/40\n",
            "70/70 [==============================] - 7s 104ms/step - loss: 1.0004 - acc: 0.5587 - val_loss: 0.8614 - val_acc: 0.5586\n"
          ],
          "name": "stdout"
        }
      ]
    },
    {
      "cell_type": "code",
      "metadata": {
        "id": "HarcHuDhPM5L",
        "colab": {
          "base_uri": "https://localhost:8080/"
        },
        "outputId": "bc28d184-cbab-4760-f045-330305466951"
      },
      "source": [
        "score, acc = model.evaluate(x=(X_val), y=(y_val))\n",
        "print('Test score:', score)\n",
        "print('Test accuracy:', acc)"
      ],
      "execution_count": null,
      "outputs": [
        {
          "output_type": "stream",
          "text": [
            "31/31 [==============================] - 1s 31ms/step - loss: 0.8614 - acc: 0.5586\n",
            "Test score: 0.8613623976707458\n",
            "Test accuracy: 0.5585858821868896\n"
          ],
          "name": "stdout"
        }
      ]
    },
    {
      "cell_type": "code",
      "metadata": {
        "id": "uWUkfwOiPQXy",
        "colab": {
          "base_uri": "https://localhost:8080/",
          "height": 573
        },
        "outputId": "93678c0b-89c7-41c2-ebea-60634116357e"
      },
      "source": [
        "import matplotlib.pyplot as plt\n",
        "\n",
        "plt.plot(history.history['acc'])\n",
        "plt.plot(history.history['val_acc'])\n",
        "plt.title('model accuracy')\n",
        "plt.ylabel('accuracy')\n",
        "plt.xlabel('epoch')\n",
        "plt.legend(['train', 'test'], loc='upper left')\n",
        "plt.show()\n",
        "\n",
        "plt.plot(history.history['loss'])\n",
        "plt.plot(history.history['val_loss'])\n",
        "plt.title('model loss')\n",
        "plt.ylabel('loss')\n",
        "plt.xlabel('epoch')\n",
        "plt.legend(['train', 'test'], loc='upper left')\n",
        "plt.show()"
      ],
      "execution_count": null,
      "outputs": [
        {
          "output_type": "display_data",
          "data": {
            "image/png": "[encoded data removed]",
            "text/plain": [
              "<Figure size 432x288 with 1 Axes>"
            ]
          },
          "metadata": {
            "tags": [],
            "needs_background": "light"
          }
        },
        {
          "output_type": "display_data",
          "data": {
            "image/png": "[encoded data removed]",
            "text/plain": [
              "<Figure size 432x288 with 1 Axes>"
            ]
          },
          "metadata": {
            "tags": [],
            "needs_background": "light"
          }
        }
      ]
    },
    {
      "cell_type": "code",
      "metadata": {
        "id": "3IOgm-P5Pe1X",
        "colab": {
          "base_uri": "https://localhost:8080/"
        },
        "outputId": "4816cd00-3df7-4da0-ed91-5ed6933a29b2"
      },
      "source": [
        "from sklearn.metrics import classification_report, confusion_matrix\n",
        "\n",
        "y_pred = model.predict(X_val)\n",
        "y_pred = np.argmax(y_pred, axis=1)\n",
        "print('Confusion Matrix')\n",
        "print(confusion_matrix(y_val, y_pred))"
      ],
      "execution_count": null,
      "outputs": [
        {
          "output_type": "stream",
          "text": [
            "Confusion Matrix\n",
            "[[534  31]\n",
            " [406  19]]\n"
          ],
          "name": "stdout"
        }
      ]
    },
    {
      "cell_type": "code",
      "metadata": {
        "id": "BXWwx2fuPiSw",
        "colab": {
          "base_uri": "https://localhost:8080/"
        },
        "outputId": "0d8ef561-843e-467d-c69d-d9809731865a"
      },
      "source": [
        "print('Classification Report')\n",
        "target_names = class_names\n",
        "print(classification_report(y_val, y_pred, target_names=target_names))"
      ],
      "execution_count": null,
      "outputs": [
        {
          "output_type": "stream",
          "text": [
            "Classification Report\n",
            "              precision    recall  f1-score   support\n",
            "\n",
            "           n       0.57      0.95      0.71       565\n",
            "           y       0.38      0.04      0.08       425\n",
            "\n",
            "    accuracy                           0.56       990\n",
            "   macro avg       0.47      0.49      0.39       990\n",
            "weighted avg       0.49      0.56      0.44       990\n",
            "\n"
          ],
          "name": "stdout"
        }
      ]
    },
    {
      "cell_type": "code",
      "metadata": {
        "id": "2NvZpkhrPmvz",
        "colab": {
          "base_uri": "https://localhost:8080/",
          "height": 35
        },
        "outputId": "2de5145a-d937-49f6-d2f8-c63e9e7c754d"
      },
      "source": [
        "string_input = keras.Input(shape=(1,), dtype=\"string\")\n",
        "x = vectorizer(string_input)\n",
        "preds = model(x)\n",
        "end_to_end_model = keras.Model(string_input, preds)\n",
        "\n",
        "probabilities = end_to_end_model.predict(\n",
        "    [[\"I  love new experiences\"]]\n",
        ")\n",
        "\n",
        "class_names[np.argmax(probabilities[0])]"
      ],
      "execution_count": null,
      "outputs": [
        {
          "output_type": "execute_result",
          "data": {
            "application/vnd.google.colaboratory.intrinsic+json": {
              "type": "string"
            },
            "text/plain": [
              "'n'"
            ]
          },
          "metadata": {
            "tags": []
          },
          "execution_count": 122
        }
      ]
    },
    {
      "cell_type": "code",
      "metadata": {
        "id": "6KBIcxcPVaFE"
      },
      "source": [
        "rms = tf.keras.optimizers.RMSprop(learning_rate=5*1e-5, rho=0.85, momentum=0.25, epsilon=1e-06)\n",
        "end_to_end_model.compile(loss = \"sparse_categorical_crossentropy\", optimizer = rms, metrics = [\"acc\"])"
      ],
      "execution_count": null,
      "outputs": []
    },
    {
      "cell_type": "code",
      "metadata": {
        "colab": {
          "base_uri": "https://localhost:8080/"
        },
        "id": "i2YtoXXHV3xK",
        "outputId": "003aa0e7-93fa-4f20-9727-5383e88e5f3e"
      },
      "source": [
        "end_to_end_model.save('/content/drive/MyDrive/ocean-modelC/Models/EModel_55_56', save_format='tf')"
      ],
      "execution_count": null,
      "outputs": [
        {
          "output_type": "stream",
          "text": [
            "WARNING:absl:Found untraced functions such as lstm_cell_13_layer_call_fn, lstm_cell_13_layer_call_and_return_conditional_losses, lstm_cell_14_layer_call_fn, lstm_cell_14_layer_call_and_return_conditional_losses, lstm_cell_13_layer_call_fn while saving (showing 5 of 10). These functions will not be directly callable after loading.\n",
            "WARNING:absl:Found untraced functions such as lstm_cell_13_layer_call_fn, lstm_cell_13_layer_call_and_return_conditional_losses, lstm_cell_14_layer_call_fn, lstm_cell_14_layer_call_and_return_conditional_losses, lstm_cell_13_layer_call_fn while saving (showing 5 of 10). These functions will not be directly callable after loading.\n"
          ],
          "name": "stderr"
        },
        {
          "output_type": "stream",
          "text": [
            "INFO:tensorflow:Assets written to: /content/drive/MyDrive/ocean-modelC/Models/EModel_55_56/assets\n"
          ],
          "name": "stdout"
        },
        {
          "output_type": "stream",
          "text": [
            "INFO:tensorflow:Assets written to: /content/drive/MyDrive/ocean-modelC/Models/EModel_55_56/assets\n"
          ],
          "name": "stderr"
        }
      ]
    },
    {
      "cell_type": "code",
      "metadata": {
        "id": "7twz9-ccV6eA"
      },
      "source": [
        "Emodel = keras.models.load_model('/content/drive/MyDrive/ocean-modelC/Models/EModel_55_56')"
      ],
      "execution_count": null,
      "outputs": []
    },
    {
      "cell_type": "code",
      "metadata": {
        "colab": {
          "base_uri": "https://localhost:8080/"
        },
        "id": "sFVIHgbcWBOt",
        "outputId": "f5ddd760-96dc-4f69-9e0e-c2fa0c16b963"
      },
      "source": [
        "print(class_names[np.argmax(Emodel.predict([['I like new experiences']]))])"
      ],
      "execution_count": null,
      "outputs": [
        {
          "output_type": "stream",
          "text": [
            "n\n"
          ],
          "name": "stdout"
        }
      ]
    }
  ]
}