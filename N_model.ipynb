{
  "nbformat": 4,
  "nbformat_minor": 0,
  "metadata": {
    "accelerator": "GPU",
    "colab": {
      "name": "N-model.ipynb",
      "provenance": [],
      "collapsed_sections": []
    },
    "kernelspec": {
      "display_name": "Python 3",
      "name": "python3"
    },
    "language_info": {
      "name": "python"
    }
  },
  "cells": [
    {
      "cell_type": "code",
      "metadata": {
        "colab": {
          "base_uri": "https://localhost:8080/"
        },
        "id": "ybti9l5A9y_1",
        "outputId": "a58e639c-ade1-4ec3-f5e4-856e912f4e80"
      },
      "source": [
        "!pip install tensorflow"
      ],
      "execution_count": null,
      "outputs": [
        {
          "output_type": "stream",
          "text": [
            "Requirement already satisfied: tensorflow in /usr/local/lib/python3.7/dist-packages (2.4.1)\n",
            "Requirement already satisfied: h5py~=2.10.0 in /usr/local/lib/python3.7/dist-packages (from tensorflow) (2.10.0)\n",
            "Requirement already satisfied: keras-preprocessing~=1.1.2 in /usr/local/lib/python3.7/dist-packages (from tensorflow) (1.1.2)\n",
            "Requirement already satisfied: tensorflow-estimator<2.5.0,>=2.4.0 in /usr/local/lib/python3.7/dist-packages (from tensorflow) (2.4.0)\n",
            "Requirement already satisfied: opt-einsum~=3.3.0 in /usr/local/lib/python3.7/dist-packages (from tensorflow) (3.3.0)\n",
            "Requirement already satisfied: numpy~=1.19.2 in /usr/local/lib/python3.7/dist-packages (from tensorflow) (1.19.5)\n",
            "Requirement already satisfied: protobuf>=3.9.2 in /usr/local/lib/python3.7/dist-packages (from tensorflow) (3.12.4)\n",
            "Requirement already satisfied: typing-extensions~=3.7.4 in /usr/local/lib/python3.7/dist-packages (from tensorflow) (3.7.4.3)\n",
            "Requirement already satisfied: wrapt~=1.12.1 in /usr/local/lib/python3.7/dist-packages (from tensorflow) (1.12.1)\n",
            "Requirement already satisfied: tensorboard~=2.4 in /usr/local/lib/python3.7/dist-packages (from tensorflow) (2.4.1)\n",
            "Requirement already satisfied: astunparse~=1.6.3 in /usr/local/lib/python3.7/dist-packages (from tensorflow) (1.6.3)\n",
            "Requirement already satisfied: google-pasta~=0.2 in /usr/local/lib/python3.7/dist-packages (from tensorflow) (0.2.0)\n",
            "Requirement already satisfied: absl-py~=0.10 in /usr/local/lib/python3.7/dist-packages (from tensorflow) (0.10.0)\n",
            "Requirement already satisfied: wheel~=0.35 in /usr/local/lib/python3.7/dist-packages (from tensorflow) (0.36.2)\n",
            "Requirement already satisfied: flatbuffers~=1.12.0 in /usr/local/lib/python3.7/dist-packages (from tensorflow) (1.12)\n",
            "Requirement already satisfied: six~=1.15.0 in /usr/local/lib/python3.7/dist-packages (from tensorflow) (1.15.0)\n",
            "Requirement already satisfied: gast==0.3.3 in /usr/local/lib/python3.7/dist-packages (from tensorflow) (0.3.3)\n",
            "Requirement already satisfied: termcolor~=1.1.0 in /usr/local/lib/python3.7/dist-packages (from tensorflow) (1.1.0)\n",
            "Requirement already satisfied: grpcio~=1.32.0 in /usr/local/lib/python3.7/dist-packages (from tensorflow) (1.32.0)\n",
            "Requirement already satisfied: setuptools in /usr/local/lib/python3.7/dist-packages (from protobuf>=3.9.2->tensorflow) (54.1.2)\n",
            "Requirement already satisfied: google-auth-oauthlib<0.5,>=0.4.1 in /usr/local/lib/python3.7/dist-packages (from tensorboard~=2.4->tensorflow) (0.4.3)\n",
            "Requirement already satisfied: google-auth<2,>=1.6.3 in /usr/local/lib/python3.7/dist-packages (from tensorboard~=2.4->tensorflow) (1.27.1)\n",
            "Requirement already satisfied: tensorboard-plugin-wit>=1.6.0 in /usr/local/lib/python3.7/dist-packages (from tensorboard~=2.4->tensorflow) (1.8.0)\n",
            "Requirement already satisfied: markdown>=2.6.8 in /usr/local/lib/python3.7/dist-packages (from tensorboard~=2.4->tensorflow) (3.3.4)\n",
            "Requirement already satisfied: werkzeug>=0.11.15 in /usr/local/lib/python3.7/dist-packages (from tensorboard~=2.4->tensorflow) (1.0.1)\n",
            "Requirement already satisfied: requests<3,>=2.21.0 in /usr/local/lib/python3.7/dist-packages (from tensorboard~=2.4->tensorflow) (2.23.0)\n",
            "Requirement already satisfied: requests-oauthlib>=0.7.0 in /usr/local/lib/python3.7/dist-packages (from google-auth-oauthlib<0.5,>=0.4.1->tensorboard~=2.4->tensorflow) (1.3.0)\n",
            "Requirement already satisfied: cachetools<5.0,>=2.0.0 in /usr/local/lib/python3.7/dist-packages (from google-auth<2,>=1.6.3->tensorboard~=2.4->tensorflow) (4.2.1)\n",
            "Requirement already satisfied: rsa<5,>=3.1.4; python_version >= \"3.6\" in /usr/local/lib/python3.7/dist-packages (from google-auth<2,>=1.6.3->tensorboard~=2.4->tensorflow) (4.7.2)\n",
            "Requirement already satisfied: pyasn1-modules>=0.2.1 in /usr/local/lib/python3.7/dist-packages (from google-auth<2,>=1.6.3->tensorboard~=2.4->tensorflow) (0.2.8)\n",
            "Requirement already satisfied: importlib-metadata; python_version < \"3.8\" in /usr/local/lib/python3.7/dist-packages (from markdown>=2.6.8->tensorboard~=2.4->tensorflow) (3.7.2)\n",
            "Requirement already satisfied: urllib3!=1.25.0,!=1.25.1,<1.26,>=1.21.1 in /usr/local/lib/python3.7/dist-packages (from requests<3,>=2.21.0->tensorboard~=2.4->tensorflow) (1.24.3)\n",
            "Requirement already satisfied: idna<3,>=2.5 in /usr/local/lib/python3.7/dist-packages (from requests<3,>=2.21.0->tensorboard~=2.4->tensorflow) (2.10)\n",
            "Requirement already satisfied: certifi>=2017.4.17 in /usr/local/lib/python3.7/dist-packages (from requests<3,>=2.21.0->tensorboard~=2.4->tensorflow) (2020.12.5)\n",
            "Requirement already satisfied: chardet<4,>=3.0.2 in /usr/local/lib/python3.7/dist-packages (from requests<3,>=2.21.0->tensorboard~=2.4->tensorflow) (3.0.4)\n",
            "Requirement already satisfied: oauthlib>=3.0.0 in /usr/local/lib/python3.7/dist-packages (from requests-oauthlib>=0.7.0->google-auth-oauthlib<0.5,>=0.4.1->tensorboard~=2.4->tensorflow) (3.1.0)\n",
            "Requirement already satisfied: pyasn1>=0.1.3 in /usr/local/lib/python3.7/dist-packages (from rsa<5,>=3.1.4; python_version >= \"3.6\"->google-auth<2,>=1.6.3->tensorboard~=2.4->tensorflow) (0.4.8)\n",
            "Requirement already satisfied: zipp>=0.5 in /usr/local/lib/python3.7/dist-packages (from importlib-metadata; python_version < \"3.8\"->markdown>=2.6.8->tensorboard~=2.4->tensorflow) (3.4.1)\n"
          ],
          "name": "stdout"
        }
      ]
    },
    {
      "cell_type": "code",
      "metadata": {
        "id": "5l1QJv5o-gdl"
      },
      "source": [
        "import numpy as np\n",
        "import pandas as pd\n",
        "import tensorflow as tf\n",
        "from tensorflow import keras\n",
        "from google.colab import drive\n",
        "from tensorflow.keras.layers.experimental.preprocessing import TextVectorization\n",
        "import re\n",
        "import string"
      ],
      "execution_count": null,
      "outputs": []
    },
    {
      "cell_type": "code",
      "metadata": {
        "colab": {
          "base_uri": "https://localhost:8080/"
        },
        "id": "5rL7_l0U_QWo",
        "outputId": "04159c7e-bea3-4ca5-fda3-071dc6521ff8"
      },
      "source": [
        "drive.mount('/content/drive')"
      ],
      "execution_count": null,
      "outputs": [
        {
          "output_type": "stream",
          "text": [
            "Mounted at /content/drive\n"
          ],
          "name": "stdout"
        }
      ]
    },
    {
      "cell_type": "code",
      "metadata": {
        "colab": {
          "base_uri": "https://localhost:8080/",
          "height": 202
        },
        "id": "lj6XuQ7G_dyx",
        "outputId": "d6f9fcd3-7206-49e5-b43d-f720899447d9"
      },
      "source": [
        "df = pd.read_csv('/content/drive/MyDrive/ocean-modelC/Data/final_myPersonality.csv')\n",
        "df.head()"
      ],
      "execution_count": null,
      "outputs": [
        {
          "output_type": "execute_result",
          "data": {
            "text/html": [
              "<div>\n",
              "<style scoped>\n",
              "    .dataframe tbody tr th:only-of-type {\n",
              "        vertical-align: middle;\n",
              "    }\n",
              "\n",
              "    .dataframe tbody tr th {\n",
              "        vertical-align: top;\n",
              "    }\n",
              "\n",
              "    .dataframe thead th {\n",
              "        text-align: right;\n",
              "    }\n",
              "</style>\n",
              "<table border=\"1\" class=\"dataframe\">\n",
              "  <thead>\n",
              "    <tr style=\"text-align: right;\">\n",
              "      <th></th>\n",
              "      <th>Unnamed: 0</th>\n",
              "      <th>STATUS</th>\n",
              "      <th>cEXT</th>\n",
              "      <th>cNEU</th>\n",
              "      <th>cAGR</th>\n",
              "      <th>cCON</th>\n",
              "      <th>cOPN</th>\n",
              "    </tr>\n",
              "  </thead>\n",
              "  <tbody>\n",
              "    <tr>\n",
              "      <th>0</th>\n",
              "      <td>0</td>\n",
              "      <td>likes sound thunder.</td>\n",
              "      <td>0</td>\n",
              "      <td>1</td>\n",
              "      <td>0</td>\n",
              "      <td>0</td>\n",
              "      <td>1</td>\n",
              "    </tr>\n",
              "    <tr>\n",
              "      <th>1</th>\n",
              "      <td>1</td>\n",
              "      <td>sleepy even funny get sleep.</td>\n",
              "      <td>0</td>\n",
              "      <td>1</td>\n",
              "      <td>0</td>\n",
              "      <td>0</td>\n",
              "      <td>1</td>\n",
              "    </tr>\n",
              "    <tr>\n",
              "      <th>2</th>\n",
              "      <td>2</td>\n",
              "      <td>sore wants knot muscles base neck stop hurting...</td>\n",
              "      <td>0</td>\n",
              "      <td>1</td>\n",
              "      <td>0</td>\n",
              "      <td>0</td>\n",
              "      <td>1</td>\n",
              "    </tr>\n",
              "    <tr>\n",
              "      <th>3</th>\n",
              "      <td>3</td>\n",
              "      <td>likes day sounds new song.</td>\n",
              "      <td>0</td>\n",
              "      <td>1</td>\n",
              "      <td>0</td>\n",
              "      <td>0</td>\n",
              "      <td>1</td>\n",
              "    </tr>\n",
              "    <tr>\n",
              "      <th>4</th>\n",
              "      <td>4</td>\n",
              "      <td>home. happy face smiley</td>\n",
              "      <td>0</td>\n",
              "      <td>1</td>\n",
              "      <td>0</td>\n",
              "      <td>0</td>\n",
              "      <td>1</td>\n",
              "    </tr>\n",
              "  </tbody>\n",
              "</table>\n",
              "</div>"
            ],
            "text/plain": [
              "   Unnamed: 0                                             STATUS  ...  cCON  cOPN\n",
              "0           0                               likes sound thunder.  ...     0     1\n",
              "1           1                       sleepy even funny get sleep.  ...     0     1\n",
              "2           2  sore wants knot muscles base neck stop hurting...  ...     0     1\n",
              "3           3                         likes day sounds new song.  ...     0     1\n",
              "4           4                            home. happy face smiley  ...     0     1\n",
              "\n",
              "[5 rows x 7 columns]"
            ]
          },
          "metadata": {
            "tags": []
          },
          "execution_count": 37
        }
      ]
    },
    {
      "cell_type": "code",
      "metadata": {
        "colab": {
          "base_uri": "https://localhost:8080/"
        },
        "id": "Xc9ORNSdBH-5",
        "outputId": "a527c9b7-0b31-41d4-eacd-b7379dcecc83"
      },
      "source": [
        "df['cNEU'].value_counts()"
      ],
      "execution_count": null,
      "outputs": [
        {
          "output_type": "execute_result",
          "data": {
            "text/plain": [
              "0    6194\n",
              "1    3710\n",
              "Name: cNEU, dtype: int64"
            ]
          },
          "metadata": {
            "tags": []
          },
          "execution_count": 38
        }
      ]
    },
    {
      "cell_type": "code",
      "metadata": {
        "colab": {
          "base_uri": "https://localhost:8080/",
          "height": 351
        },
        "id": "u7gclQleBUXr",
        "outputId": "4c255c74-5d75-4a45-e747-461da1ba3fb3"
      },
      "source": [
        "import seaborn as sns\n",
        "\n",
        "sns.barplot(df['cNEU'], df['cNEU'], palette='Set1', estimator=lambda x: len(x) / len(df) )"
      ],
      "execution_count": null,
      "outputs": [
        {
          "output_type": "stream",
          "text": [
            "/usr/local/lib/python3.7/dist-packages/seaborn/_decorators.py:43: FutureWarning: Pass the following variables as keyword args: x, y. From version 0.12, the only valid positional argument will be `data`, and passing other arguments without an explicit keyword will result in an error or misinterpretation.\n",
            "  FutureWarning\n"
          ],
          "name": "stderr"
        },
        {
          "output_type": "execute_result",
          "data": {
            "text/plain": [
              "<matplotlib.axes._subplots.AxesSubplot at 0x7fb542aa9bd0>"
            ]
          },
          "metadata": {
            "tags": []
          },
          "execution_count": 39
        },
        {
          "output_type": "display_data",
          "data": {
            "image/png": "[encoded data removed]",
            "text/plain": [
              "<Figure size 432x288 with 1 Axes>"
            ]
          },
          "metadata": {
            "tags": []
          }
        }
      ]
    },
    {
      "cell_type": "code",
      "metadata": {
        "colab": {
          "base_uri": "https://localhost:8080/",
          "height": 202
        },
        "id": "wKDyUXM4Boip",
        "outputId": "9ccd0e54-50c8-4086-ab44-c01eefeaeab8"
      },
      "source": [
        "df['cNEU'] = df['cNEU'].astype('category')\n",
        "dataframe = df[['STATUS', 'cNEU']]\n",
        "dataframe.head()"
      ],
      "execution_count": null,
      "outputs": [
        {
          "output_type": "execute_result",
          "data": {
            "text/html": [
              "<div>\n",
              "<style scoped>\n",
              "    .dataframe tbody tr th:only-of-type {\n",
              "        vertical-align: middle;\n",
              "    }\n",
              "\n",
              "    .dataframe tbody tr th {\n",
              "        vertical-align: top;\n",
              "    }\n",
              "\n",
              "    .dataframe thead th {\n",
              "        text-align: right;\n",
              "    }\n",
              "</style>\n",
              "<table border=\"1\" class=\"dataframe\">\n",
              "  <thead>\n",
              "    <tr style=\"text-align: right;\">\n",
              "      <th></th>\n",
              "      <th>STATUS</th>\n",
              "      <th>cNEU</th>\n",
              "    </tr>\n",
              "  </thead>\n",
              "  <tbody>\n",
              "    <tr>\n",
              "      <th>0</th>\n",
              "      <td>likes sound thunder.</td>\n",
              "      <td>1</td>\n",
              "    </tr>\n",
              "    <tr>\n",
              "      <th>1</th>\n",
              "      <td>sleepy even funny get sleep.</td>\n",
              "      <td>1</td>\n",
              "    </tr>\n",
              "    <tr>\n",
              "      <th>2</th>\n",
              "      <td>sore wants knot muscles base neck stop hurting...</td>\n",
              "      <td>1</td>\n",
              "    </tr>\n",
              "    <tr>\n",
              "      <th>3</th>\n",
              "      <td>likes day sounds new song.</td>\n",
              "      <td>1</td>\n",
              "    </tr>\n",
              "    <tr>\n",
              "      <th>4</th>\n",
              "      <td>home. happy face smiley</td>\n",
              "      <td>1</td>\n",
              "    </tr>\n",
              "  </tbody>\n",
              "</table>\n",
              "</div>"
            ],
            "text/plain": [
              "                                              STATUS cNEU\n",
              "0                               likes sound thunder.    1\n",
              "1                       sleepy even funny get sleep.    1\n",
              "2  sore wants knot muscles base neck stop hurting...    1\n",
              "3                         likes day sounds new song.    1\n",
              "4                            home. happy face smiley    1"
            ]
          },
          "metadata": {
            "tags": []
          },
          "execution_count": 40
        }
      ]
    },
    {
      "cell_type": "code",
      "metadata": {
        "colab": {
          "base_uri": "https://localhost:8080/"
        },
        "id": "mlcQLEY9CRtS",
        "outputId": "dcdc7581-4014-4a4f-91fd-8d9614afae75"
      },
      "source": [
        "val_dataframe = dataframe.sample(frac = 0.1, random_state = 10)\n",
        "train_dataframe = dataframe.drop(val_dataframe.index)\n",
        "val_data, val_labels, train_data, train_labels = val_dataframe['STATUS'], val_dataframe['cNEU'], train_dataframe['STATUS'], train_dataframe['cNEU']\n",
        "print(\"Training Samples => \",len(train_dataframe),\" Validation Samples => \",len(val_dataframe))"
      ],
      "execution_count": null,
      "outputs": [
        {
          "output_type": "stream",
          "text": [
            "Training Samples =>  8914  Validation Samples =>  990\n"
          ],
          "name": "stdout"
        }
      ]
    },
    {
      "cell_type": "code",
      "metadata": {
        "id": "KuGiRo0eDutc"
      },
      "source": [
        "class_names = ['n', 'y']"
      ],
      "execution_count": null,
      "outputs": []
    },
    {
      "cell_type": "code",
      "metadata": {
        "id": "5lwooRU9EITf"
      },
      "source": [
        "vectorizer = TextVectorization(standardize = \"lower_and_strip_punctuation\",\n",
        "                               max_tokens = 20000, \n",
        "                               output_sequence_length = 300,\n",
        "                               output_mode='int')\n",
        "\n",
        "train_ds = tf.data.Dataset.from_tensor_slices(train_data).batch(64)\n",
        "vectorizer.adapt(train_ds)"
      ],
      "execution_count": null,
      "outputs": []
    },
    {
      "cell_type": "code",
      "metadata": {
        "id": "dMwxlpNaHXa-"
      },
      "source": [
        "voc = vectorizer.get_vocabulary()\n",
        "word_index = dict(zip(voc, range(len(voc))))"
      ],
      "execution_count": null,
      "outputs": []
    },
    {
      "cell_type": "code",
      "metadata": {
        "colab": {
          "base_uri": "https://localhost:8080/"
        },
        "id": "oqxOaZeaJjrz",
        "outputId": "b8731ada-af4b-4642-aaa4-80ca8cbd2173"
      },
      "source": [
        "path_to_glove_file = '/content/drive/MyDrive/ocean-modelC/Data/glove.6B.100d.txt'\n",
        "\n",
        "embeddings_index = {}\n",
        "with open(path_to_glove_file) as f:\n",
        "    for line in f:\n",
        "        word, coefs = line.split(maxsplit=1)\n",
        "        coefs = np.fromstring(coefs, \"f\", sep=\" \")\n",
        "        embeddings_index[word] = coefs\n",
        "\n",
        "print(\"Found %s word vectors.\" % len(embeddings_index))"
      ],
      "execution_count": null,
      "outputs": [
        {
          "output_type": "stream",
          "text": [
            "Found 400000 word vectors.\n"
          ],
          "name": "stdout"
        }
      ]
    },
    {
      "cell_type": "code",
      "metadata": {
        "colab": {
          "base_uri": "https://localhost:8080/"
        },
        "id": "_Zg2ziBmOwk-",
        "outputId": "683b6cf9-72ef-45ba-dd73-f3d6cd80af7a"
      },
      "source": [
        "num_tokens = len(voc) + 2\n",
        "embedding_dim = 100\n",
        "hits = 0\n",
        "misses = 0\n",
        "\n",
        "embedding_matrix = np.zeros((num_tokens, embedding_dim))\n",
        "for word, i in word_index.items():\n",
        "    embedding_vector = embeddings_index.get(word)\n",
        "    if embedding_vector is not None:\n",
        "        embedding_matrix[i] = embedding_vector\n",
        "        hits += 1\n",
        "    else:\n",
        "        misses += 1\n",
        "print(\"Converted %d words (%d misses)\" % (hits, misses))"
      ],
      "execution_count": null,
      "outputs": [
        {
          "output_type": "stream",
          "text": [
            "Converted 12437 words (3949 misses)\n"
          ],
          "name": "stdout"
        }
      ]
    },
    {
      "cell_type": "code",
      "metadata": {
        "id": "H6yf41aRO7IW"
      },
      "source": [
        "from tensorflow.keras.layers import Embedding\n",
        "\n",
        "embedding_layer = Embedding(\n",
        "    num_tokens,\n",
        "    embedding_dim,\n",
        "    embeddings_initializer = keras.initializers.Constant(embedding_matrix),\n",
        "    trainable = False,\n",
        ")"
      ],
      "execution_count": null,
      "outputs": []
    },
    {
      "cell_type": "code",
      "metadata": {
        "colab": {
          "base_uri": "https://localhost:8080/"
        },
        "id": "XSCiHxxnPCG9",
        "outputId": "b5d8ef8a-a2b0-4125-9652-47dc1c41d804"
      },
      "source": [
        "from tensorflow.keras import layers\n",
        "xavier =  tf.keras.initializers.GlorotNormal()\n",
        "\n",
        "int_sequences_input = keras.Input(shape=(None,), dtype=\"int64\")\n",
        "embedded_sequences = embedding_layer(int_sequences_input)\n",
        "x = layers.Bidirectional(layers.LSTM(64, dropout = 0.25))(embedded_sequences)\n",
        "x = layers.Dense(8, activation=\"relu\")(x)\n",
        "x = layers.BatchNormalization()(x)\n",
        "x = layers.Dropout(0.25)(x)\n",
        "\n",
        "predictions = layers.Dense(2, activation=\"softmax\", name=\"predictions\")(x)\n",
        "model = tf.keras.Model(int_sequences_input, predictions)\n",
        "\n",
        "model.summary()"
      ],
      "execution_count": null,
      "outputs": [
        {
          "output_type": "stream",
          "text": [
            "Model: \"model_3\"\n",
            "_________________________________________________________________\n",
            "Layer (type)                 Output Shape              Param #   \n",
            "=================================================================\n",
            "input_4 (InputLayer)         [(None, None)]            0         \n",
            "_________________________________________________________________\n",
            "embedding_2 (Embedding)      (None, None, 100)         1638800   \n",
            "_________________________________________________________________\n",
            "bidirectional_3 (Bidirection (None, 128)               84480     \n",
            "_________________________________________________________________\n",
            "dense_3 (Dense)              (None, 8)                 1032      \n",
            "_________________________________________________________________\n",
            "batch_normalization_3 (Batch (None, 8)                 32        \n",
            "_________________________________________________________________\n",
            "dropout_3 (Dropout)          (None, 8)                 0         \n",
            "_________________________________________________________________\n",
            "predictions (Dense)          (None, 2)                 18        \n",
            "=================================================================\n",
            "Total params: 1,724,362\n",
            "Trainable params: 85,546\n",
            "Non-trainable params: 1,638,816\n",
            "_________________________________________________________________\n"
          ],
          "name": "stdout"
        }
      ]
    },
    {
      "cell_type": "code",
      "metadata": {
        "id": "cdZq0AW2PEgV"
      },
      "source": [
        "X_train = vectorizer(np.array([[s] for s in train_data])).numpy()\n",
        "X_val = vectorizer(np.array([[s] for s in val_data])).numpy()\n",
        "\n",
        "y_train = np.array(train_labels)\n",
        "y_val = np.array(val_labels)"
      ],
      "execution_count": null,
      "outputs": []
    },
    {
      "cell_type": "code",
      "metadata": {
        "colab": {
          "base_uri": "https://localhost:8080/"
        },
        "id": "6WSsjwluPHXs",
        "outputId": "9820b0e3-2c37-4bff-ddb5-a4a43e9e6039"
      },
      "source": [
        "from sklearn.utils import compute_class_weight\n",
        "\n",
        "classWeight = compute_class_weight('balanced', [0,1], df['cNEU']) \n",
        "classWeight = dict(enumerate(classWeight))\n",
        "print(classWeight)"
      ],
      "execution_count": null,
      "outputs": [
        {
          "output_type": "stream",
          "text": [
            "{0: 0.7994833710041976, 1: 1.3347708894878707}\n"
          ],
          "name": "stdout"
        }
      ]
    },
    {
      "cell_type": "code",
      "metadata": {
        "colab": {
          "background_save": true,
          "base_uri": "https://localhost:8080/"
        },
        "id": "FpQAv8W6PKSM",
        "outputId": "94d0bcc9-96e7-4a69-fa65-8fbade4c0a6f"
      },
      "source": [
        "rms = tf.keras.optimizers.RMSprop(learning_rate=5*1e-5, rho=0.9, momentum=0.1, epsilon=1e-07)\n",
        "\n",
        "model.compile(loss = \"sparse_categorical_crossentropy\", optimizer = rms, metrics = [\"acc\"])\n",
        "\n",
        "history = model.fit(X_train, y_train, batch_size = 128, epochs = 50, validation_data = (X_val, y_val), class_weight=classWeight)"
      ],
      "execution_count": null,
      "outputs": [
        {
          "output_type": "stream",
          "text": [
            "Epoch 1/50\n",
            "70/70 [==============================] - 58s 785ms/step - loss: 0.9798 - acc: 0.4949 - val_loss: 0.7047 - val_acc: 0.4778\n",
            "Epoch 2/50\n",
            "70/70 [==============================] - 53s 757ms/step - loss: 0.8890 - acc: 0.4999 - val_loss: 0.7025 - val_acc: 0.4929\n",
            "Epoch 3/50\n",
            "70/70 [==============================] - 53s 763ms/step - loss: 0.8388 - acc: 0.5131 - val_loss: 0.7007 - val_acc: 0.5121\n",
            "Epoch 4/50\n",
            "70/70 [==============================] - 54s 766ms/step - loss: 0.8140 - acc: 0.5095 - val_loss: 0.7023 - val_acc: 0.4949\n",
            "Epoch 5/50\n",
            "70/70 [==============================] - 53s 756ms/step - loss: 0.8282 - acc: 0.4994 - val_loss: 0.6979 - val_acc: 0.5121\n",
            "Epoch 6/50\n",
            "70/70 [==============================] - 54s 767ms/step - loss: 0.8189 - acc: 0.5058 - val_loss: 0.6970 - val_acc: 0.5202\n",
            "Epoch 7/50\n",
            "70/70 [==============================] - 53s 760ms/step - loss: 0.8143 - acc: 0.5177 - val_loss: 0.7039 - val_acc: 0.4980\n",
            "Epoch 8/50\n",
            "70/70 [==============================] - 54s 768ms/step - loss: 0.8003 - acc: 0.5141 - val_loss: 0.6976 - val_acc: 0.5323\n",
            "Epoch 9/50\n",
            "70/70 [==============================] - 53s 764ms/step - loss: 0.7968 - acc: 0.5162 - val_loss: 0.7008 - val_acc: 0.5162\n",
            "Epoch 10/50\n",
            "70/70 [==============================] - 54s 767ms/step - loss: 0.7962 - acc: 0.5127 - val_loss: 0.7028 - val_acc: 0.5030\n",
            "Epoch 11/50\n",
            "70/70 [==============================] - 53s 761ms/step - loss: 0.7901 - acc: 0.5189 - val_loss: 0.7056 - val_acc: 0.4737\n",
            "Epoch 12/50\n",
            "70/70 [==============================] - 53s 760ms/step - loss: 0.7784 - acc: 0.5342 - val_loss: 0.7091 - val_acc: 0.4657\n",
            "Epoch 13/50\n",
            "70/70 [==============================] - 53s 760ms/step - loss: 0.7916 - acc: 0.5098 - val_loss: 0.7106 - val_acc: 0.4626\n",
            "Epoch 14/50\n",
            "70/70 [==============================] - 53s 762ms/step - loss: 0.7889 - acc: 0.5166 - val_loss: 0.7055 - val_acc: 0.4646\n",
            "Epoch 15/50\n",
            "70/70 [==============================] - 53s 762ms/step - loss: 0.7786 - acc: 0.5218 - val_loss: 0.6961 - val_acc: 0.5000\n",
            "Epoch 16/50\n",
            "70/70 [==============================] - 53s 760ms/step - loss: 0.7682 - acc: 0.5320 - val_loss: 0.6968 - val_acc: 0.4960\n",
            "Epoch 17/50\n",
            "70/70 [==============================] - 53s 757ms/step - loss: 0.7879 - acc: 0.5255 - val_loss: 0.7007 - val_acc: 0.4828\n",
            "Epoch 18/50\n",
            "70/70 [==============================] - 53s 761ms/step - loss: 0.7748 - acc: 0.5287 - val_loss: 0.7031 - val_acc: 0.4717\n",
            "Epoch 19/50\n",
            "70/70 [==============================] - 53s 760ms/step - loss: 0.7578 - acc: 0.5357 - val_loss: 0.7017 - val_acc: 0.4818\n",
            "Epoch 20/50\n",
            "70/70 [==============================] - 53s 754ms/step - loss: 0.7694 - acc: 0.5318 - val_loss: 0.7021 - val_acc: 0.4828\n",
            "Epoch 21/50\n",
            "70/70 [==============================] - 53s 760ms/step - loss: 0.7658 - acc: 0.5343 - val_loss: 0.7059 - val_acc: 0.4687\n",
            "Epoch 22/50\n",
            "70/70 [==============================] - 53s 757ms/step - loss: 0.7717 - acc: 0.5248 - val_loss: 0.7061 - val_acc: 0.4626\n",
            "Epoch 23/50\n",
            "70/70 [==============================] - 53s 758ms/step - loss: 0.7822 - acc: 0.5226 - val_loss: 0.7066 - val_acc: 0.4566\n",
            "Epoch 24/50\n",
            "70/70 [==============================] - 53s 761ms/step - loss: 0.7475 - acc: 0.5374 - val_loss: 0.7020 - val_acc: 0.4677\n",
            "Epoch 25/50\n",
            "70/70 [==============================] - 53s 758ms/step - loss: 0.7522 - acc: 0.5349 - val_loss: 0.6967 - val_acc: 0.4970\n",
            "Epoch 26/50\n",
            "70/70 [==============================] - 53s 759ms/step - loss: 0.7498 - acc: 0.5375 - val_loss: 0.7025 - val_acc: 0.4768\n",
            "Epoch 27/50\n",
            "70/70 [==============================] - 53s 758ms/step - loss: 0.7549 - acc: 0.5355 - val_loss: 0.7061 - val_acc: 0.4657\n",
            "Epoch 28/50\n",
            "70/70 [==============================] - 53s 762ms/step - loss: 0.7545 - acc: 0.5222 - val_loss: 0.6999 - val_acc: 0.4899\n",
            "Epoch 29/50\n",
            "70/70 [==============================] - 53s 763ms/step - loss: 0.7554 - acc: 0.5262 - val_loss: 0.6990 - val_acc: 0.5020\n",
            "Epoch 30/50\n",
            "70/70 [==============================] - 53s 761ms/step - loss: 0.7430 - acc: 0.5424 - val_loss: 0.7029 - val_acc: 0.4859\n",
            "Epoch 31/50\n",
            "70/70 [==============================] - 53s 763ms/step - loss: 0.7581 - acc: 0.5274 - val_loss: 0.7021 - val_acc: 0.4859\n",
            "Epoch 32/50\n",
            "70/70 [==============================] - 53s 757ms/step - loss: 0.7367 - acc: 0.5428 - val_loss: 0.7029 - val_acc: 0.4838\n",
            "Epoch 33/50\n",
            "70/70 [==============================] - 53s 755ms/step - loss: 0.7511 - acc: 0.5393 - val_loss: 0.7025 - val_acc: 0.4879\n",
            "Epoch 34/50\n",
            "70/70 [==============================] - 53s 755ms/step - loss: 0.7332 - acc: 0.5552 - val_loss: 0.7023 - val_acc: 0.4899\n",
            "Epoch 35/50\n",
            "70/70 [==============================] - 53s 756ms/step - loss: 0.7324 - acc: 0.5508 - val_loss: 0.7050 - val_acc: 0.4798\n",
            "Epoch 36/50\n",
            "70/70 [==============================] - 53s 760ms/step - loss: 0.7317 - acc: 0.5391 - val_loss: 0.7039 - val_acc: 0.4848\n",
            "Epoch 37/50\n",
            "70/70 [==============================] - 53s 761ms/step - loss: 0.7360 - acc: 0.5489 - val_loss: 0.6987 - val_acc: 0.5010\n",
            "Epoch 38/50\n",
            "70/70 [==============================] - 53s 757ms/step - loss: 0.7366 - acc: 0.5375 - val_loss: 0.6991 - val_acc: 0.4960\n",
            "Epoch 39/50\n",
            "70/70 [==============================] - 53s 758ms/step - loss: 0.7322 - acc: 0.5334 - val_loss: 0.6977 - val_acc: 0.5111\n",
            "Epoch 40/50\n",
            "70/70 [==============================] - 53s 756ms/step - loss: 0.7288 - acc: 0.5525 - val_loss: 0.7047 - val_acc: 0.4818\n",
            "Epoch 41/50\n",
            "70/70 [==============================] - 53s 756ms/step - loss: 0.7284 - acc: 0.5521 - val_loss: 0.7003 - val_acc: 0.5051\n",
            "Epoch 42/50\n",
            "70/70 [==============================] - 53s 760ms/step - loss: 0.7295 - acc: 0.5381 - val_loss: 0.7041 - val_acc: 0.4838\n",
            "Epoch 43/50\n",
            "70/70 [==============================] - 53s 759ms/step - loss: 0.7290 - acc: 0.5437 - val_loss: 0.7021 - val_acc: 0.5061\n",
            "Epoch 44/50\n",
            "70/70 [==============================] - 53s 755ms/step - loss: 0.7355 - acc: 0.5553 - val_loss: 0.7038 - val_acc: 0.4879\n",
            "Epoch 45/50\n",
            "70/70 [==============================] - 53s 760ms/step - loss: 0.7238 - acc: 0.5558 - val_loss: 0.7019 - val_acc: 0.4929\n",
            "Epoch 46/50\n",
            "70/70 [==============================] - 53s 761ms/step - loss: 0.7163 - acc: 0.5560 - val_loss: 0.6952 - val_acc: 0.5152\n",
            "Epoch 47/50\n",
            "70/70 [==============================] - 53s 762ms/step - loss: 0.7144 - acc: 0.5539 - val_loss: 0.6957 - val_acc: 0.5111\n",
            "Epoch 48/50\n",
            "70/70 [==============================] - 53s 761ms/step - loss: 0.7158 - acc: 0.5595 - val_loss: 0.7026 - val_acc: 0.4848\n",
            "Epoch 49/50\n",
            "70/70 [==============================] - 53s 759ms/step - loss: 0.7145 - acc: 0.5530 - val_loss: 0.6962 - val_acc: 0.5131\n",
            "Epoch 50/50\n",
            "70/70 [==============================] - 53s 761ms/step - loss: 0.7093 - acc: 0.5597 - val_loss: 0.6997 - val_acc: 0.5030\n"
          ],
          "name": "stdout"
        }
      ]
    },
    {
      "cell_type": "code",
      "metadata": {
        "id": "9levorRUfaSW"
      },
      "source": [
        "## 59 54"
      ],
      "execution_count": null,
      "outputs": []
    },
    {
      "cell_type": "code",
      "metadata": {
        "colab": {
          "base_uri": "https://localhost:8080/"
        },
        "id": "HarcHuDhPM5L",
        "outputId": "e1090567-1d9b-4e4a-f12e-9f9f4087b0c8"
      },
      "source": [
        "score, acc = model.evaluate(x=(X_val), y=(y_val))\n",
        "print('Test score:', score)\n",
        "print('Test accuracy:', acc)"
      ],
      "execution_count": null,
      "outputs": [
        {
          "output_type": "stream",
          "text": [
            "31/31 [==============================] - 0s 14ms/step - loss: 0.6843 - acc: 0.5808\n",
            "Test score: 0.6843485236167908\n",
            "Test accuracy: 0.5808081030845642\n"
          ],
          "name": "stdout"
        }
      ]
    },
    {
      "cell_type": "code",
      "metadata": {
        "colab": {
          "base_uri": "https://localhost:8080/",
          "height": 573
        },
        "id": "uWUkfwOiPQXy",
        "outputId": "e70705a7-5ab7-42a7-d273-3b36b119628a"
      },
      "source": [
        "import matplotlib.pyplot as plt\n",
        "\n",
        "plt.plot(history.history['acc'])\n",
        "plt.plot(history.history['val_acc'])\n",
        "plt.title('model accuracy')\n",
        "plt.ylabel('accuracy')\n",
        "plt.xlabel('epoch')\n",
        "plt.legend(['train', 'test'], loc='upper left')\n",
        "plt.show()\n",
        "\n",
        "plt.plot(history.history['loss'])\n",
        "plt.plot(history.history['val_loss'])\n",
        "plt.title('model loss')\n",
        "plt.ylabel('loss')\n",
        "plt.xlabel('epoch')\n",
        "plt.legend(['train', 'test'], loc='upper left')\n",
        "plt.show()"
      ],
      "execution_count": null,
      "outputs": [
        {
          "output_type": "display_data",
          "data": {
            "image/png": "[encoded data removed]",
            "text/plain": [
              "<Figure size 432x288 with 1 Axes>"
            ]
          },
          "metadata": {
            "tags": []
          }
        },
        {
          "output_type": "display_data",
          "data": {
            "image/png": "[encoded data removed]",
            "text/plain": [
              "<Figure size 432x288 with 1 Axes>"
            ]
          },
          "metadata": {
            "tags": []
          }
        }
      ]
    },
    {
      "cell_type": "code",
      "metadata": {
        "colab": {
          "base_uri": "https://localhost:8080/"
        },
        "id": "3IOgm-P5Pe1X",
        "outputId": "9bdefc0b-dc58-40af-91af-037b84c54fb7"
      },
      "source": [
        "from sklearn.metrics import classification_report, confusion_matrix\n",
        "\n",
        "y_pred = model.predict(X_val)\n",
        "y_pred = np.argmax(y_pred, axis=1)\n",
        "print('Confusion Matrix')\n",
        "print(confusion_matrix(y_val, y_pred))"
      ],
      "execution_count": null,
      "outputs": [
        {
          "output_type": "stream",
          "text": [
            "Confusion Matrix\n",
            "[[444 182]\n",
            " [233 131]]\n"
          ],
          "name": "stdout"
        }
      ]
    },
    {
      "cell_type": "code",
      "metadata": {
        "colab": {
          "base_uri": "https://localhost:8080/"
        },
        "id": "BXWwx2fuPiSw",
        "outputId": "bfaa6035-35c9-45cf-c074-b87864261a0b"
      },
      "source": [
        "print('Classification Report')\n",
        "target_names = class_names\n",
        "print(classification_report(y_val, y_pred, target_names=target_names))"
      ],
      "execution_count": null,
      "outputs": [
        {
          "output_type": "stream",
          "text": [
            "Classification Report\n",
            "              precision    recall  f1-score   support\n",
            "\n",
            "           n       0.66      0.71      0.68       626\n",
            "           y       0.42      0.36      0.39       364\n",
            "\n",
            "    accuracy                           0.58       990\n",
            "   macro avg       0.54      0.53      0.53       990\n",
            "weighted avg       0.57      0.58      0.57       990\n",
            "\n"
          ],
          "name": "stdout"
        }
      ]
    },
    {
      "cell_type": "code",
      "metadata": {
        "id": "2NvZpkhrPmvz"
      },
      "source": [
        "string_input = keras.Input(shape=(1,), dtype=\"string\")\n",
        "x = vectorizer(string_input)\n",
        "preds = model(x)\n",
        "end_to_end_model = keras.Model(string_input, preds)"
      ],
      "execution_count": null,
      "outputs": []
    },
    {
      "cell_type": "code",
      "metadata": {
        "id": "S0IophK9hQUs"
      },
      "source": [
        "rms = tf.keras.optimizers.RMSprop(learning_rate=5*1e-5, rho=0.9, momentum=0.1, epsilon=1e-07)\n",
        "end_to_end_model.compile(loss = \"sparse_categorical_crossentropy\", optimizer = rms, metrics = [\"acc\"])"
      ],
      "execution_count": null,
      "outputs": []
    },
    {
      "cell_type": "code",
      "metadata": {
        "colab": {
          "base_uri": "https://localhost:8080/",
          "height": 35
        },
        "id": "42ad7fIRhlia",
        "outputId": "e6a37adb-501d-4468-9025-1371e4dd3043"
      },
      "source": [
        "probabilities = end_to_end_model.predict(\n",
        "    [[\"I am so anxious today\"]]\n",
        ")\n",
        "\n",
        "class_names[np.argmax(probabilities[0])]"
      ],
      "execution_count": null,
      "outputs": [
        {
          "output_type": "execute_result",
          "data": {
            "application/vnd.google.colaboratory.intrinsic+json": {
              "type": "string"
            },
            "text/plain": [
              "'y'"
            ]
          },
          "metadata": {
            "tags": []
          },
          "execution_count": 60
        }
      ]
    },
    {
      "cell_type": "code",
      "metadata": {
        "colab": {
          "base_uri": "https://localhost:8080/"
        },
        "id": "PbXQH1BehxBM",
        "outputId": "59104700-a1e7-4899-fa97-822a86698ad4"
      },
      "source": [
        "end_to_end_model.save('/content/drive/MyDrive/ocean-modelC/Models/NModel_58_58', save_format='tf')"
      ],
      "execution_count": null,
      "outputs": [
        {
          "output_type": "stream",
          "text": [
            "WARNING:absl:Found untraced functions such as lstm_cell_10_layer_call_fn, lstm_cell_10_layer_call_and_return_conditional_losses, lstm_cell_11_layer_call_fn, lstm_cell_11_layer_call_and_return_conditional_losses, lstm_cell_10_layer_call_fn while saving (showing 5 of 10). These functions will not be directly callable after loading.\n",
            "WARNING:absl:Found untraced functions such as lstm_cell_10_layer_call_fn, lstm_cell_10_layer_call_and_return_conditional_losses, lstm_cell_11_layer_call_fn, lstm_cell_11_layer_call_and_return_conditional_losses, lstm_cell_10_layer_call_fn while saving (showing 5 of 10). These functions will not be directly callable after loading.\n"
          ],
          "name": "stderr"
        },
        {
          "output_type": "stream",
          "text": [
            "INFO:tensorflow:Assets written to: /content/drive/MyDrive/ocean-modelC/Models/NModel_58_58/assets\n"
          ],
          "name": "stdout"
        },
        {
          "output_type": "stream",
          "text": [
            "INFO:tensorflow:Assets written to: /content/drive/MyDrive/ocean-modelC/Models/NModel_58_58/assets\n"
          ],
          "name": "stderr"
        }
      ]
    },
    {
      "cell_type": "code",
      "metadata": {
        "id": "LA3XtqYAh1qT"
      },
      "source": [
        "Omodel = keras.models.load_model('/content/drive/MyDrive/ocean-modelC/Models/NModel_58_58')"
      ],
      "execution_count": null,
      "outputs": []
    },
    {
      "cell_type": "code",
      "metadata": {
        "colab": {
          "base_uri": "https://localhost:8080/"
        },
        "id": "WadFWoudh_dh",
        "outputId": "6ba5a569-df59-46f9-e84b-7db1938aa466"
      },
      "source": [
        "print(class_names[np.argmax(Omodel.predict([['I am so anxious today']]))])"
      ],
      "execution_count": null,
      "outputs": [
        {
          "output_type": "stream",
          "text": [
            "y\n"
          ],
          "name": "stdout"
        }
      ]
    }
  ]
}