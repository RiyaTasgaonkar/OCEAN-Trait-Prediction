{
  "nbformat": 4,
  "nbformat_minor": 0,
  "metadata": {
    "colab": {
      "name": "O-model.ipynb",
      "provenance": [],
      "collapsed_sections": []
    },
    "kernelspec": {
      "name": "python3",
      "display_name": "Python 3"
    },
    "accelerator": "GPU"
  },
  "cells": [
    {
      "cell_type": "code",
      "metadata": {
        "id": "fZfCbWU91ysT"
      },
      "source": [
        "!pip install tensorflow"
      ],
      "execution_count": null,
      "outputs": []
    },
    {
      "cell_type": "code",
      "metadata": {
        "id": "9KZt9KYR2KMi"
      },
      "source": [
        "import numpy as np\n",
        "import pandas as pd\n",
        "import tensorflow as tf\n",
        "from tensorflow import keras"
      ],
      "execution_count": null,
      "outputs": []
    },
    {
      "cell_type": "code",
      "metadata": {
        "id": "c1Ilzw1B8LkP"
      },
      "source": [
        "from google.colab import drive\n",
        "drive.mount('/content/drive')"
      ],
      "execution_count": null,
      "outputs": []
    },
    {
      "cell_type": "code",
      "metadata": {
        "id": "ZWVBAjNL2iL9"
      },
      "source": [
        "df = pd.read_csv('/content/drive/MyDrive/ocean-modelC/Data/final_myPersonality.csv')"
      ],
      "execution_count": null,
      "outputs": []
    },
    {
      "cell_type": "code",
      "metadata": {
        "colab": {
          "base_uri": "https://localhost:8080/",
          "height": 202
        },
        "id": "kRfgBUwB3JOx",
        "outputId": "9773e662-741d-4e4a-a55d-91ee994d766e"
      },
      "source": [
        "df.head()"
      ],
      "execution_count": null,
      "outputs": [
        {
          "output_type": "execute_result",
          "data": {
            "text/html": [
              "<div>\n",
              "<style scoped>\n",
              "    .dataframe tbody tr th:only-of-type {\n",
              "        vertical-align: middle;\n",
              "    }\n",
              "\n",
              "    .dataframe tbody tr th {\n",
              "        vertical-align: top;\n",
              "    }\n",
              "\n",
              "    .dataframe thead th {\n",
              "        text-align: right;\n",
              "    }\n",
              "</style>\n",
              "<table border=\"1\" class=\"dataframe\">\n",
              "  <thead>\n",
              "    <tr style=\"text-align: right;\">\n",
              "      <th></th>\n",
              "      <th>Unnamed: 0</th>\n",
              "      <th>STATUS</th>\n",
              "      <th>cEXT</th>\n",
              "      <th>cNEU</th>\n",
              "      <th>cAGR</th>\n",
              "      <th>cCON</th>\n",
              "      <th>cOPN</th>\n",
              "    </tr>\n",
              "  </thead>\n",
              "  <tbody>\n",
              "    <tr>\n",
              "      <th>0</th>\n",
              "      <td>0</td>\n",
              "      <td>likes sound thunder.</td>\n",
              "      <td>0</td>\n",
              "      <td>1</td>\n",
              "      <td>0</td>\n",
              "      <td>0</td>\n",
              "      <td>1</td>\n",
              "    </tr>\n",
              "    <tr>\n",
              "      <th>1</th>\n",
              "      <td>1</td>\n",
              "      <td>sleepy even funny get sleep.</td>\n",
              "      <td>0</td>\n",
              "      <td>1</td>\n",
              "      <td>0</td>\n",
              "      <td>0</td>\n",
              "      <td>1</td>\n",
              "    </tr>\n",
              "    <tr>\n",
              "      <th>2</th>\n",
              "      <td>2</td>\n",
              "      <td>sore wants knot muscles base neck stop hurting...</td>\n",
              "      <td>0</td>\n",
              "      <td>1</td>\n",
              "      <td>0</td>\n",
              "      <td>0</td>\n",
              "      <td>1</td>\n",
              "    </tr>\n",
              "    <tr>\n",
              "      <th>3</th>\n",
              "      <td>3</td>\n",
              "      <td>likes day sounds new song.</td>\n",
              "      <td>0</td>\n",
              "      <td>1</td>\n",
              "      <td>0</td>\n",
              "      <td>0</td>\n",
              "      <td>1</td>\n",
              "    </tr>\n",
              "    <tr>\n",
              "      <th>4</th>\n",
              "      <td>4</td>\n",
              "      <td>home. happy face smiley</td>\n",
              "      <td>0</td>\n",
              "      <td>1</td>\n",
              "      <td>0</td>\n",
              "      <td>0</td>\n",
              "      <td>1</td>\n",
              "    </tr>\n",
              "  </tbody>\n",
              "</table>\n",
              "</div>"
            ],
            "text/plain": [
              "   Unnamed: 0                                             STATUS  ...  cCON  cOPN\n",
              "0           0                               likes sound thunder.  ...     0     1\n",
              "1           1                       sleepy even funny get sleep.  ...     0     1\n",
              "2           2  sore wants knot muscles base neck stop hurting...  ...     0     1\n",
              "3           3                         likes day sounds new song.  ...     0     1\n",
              "4           4                            home. happy face smiley  ...     0     1\n",
              "\n",
              "[5 rows x 7 columns]"
            ]
          },
          "metadata": {
            "tags": []
          },
          "execution_count": 5
        }
      ]
    },
    {
      "cell_type": "code",
      "metadata": {
        "colab": {
          "base_uri": "https://localhost:8080/"
        },
        "id": "d3p2zvE620Fk",
        "outputId": "dbfbb01e-1ba8-4ac6-94f3-d6d89e3d9f24"
      },
      "source": [
        "df.columns"
      ],
      "execution_count": null,
      "outputs": [
        {
          "output_type": "execute_result",
          "data": {
            "text/plain": [
              "Index(['Unnamed: 0', 'STATUS', 'cEXT', 'cNEU', 'cAGR', 'cCON', 'cOPN'], dtype='object')"
            ]
          },
          "metadata": {
            "tags": []
          },
          "execution_count": 6
        }
      ]
    },
    {
      "cell_type": "code",
      "metadata": {
        "colab": {
          "base_uri": "https://localhost:8080/"
        },
        "id": "Qe-5gXfe5CTN",
        "outputId": "494d690d-c0a5-422d-cbca-4cd66c970049"
      },
      "source": [
        "df['cOPN'].value_counts()"
      ],
      "execution_count": null,
      "outputs": [
        {
          "output_type": "execute_result",
          "data": {
            "text/plain": [
              "1    7360\n",
              "0    2544\n",
              "Name: cOPN, dtype: int64"
            ]
          },
          "metadata": {
            "tags": []
          },
          "execution_count": 7
        }
      ]
    },
    {
      "cell_type": "code",
      "metadata": {
        "colab": {
          "base_uri": "https://localhost:8080/",
          "height": 351
        },
        "id": "yTNIevc9-SF5",
        "outputId": "178562f0-7a8f-4bf3-aa6f-d6dfe6e4a397"
      },
      "source": [
        "import seaborn as sns\n",
        "\n",
        "sns.barplot(df['cOPN'], df['cOPN'], palette='Set1', estimator=lambda x: len(x) / len(df) )"
      ],
      "execution_count": null,
      "outputs": [
        {
          "output_type": "stream",
          "text": [
            "/usr/local/lib/python3.7/dist-packages/seaborn/_decorators.py:43: FutureWarning: Pass the following variables as keyword args: x, y. From version 0.12, the only valid positional argument will be `data`, and passing other arguments without an explicit keyword will result in an error or misinterpretation.\n",
            "  FutureWarning\n"
          ],
          "name": "stderr"
        },
        {
          "output_type": "execute_result",
          "data": {
            "text/plain": [
              "<matplotlib.axes._subplots.AxesSubplot at 0x7f9fee662110>"
            ]
          },
          "metadata": {
            "tags": []
          },
          "execution_count": 8
        },
        {
          "output_type": "display_data",
          "data": {
            "image/png": "[encoded data removed]",
            "text/plain": [
              "<Figure size 432x288 with 1 Axes>"
            ]
          },
          "metadata": {
            "tags": [],
            "needs_background": "light"
          }
        }
      ]
    },
    {
      "cell_type": "code",
      "metadata": {
        "id": "OWTt5d1dw9gJ"
      },
      "source": [
        "df['cOPN'] = df['cOPN'].astype('category')"
      ],
      "execution_count": null,
      "outputs": []
    },
    {
      "cell_type": "code",
      "metadata": {
        "colab": {
          "base_uri": "https://localhost:8080/",
          "height": 202
        },
        "id": "UOJoDFYq277y",
        "outputId": "a4fb241e-e369-48e8-9924-922f77b9bca4"
      },
      "source": [
        "columns = ['STATUS', 'cOPN']\n",
        "dataframe = df[columns]\n",
        "dataframe.head()"
      ],
      "execution_count": null,
      "outputs": [
        {
          "output_type": "execute_result",
          "data": {
            "text/html": [
              "<div>\n",
              "<style scoped>\n",
              "    .dataframe tbody tr th:only-of-type {\n",
              "        vertical-align: middle;\n",
              "    }\n",
              "\n",
              "    .dataframe tbody tr th {\n",
              "        vertical-align: top;\n",
              "    }\n",
              "\n",
              "    .dataframe thead th {\n",
              "        text-align: right;\n",
              "    }\n",
              "</style>\n",
              "<table border=\"1\" class=\"dataframe\">\n",
              "  <thead>\n",
              "    <tr style=\"text-align: right;\">\n",
              "      <th></th>\n",
              "      <th>STATUS</th>\n",
              "      <th>cOPN</th>\n",
              "    </tr>\n",
              "  </thead>\n",
              "  <tbody>\n",
              "    <tr>\n",
              "      <th>0</th>\n",
              "      <td>likes sound thunder.</td>\n",
              "      <td>1</td>\n",
              "    </tr>\n",
              "    <tr>\n",
              "      <th>1</th>\n",
              "      <td>sleepy even funny get sleep.</td>\n",
              "      <td>1</td>\n",
              "    </tr>\n",
              "    <tr>\n",
              "      <th>2</th>\n",
              "      <td>sore wants knot muscles base neck stop hurting...</td>\n",
              "      <td>1</td>\n",
              "    </tr>\n",
              "    <tr>\n",
              "      <th>3</th>\n",
              "      <td>likes day sounds new song.</td>\n",
              "      <td>1</td>\n",
              "    </tr>\n",
              "    <tr>\n",
              "      <th>4</th>\n",
              "      <td>home. happy face smiley</td>\n",
              "      <td>1</td>\n",
              "    </tr>\n",
              "  </tbody>\n",
              "</table>\n",
              "</div>"
            ],
            "text/plain": [
              "                                              STATUS cOPN\n",
              "0                               likes sound thunder.    1\n",
              "1                       sleepy even funny get sleep.    1\n",
              "2  sore wants knot muscles base neck stop hurting...    1\n",
              "3                         likes day sounds new song.    1\n",
              "4                            home. happy face smiley    1"
            ]
          },
          "metadata": {
            "tags": []
          },
          "execution_count": 27
        }
      ]
    },
    {
      "cell_type": "code",
      "metadata": {
        "id": "CAGf0cnS3RGk",
        "colab": {
          "base_uri": "https://localhost:8080/"
        },
        "outputId": "c70d5c4b-2c29-45fb-ae64-04e49951b520"
      },
      "source": [
        "val_dataframe = dataframe.sample(frac=0.1, random_state=1347)\n",
        "train_dataframe = dataframe.drop(val_dataframe.index)\n",
        "val_data, val_labels = val_dataframe['STATUS'], val_dataframe['cOPN']\n",
        "train_data, train_labels = train_dataframe['STATUS'], train_dataframe['cOPN']\n",
        "print(\"Using %d samples for training and %d for validation\"% (len(train_dataframe), len(val_dataframe)))"
      ],
      "execution_count": null,
      "outputs": [
        {
          "output_type": "stream",
          "text": [
            "Using 8914 samples for training and 990 for validation\n"
          ],
          "name": "stdout"
        }
      ]
    },
    {
      "cell_type": "code",
      "metadata": {
        "id": "5_76ikGCuXep"
      },
      "source": [
        "class_names = ['n', 'y']"
      ],
      "execution_count": null,
      "outputs": []
    },
    {
      "cell_type": "code",
      "metadata": {
        "id": "BORsFPTp8Iok"
      },
      "source": [
        "from tensorflow.keras.layers.experimental.preprocessing import TextVectorization\n",
        "import re\n",
        "import string\n",
        "  \n",
        "vectorizer = TextVectorization(standardize = \"lower_and_strip_punctuation\",\n",
        "                               max_tokens = 20000, \n",
        "                               output_sequence_length = 300,\n",
        "                               output_mode='int')\n",
        "\n",
        "train_ds = tf.data.Dataset.from_tensor_slices(train_data).batch(64)\n",
        "vectorizer.adapt(train_ds)"
      ],
      "execution_count": null,
      "outputs": []
    },
    {
      "cell_type": "code",
      "metadata": {
        "colab": {
          "base_uri": "https://localhost:8080/"
        },
        "id": "bsUJs7n687rl",
        "outputId": "55a08dde-515d-4596-c672-5578fb8f2bb4"
      },
      "source": [
        "vectorizer.get_vocabulary()[0:20]"
      ],
      "execution_count": null,
      "outputs": [
        {
          "output_type": "execute_result",
          "data": {
            "text/plain": [
              "['',\n",
              " '[UNK]',\n",
              " 'propname',\n",
              " 'happy',\n",
              " 'face',\n",
              " 'smiley',\n",
              " 'going',\n",
              " 'day',\n",
              " 'like',\n",
              " 'get',\n",
              " 'one',\n",
              " 'time',\n",
              " 'go',\n",
              " 'new',\n",
              " 'back',\n",
              " 'today',\n",
              " 'work',\n",
              " 'got',\n",
              " 'good',\n",
              " 'big']"
            ]
          },
          "metadata": {
            "tags": []
          },
          "execution_count": 31
        }
      ]
    },
    {
      "cell_type": "code",
      "metadata": {
        "id": "BTMXZdlP9F7P"
      },
      "source": [
        "voc = vectorizer.get_vocabulary()\n",
        "word_index = dict(zip(voc, range(len(voc))))"
      ],
      "execution_count": null,
      "outputs": []
    },
    {
      "cell_type": "code",
      "metadata": {
        "colab": {
          "base_uri": "https://localhost:8080/"
        },
        "id": "QsbKBiHm1Gbf",
        "outputId": "b593c4a4-b03b-460c-cf88-a293489edc74"
      },
      "source": [
        "!unzip \"/content/drive/MyDrive/ocean-modelC/Data/glove.6B.zip\" -d '/content/drive/MyDrive/ocean-modelC/Data'"
      ],
      "execution_count": null,
      "outputs": [
        {
          "output_type": "stream",
          "text": [
            "Archive:  /content/drive/MyDrive/ocean-modelC/Data/glove.6B.zip\n",
            "replace /content/drive/MyDrive/ocean-modelC/Data/glove.6B.50d.txt? [y]es, [n]o, [A]ll, [N]one, [r]ename: A\n",
            "  inflating: /content/drive/MyDrive/ocean-modelC/Data/glove.6B.50d.txt  \n",
            "  inflating: /content/drive/MyDrive/ocean-modelC/Data/glove.6B.100d.txt  \n",
            "  inflating: /content/drive/MyDrive/ocean-modelC/Data/glove.6B.200d.txt  \n",
            "  inflating: /content/drive/MyDrive/ocean-modelC/Data/glove.6B.300d.txt  \n"
          ],
          "name": "stdout"
        }
      ]
    },
    {
      "cell_type": "code",
      "metadata": {
        "colab": {
          "base_uri": "https://localhost:8080/"
        },
        "id": "E2FnVtFiiGlV",
        "outputId": "1b457ff3-dd3b-491d-efd7-c8e38e5af118"
      },
      "source": [
        "import os \n",
        "path_to_glove_file = '/content/drive/MyDrive/ocean-modelC/Data/glove.6B.100d.txt'\n",
        "\n",
        "embeddings_index = {}\n",
        "with open(path_to_glove_file) as f:\n",
        "    for line in f:\n",
        "        word, coefs = line.split(maxsplit=1)\n",
        "        coefs = np.fromstring(coefs, \"f\", sep=\" \")\n",
        "        embeddings_index[word] = coefs\n",
        "\n",
        "print(\"Found %s word vectors.\" % len(embeddings_index))"
      ],
      "execution_count": null,
      "outputs": [
        {
          "output_type": "stream",
          "text": [
            "Found 400000 word vectors.\n"
          ],
          "name": "stdout"
        }
      ]
    },
    {
      "cell_type": "code",
      "metadata": {
        "id": "bp206auKjTRi",
        "colab": {
          "base_uri": "https://localhost:8080/"
        },
        "outputId": "4840dbb0-4355-471e-8f91-7d0d5a008666"
      },
      "source": [
        "num_tokens = len(voc) + 2\n",
        "embedding_dim = 100\n",
        "hits = 0\n",
        "misses = 0\n",
        "\n",
        "embedding_matrix = np.zeros((num_tokens, embedding_dim))\n",
        "for word, i in word_index.items():\n",
        "    embedding_vector = embeddings_index.get(word)\n",
        "    if embedding_vector is not None:\n",
        "        embedding_matrix[i] = embedding_vector\n",
        "        hits += 1\n",
        "    else:\n",
        "        misses += 1\n",
        "print(\"Converted %d words (%d misses)\" % (hits, misses))"
      ],
      "execution_count": null,
      "outputs": [
        {
          "output_type": "stream",
          "text": [
            "Converted 12336 words (3901 misses)\n"
          ],
          "name": "stdout"
        }
      ]
    },
    {
      "cell_type": "code",
      "metadata": {
        "id": "je5WXCVDmigQ"
      },
      "source": [
        "from tensorflow.keras.layers import Embedding\n",
        "\n",
        "embedding_layer = Embedding(\n",
        "    num_tokens,\n",
        "    embedding_dim,\n",
        "    embeddings_initializer = keras.initializers.Constant(embedding_matrix),\n",
        "    trainable = False,\n",
        ")"
      ],
      "execution_count": null,
      "outputs": []
    },
    {
      "cell_type": "code",
      "metadata": {
        "colab": {
          "base_uri": "https://localhost:8080/"
        },
        "id": "RGeCgbGrmq9f",
        "outputId": "5c89ce54-d561-4057-e0e0-7056b36bd82a"
      },
      "source": [
        "from tensorflow.keras import layers\n",
        "xavier =  tf.keras.initializers.GlorotNormal()\n",
        "\n",
        "int_sequences_input = keras.Input(shape=(None,), dtype=\"int64\")\n",
        "embedded_sequences = embedding_layer(int_sequences_input)\n",
        "x = layers.Bidirectional(layers.LSTM(64, dropout = 0.25))(embedded_sequences)\n",
        "x = layers.Dense(8, activation=\"relu\")(x)\n",
        "x = layers.BatchNormalization()(x)\n",
        "x = layers.Dropout(0.25)(x)\n",
        "\n",
        "predictions = layers.Dense(2, activation=\"softmax\", name=\"predictions\")(x)\n",
        "model = tf.keras.Model(int_sequences_input, predictions)\n",
        "\n",
        "model.summary()"
      ],
      "execution_count": null,
      "outputs": [
        {
          "output_type": "stream",
          "text": [
            "Model: \"model_4\"\n",
            "_________________________________________________________________\n",
            "Layer (type)                 Output Shape              Param #   \n",
            "=================================================================\n",
            "input_5 (InputLayer)         [(None, None)]            0         \n",
            "_________________________________________________________________\n",
            "embedding_4 (Embedding)      (None, None, 100)         1623900   \n",
            "_________________________________________________________________\n",
            "bidirectional_4 (Bidirection (None, 128)               84480     \n",
            "_________________________________________________________________\n",
            "dense_4 (Dense)              (None, 8)                 1032      \n",
            "_________________________________________________________________\n",
            "batch_normalization_4 (Batch (None, 8)                 32        \n",
            "_________________________________________________________________\n",
            "dropout_4 (Dropout)          (None, 8)                 0         \n",
            "_________________________________________________________________\n",
            "predictions (Dense)          (None, 2)                 18        \n",
            "=================================================================\n",
            "Total params: 1,709,462\n",
            "Trainable params: 85,546\n",
            "Non-trainable params: 1,623,916\n",
            "_________________________________________________________________\n"
          ],
          "name": "stdout"
        }
      ]
    },
    {
      "cell_type": "code",
      "metadata": {
        "id": "F1ydv4Urmuuh"
      },
      "source": [
        "X_train = vectorizer(np.array([[s] for s in train_data])).numpy()\n",
        "X_val = vectorizer(np.array([[s] for s in val_data])).numpy()\n",
        "\n",
        "y_train = np.array(train_labels)\n",
        "y_val = np.array(val_labels)"
      ],
      "execution_count": null,
      "outputs": []
    },
    {
      "cell_type": "code",
      "metadata": {
        "colab": {
          "base_uri": "https://localhost:8080/"
        },
        "id": "Q2vo5DOC_Uyv",
        "outputId": "c1396fe0-178f-4283-c387-03f4f63bbb49"
      },
      "source": [
        "from sklearn.utils import compute_class_weight\n",
        "\n",
        "classWeight = compute_class_weight('balanced', [0,1], df['cOPN']) \n",
        "classWeight = dict(enumerate(classWeight))\n",
        "print(classWeight)"
      ],
      "execution_count": null,
      "outputs": [
        {
          "output_type": "stream",
          "text": [
            "{0: 1.9465408805031446, 1: 0.6728260869565217}\n"
          ],
          "name": "stdout"
        }
      ]
    },
    {
      "cell_type": "code",
      "metadata": {
        "colab": {
          "base_uri": "https://localhost:8080/"
        },
        "id": "k8Y5AEzMncU0",
        "outputId": "fddc1b3f-c0c7-4642-c372-37789e78a781"
      },
      "source": [
        "rms = tf.keras.optimizers.RMSprop(learning_rate=4*1e-5, rho=0.9, momentum=0.2, epsilon=1e-07)\n",
        "\n",
        "model.compile(loss = \"sparse_categorical_crossentropy\", optimizer = rms, metrics = [\"acc\"])\n",
        "\n",
        "history = model.fit(X_train, y_train, batch_size = 128, epochs = 35, validation_data = (X_val, y_val), class_weight=classWeight)"
      ],
      "execution_count": null,
      "outputs": [
        {
          "output_type": "stream",
          "text": [
            "Epoch 1/35\n",
            "70/70 [==============================] - 6s 47ms/step - loss: 0.9972 - acc: 0.5084 - val_loss: 0.7209 - val_acc: 0.4172\n",
            "Epoch 2/35\n",
            "70/70 [==============================] - 3s 36ms/step - loss: 0.9537 - acc: 0.5240 - val_loss: 0.6933 - val_acc: 0.5545\n",
            "Epoch 3/35\n",
            "70/70 [==============================] - 2s 36ms/step - loss: 0.8887 - acc: 0.5293 - val_loss: 0.6810 - val_acc: 0.5949\n",
            "Epoch 4/35\n",
            "70/70 [==============================] - 3s 36ms/step - loss: 0.8790 - acc: 0.5495 - val_loss: 0.6508 - val_acc: 0.6919\n",
            "Epoch 5/35\n",
            "70/70 [==============================] - 3s 36ms/step - loss: 0.7778 - acc: 0.5639 - val_loss: 0.6583 - val_acc: 0.6768\n",
            "Epoch 6/35\n",
            "70/70 [==============================] - 3s 36ms/step - loss: 0.7455 - acc: 0.5506 - val_loss: 0.6703 - val_acc: 0.6192\n",
            "Epoch 7/35\n",
            "70/70 [==============================] - 3s 36ms/step - loss: 0.7329 - acc: 0.5483 - val_loss: 0.6805 - val_acc: 0.5798\n",
            "Epoch 8/35\n",
            "70/70 [==============================] - 3s 36ms/step - loss: 0.7263 - acc: 0.5363 - val_loss: 0.6985 - val_acc: 0.5273\n",
            "Epoch 9/35\n",
            "70/70 [==============================] - 2s 36ms/step - loss: 0.7049 - acc: 0.5496 - val_loss: 0.6937 - val_acc: 0.5424\n",
            "Epoch 10/35\n",
            "70/70 [==============================] - 3s 36ms/step - loss: 0.7129 - acc: 0.5367 - val_loss: 0.6919 - val_acc: 0.5434\n",
            "Epoch 11/35\n",
            "70/70 [==============================] - 2s 36ms/step - loss: 0.7120 - acc: 0.5475 - val_loss: 0.6966 - val_acc: 0.5283\n",
            "Epoch 12/35\n",
            "70/70 [==============================] - 3s 36ms/step - loss: 0.6991 - acc: 0.5544 - val_loss: 0.6943 - val_acc: 0.5313\n",
            "Epoch 13/35\n",
            "70/70 [==============================] - 3s 36ms/step - loss: 0.6986 - acc: 0.5537 - val_loss: 0.7025 - val_acc: 0.5051\n",
            "Epoch 14/35\n",
            "70/70 [==============================] - 2s 36ms/step - loss: 0.7048 - acc: 0.5486 - val_loss: 0.7008 - val_acc: 0.5081\n",
            "Epoch 15/35\n",
            "70/70 [==============================] - 3s 36ms/step - loss: 0.6936 - acc: 0.5548 - val_loss: 0.6892 - val_acc: 0.5323\n",
            "Epoch 16/35\n",
            "70/70 [==============================] - 3s 36ms/step - loss: 0.6976 - acc: 0.5511 - val_loss: 0.7000 - val_acc: 0.4970\n",
            "Epoch 17/35\n",
            "70/70 [==============================] - 3s 36ms/step - loss: 0.6934 - acc: 0.5575 - val_loss: 0.6993 - val_acc: 0.5010\n",
            "Epoch 18/35\n",
            "70/70 [==============================] - 3s 36ms/step - loss: 0.6879 - acc: 0.5597 - val_loss: 0.7076 - val_acc: 0.4758\n",
            "Epoch 19/35\n",
            "70/70 [==============================] - 3s 37ms/step - loss: 0.6883 - acc: 0.5597 - val_loss: 0.6943 - val_acc: 0.5121\n",
            "Epoch 20/35\n",
            "70/70 [==============================] - 2s 36ms/step - loss: 0.6896 - acc: 0.5614 - val_loss: 0.6923 - val_acc: 0.5152\n",
            "Epoch 21/35\n",
            "70/70 [==============================] - 3s 36ms/step - loss: 0.6839 - acc: 0.5576 - val_loss: 0.6978 - val_acc: 0.5010\n",
            "Epoch 22/35\n",
            "70/70 [==============================] - 3s 36ms/step - loss: 0.6884 - acc: 0.5614 - val_loss: 0.6954 - val_acc: 0.5152\n",
            "Epoch 23/35\n",
            "70/70 [==============================] - 2s 36ms/step - loss: 0.6901 - acc: 0.5600 - val_loss: 0.7012 - val_acc: 0.5101\n",
            "Epoch 24/35\n",
            "70/70 [==============================] - 2s 36ms/step - loss: 0.6795 - acc: 0.5811 - val_loss: 0.6963 - val_acc: 0.5152\n",
            "Epoch 25/35\n",
            "70/70 [==============================] - 3s 36ms/step - loss: 0.6817 - acc: 0.5753 - val_loss: 0.7035 - val_acc: 0.5071\n",
            "Epoch 26/35\n",
            "70/70 [==============================] - 2s 36ms/step - loss: 0.6829 - acc: 0.5732 - val_loss: 0.6744 - val_acc: 0.5859\n",
            "Epoch 27/35\n",
            "70/70 [==============================] - 2s 36ms/step - loss: 0.6768 - acc: 0.5753 - val_loss: 0.6808 - val_acc: 0.5586\n",
            "Epoch 28/35\n",
            "70/70 [==============================] - 3s 37ms/step - loss: 0.6785 - acc: 0.5784 - val_loss: 0.6923 - val_acc: 0.5384\n",
            "Epoch 29/35\n",
            "70/70 [==============================] - 3s 36ms/step - loss: 0.6845 - acc: 0.5837 - val_loss: 0.6906 - val_acc: 0.5414\n",
            "Epoch 30/35\n",
            "70/70 [==============================] - 2s 36ms/step - loss: 0.6781 - acc: 0.5916 - val_loss: 0.6925 - val_acc: 0.5384\n",
            "Epoch 31/35\n",
            "70/70 [==============================] - 3s 36ms/step - loss: 0.6846 - acc: 0.5667 - val_loss: 0.6960 - val_acc: 0.5293\n",
            "Epoch 32/35\n",
            "70/70 [==============================] - 2s 36ms/step - loss: 0.6762 - acc: 0.5952 - val_loss: 0.6914 - val_acc: 0.5455\n",
            "Epoch 33/35\n",
            "70/70 [==============================] - 2s 35ms/step - loss: 0.6762 - acc: 0.5776 - val_loss: 0.6788 - val_acc: 0.5747\n",
            "Epoch 34/35\n",
            "70/70 [==============================] - 2s 36ms/step - loss: 0.6788 - acc: 0.5843 - val_loss: 0.6844 - val_acc: 0.5626\n",
            "Epoch 35/35\n",
            "70/70 [==============================] - 2s 36ms/step - loss: 0.6754 - acc: 0.5818 - val_loss: 0.6751 - val_acc: 0.5909\n"
          ],
          "name": "stdout"
        }
      ]
    },
    {
      "cell_type": "code",
      "metadata": {
        "colab": {
          "base_uri": "https://localhost:8080/"
        },
        "id": "8i7XxBhesln3",
        "outputId": "8bef9aef-740b-4bed-e931-d6651be1137f"
      },
      "source": [
        "score, acc = model.evaluate(x=(X_val), y=(y_val), batch_size = 128)\n",
        "print('Test score:', score)\n",
        "print('Test accuracy:', acc)"
      ],
      "execution_count": null,
      "outputs": [
        {
          "output_type": "stream",
          "text": [
            "8/8 [==============================] - 0s 26ms/step - loss: 0.6751 - acc: 0.5909\n",
            "Test score: 0.6751164197921753\n",
            "Test accuracy: 0.5909090638160706\n"
          ],
          "name": "stdout"
        }
      ]
    },
    {
      "cell_type": "code",
      "metadata": {
        "colab": {
          "base_uri": "https://localhost:8080/",
          "height": 573
        },
        "id": "9lmDjj2IoRV2",
        "outputId": "13cd28fb-f859-4a23-af38-6f4147c790cd"
      },
      "source": [
        "import matplotlib.pyplot as plt\n",
        "\n",
        "plt.plot(history.history['acc'])\n",
        "plt.plot(history.history['val_acc'])\n",
        "plt.title('model accuracy')\n",
        "plt.ylabel('accuracy')\n",
        "plt.xlabel('epoch')\n",
        "plt.legend(['train', 'test'], loc='upper left')\n",
        "plt.show()\n",
        "\n",
        "plt.plot(history.history['loss'])\n",
        "plt.plot(history.history['val_loss'])\n",
        "plt.title('model loss')\n",
        "plt.ylabel('loss')\n",
        "plt.xlabel('epoch')\n",
        "plt.legend(['train', 'test'], loc='upper left')\n",
        "plt.show()"
      ],
      "execution_count": null,
      "outputs": [
        {
          "output_type": "display_data",
          "data": {
            "image/png": "[encoded data removed]",
            "text/plain": [
              "<Figure size 432x288 with 1 Axes>"
            ]
          },
          "metadata": {
            "tags": [],
            "needs_background": "light"
          }
        },
        {
          "output_type": "display_data",
          "data": {
            "image/png": "[encoded data removed]",
            "text/plain": [
              "<Figure size 432x288 with 1 Axes>"
            ]
          },
          "metadata": {
            "tags": [],
            "needs_background": "light"
          }
        }
      ]
    },
    {
      "cell_type": "code",
      "metadata": {
        "colab": {
          "base_uri": "https://localhost:8080/"
        },
        "id": "ucR7Cr3-3quR",
        "outputId": "e660d5ca-ed2c-4bdd-e865-670682057edf"
      },
      "source": [
        "from sklearn.metrics import classification_report, confusion_matrix\n",
        "\n",
        "y_pred = model.predict(X_val)\n",
        "y_pred = np.argmax(y_pred, axis=1)\n",
        "print('Confusion Matrix')\n",
        "print(confusion_matrix(y_val, y_pred))"
      ],
      "execution_count": null,
      "outputs": [
        {
          "output_type": "stream",
          "text": [
            "Confusion Matrix\n",
            "[[130 126]\n",
            " [279 455]]\n"
          ],
          "name": "stdout"
        }
      ]
    },
    {
      "cell_type": "code",
      "metadata": {
        "colab": {
          "base_uri": "https://localhost:8080/"
        },
        "id": "ptZ3cIwn4S9g",
        "outputId": "b17bc8e6-dba6-4d8c-eca6-f8d0fc1b6b46"
      },
      "source": [
        "print('Classification Report')\n",
        "target_names = class_names\n",
        "print(classification_report(y_val, y_pred, target_names=target_names))"
      ],
      "execution_count": null,
      "outputs": [
        {
          "output_type": "stream",
          "text": [
            "Classification Report\n",
            "              precision    recall  f1-score   support\n",
            "\n",
            "           n       0.32      0.51      0.39       256\n",
            "           y       0.78      0.62      0.69       734\n",
            "\n",
            "    accuracy                           0.59       990\n",
            "   macro avg       0.55      0.56      0.54       990\n",
            "weighted avg       0.66      0.59      0.61       990\n",
            "\n"
          ],
          "name": "stdout"
        }
      ]
    },
    {
      "cell_type": "code",
      "metadata": {
        "id": "b4c8-5Oqnc1m"
      },
      "source": [
        "string_input = keras.Input(shape=(1,), dtype=\"string\")\n",
        "x = vectorizer(string_input)\n",
        "preds = model(x)\n",
        "end_to_end_model = keras.Model(string_input, preds)"
      ],
      "execution_count": null,
      "outputs": []
    },
    {
      "cell_type": "code",
      "metadata": {
        "id": "O_zq9LaCo0lT"
      },
      "source": [
        "rms = tf.keras.optimizers.RMSprop(learning_rate=4*1e-5, rho=0.9, momentum=0.2, epsilon=1e-07)\n",
        "end_to_end_model.compile(loss = \"sparse_categorical_crossentropy\", optimizer = rms, metrics = [\"acc\"])"
      ],
      "execution_count": null,
      "outputs": []
    },
    {
      "cell_type": "code",
      "metadata": {
        "colab": {
          "base_uri": "https://localhost:8080/",
          "height": 35
        },
        "id": "FoUBkDINowQF",
        "outputId": "43be4668-ccc8-47c5-f83f-9a0e23e0da45"
      },
      "source": [
        "probabilities = end_to_end_model.predict(\n",
        "    [[\"I  love new experiences\"]]\n",
        ")\n",
        "\n",
        "class_names[np.argmax(probabilities[0])]"
      ],
      "execution_count": null,
      "outputs": [
        {
          "output_type": "execute_result",
          "data": {
            "application/vnd.google.colaboratory.intrinsic+json": {
              "type": "string"
            },
            "text/plain": [
              "'y'"
            ]
          },
          "metadata": {
            "tags": []
          },
          "execution_count": 70
        }
      ]
    },
    {
      "cell_type": "code",
      "metadata": {
        "colab": {
          "base_uri": "https://localhost:8080/"
        },
        "id": "zOpCTdcFUN8s",
        "outputId": "4efb38e1-9501-4d39-a03e-364104bd08e5"
      },
      "source": [
        "end_to_end_model.save('/content/drive/MyDrive/ocean-modelC/Models/OModel', save_format='tf')"
      ],
      "execution_count": null,
      "outputs": [
        {
          "output_type": "stream",
          "text": [
            "WARNING:absl:Found untraced functions such as lstm_cell_13_layer_call_fn, lstm_cell_13_layer_call_and_return_conditional_losses, lstm_cell_14_layer_call_fn, lstm_cell_14_layer_call_and_return_conditional_losses, lstm_cell_13_layer_call_fn while saving (showing 5 of 10). These functions will not be directly callable after loading.\n",
            "WARNING:absl:Found untraced functions such as lstm_cell_13_layer_call_fn, lstm_cell_13_layer_call_and_return_conditional_losses, lstm_cell_14_layer_call_fn, lstm_cell_14_layer_call_and_return_conditional_losses, lstm_cell_13_layer_call_fn while saving (showing 5 of 10). These functions will not be directly callable after loading.\n"
          ],
          "name": "stderr"
        },
        {
          "output_type": "stream",
          "text": [
            "INFO:tensorflow:Assets written to: /content/drive/MyDrive/ocean-modelC/Models/OModel_58_59/assets\n"
          ],
          "name": "stdout"
        },
        {
          "output_type": "stream",
          "text": [
            "INFO:tensorflow:Assets written to: /content/drive/MyDrive/ocean-modelC/Models/OModel_58_59/assets\n"
          ],
          "name": "stderr"
        }
      ]
    },
    {
      "cell_type": "code",
      "metadata": {
        "id": "m2t9UDsdUqD-"
      },
      "source": [
        "Omodel = keras.models.load_model('/content/drive/MyDrive/ocean-modelC/Models/OModel')"
      ],
      "execution_count": null,
      "outputs": []
    },
    {
      "cell_type": "code",
      "metadata": {
        "colab": {
          "base_uri": "https://localhost:8080/"
        },
        "id": "u0PwkO75e7Fd",
        "outputId": "04ba076e-ccef-4e8f-c6cf-94ef21c6ff54"
      },
      "source": [
        "print(class_names[np.argmax(Omodel.predict([['I like new experiences']]))])"
      ],
      "execution_count": null,
      "outputs": [
        {
          "output_type": "stream",
          "text": [
            "y\n"
          ],
          "name": "stdout"
        }
      ]
    }
  ]
}