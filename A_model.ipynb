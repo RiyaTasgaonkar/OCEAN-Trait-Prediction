{
  "nbformat": 4,
  "nbformat_minor": 0,
  "metadata": {
    "colab": {
      "name": "A-model.ipynb",
      "provenance": [],
      "collapsed_sections": []
    },
    "kernelspec": {
      "display_name": "Python 3",
      "name": "python3"
    },
    "language_info": {
      "name": "python"
    },
    "accelerator": "GPU"
  },
  "cells": [
    {
      "cell_type": "code",
      "metadata": {
        "colab": {
          "base_uri": "https://localhost:8080/"
        },
        "id": "ybti9l5A9y_1",
        "outputId": "3f65e4fe-d75f-4ea2-f0d2-f553b831ae81"
      },
      "source": [
        "!pip install tensorflow"
      ],
      "execution_count": null,
      "outputs": [
        {
          "output_type": "stream",
          "text": [
            "Requirement already satisfied: tensorflow in /usr/local/lib/python3.7/dist-packages (2.4.1)\n",
            "Requirement already satisfied: h5py~=2.10.0 in /usr/local/lib/python3.7/dist-packages (from tensorflow) (2.10.0)\n",
            "Requirement already satisfied: protobuf>=3.9.2 in /usr/local/lib/python3.7/dist-packages (from tensorflow) (3.12.4)\n",
            "Requirement already satisfied: tensorboard~=2.4 in /usr/local/lib/python3.7/dist-packages (from tensorflow) (2.4.1)\n",
            "Requirement already satisfied: flatbuffers~=1.12.0 in /usr/local/lib/python3.7/dist-packages (from tensorflow) (1.12)\n",
            "Requirement already satisfied: wheel~=0.35 in /usr/local/lib/python3.7/dist-packages (from tensorflow) (0.36.2)\n",
            "Requirement already satisfied: typing-extensions~=3.7.4 in /usr/local/lib/python3.7/dist-packages (from tensorflow) (3.7.4.3)\n",
            "Requirement already satisfied: google-pasta~=0.2 in /usr/local/lib/python3.7/dist-packages (from tensorflow) (0.2.0)\n",
            "Requirement already satisfied: keras-preprocessing~=1.1.2 in /usr/local/lib/python3.7/dist-packages (from tensorflow) (1.1.2)\n",
            "Requirement already satisfied: grpcio~=1.32.0 in /usr/local/lib/python3.7/dist-packages (from tensorflow) (1.32.0)\n",
            "Requirement already satisfied: numpy~=1.19.2 in /usr/local/lib/python3.7/dist-packages (from tensorflow) (1.19.5)\n",
            "Requirement already satisfied: gast==0.3.3 in /usr/local/lib/python3.7/dist-packages (from tensorflow) (0.3.3)\n",
            "Requirement already satisfied: wrapt~=1.12.1 in /usr/local/lib/python3.7/dist-packages (from tensorflow) (1.12.1)\n",
            "Requirement already satisfied: opt-einsum~=3.3.0 in /usr/local/lib/python3.7/dist-packages (from tensorflow) (3.3.0)\n",
            "Requirement already satisfied: six~=1.15.0 in /usr/local/lib/python3.7/dist-packages (from tensorflow) (1.15.0)\n",
            "Requirement already satisfied: termcolor~=1.1.0 in /usr/local/lib/python3.7/dist-packages (from tensorflow) (1.1.0)\n",
            "Requirement already satisfied: tensorflow-estimator<2.5.0,>=2.4.0 in /usr/local/lib/python3.7/dist-packages (from tensorflow) (2.4.0)\n",
            "Requirement already satisfied: absl-py~=0.10 in /usr/local/lib/python3.7/dist-packages (from tensorflow) (0.12.0)\n",
            "Requirement already satisfied: astunparse~=1.6.3 in /usr/local/lib/python3.7/dist-packages (from tensorflow) (1.6.3)\n",
            "Requirement already satisfied: setuptools in /usr/local/lib/python3.7/dist-packages (from protobuf>=3.9.2->tensorflow) (54.2.0)\n",
            "Requirement already satisfied: markdown>=2.6.8 in /usr/local/lib/python3.7/dist-packages (from tensorboard~=2.4->tensorflow) (3.3.4)\n",
            "Requirement already satisfied: werkzeug>=0.11.15 in /usr/local/lib/python3.7/dist-packages (from tensorboard~=2.4->tensorflow) (1.0.1)\n",
            "Requirement already satisfied: requests<3,>=2.21.0 in /usr/local/lib/python3.7/dist-packages (from tensorboard~=2.4->tensorflow) (2.23.0)\n",
            "Requirement already satisfied: tensorboard-plugin-wit>=1.6.0 in /usr/local/lib/python3.7/dist-packages (from tensorboard~=2.4->tensorflow) (1.8.0)\n",
            "Requirement already satisfied: google-auth-oauthlib<0.5,>=0.4.1 in /usr/local/lib/python3.7/dist-packages (from tensorboard~=2.4->tensorflow) (0.4.4)\n",
            "Requirement already satisfied: google-auth<2,>=1.6.3 in /usr/local/lib/python3.7/dist-packages (from tensorboard~=2.4->tensorflow) (1.28.1)\n",
            "Requirement already satisfied: importlib-metadata; python_version < \"3.8\" in /usr/local/lib/python3.7/dist-packages (from markdown>=2.6.8->tensorboard~=2.4->tensorflow) (3.10.0)\n",
            "Requirement already satisfied: idna<3,>=2.5 in /usr/local/lib/python3.7/dist-packages (from requests<3,>=2.21.0->tensorboard~=2.4->tensorflow) (2.10)\n",
            "Requirement already satisfied: certifi>=2017.4.17 in /usr/local/lib/python3.7/dist-packages (from requests<3,>=2.21.0->tensorboard~=2.4->tensorflow) (2020.12.5)\n",
            "Requirement already satisfied: urllib3!=1.25.0,!=1.25.1,<1.26,>=1.21.1 in /usr/local/lib/python3.7/dist-packages (from requests<3,>=2.21.0->tensorboard~=2.4->tensorflow) (1.24.3)\n",
            "Requirement already satisfied: chardet<4,>=3.0.2 in /usr/local/lib/python3.7/dist-packages (from requests<3,>=2.21.0->tensorboard~=2.4->tensorflow) (3.0.4)\n",
            "Requirement already satisfied: requests-oauthlib>=0.7.0 in /usr/local/lib/python3.7/dist-packages (from google-auth-oauthlib<0.5,>=0.4.1->tensorboard~=2.4->tensorflow) (1.3.0)\n",
            "Requirement already satisfied: cachetools<5.0,>=2.0.0 in /usr/local/lib/python3.7/dist-packages (from google-auth<2,>=1.6.3->tensorboard~=2.4->tensorflow) (4.2.1)\n",
            "Requirement already satisfied: rsa<5,>=3.1.4; python_version >= \"3.6\" in /usr/local/lib/python3.7/dist-packages (from google-auth<2,>=1.6.3->tensorboard~=2.4->tensorflow) (4.7.2)\n",
            "Requirement already satisfied: pyasn1-modules>=0.2.1 in /usr/local/lib/python3.7/dist-packages (from google-auth<2,>=1.6.3->tensorboard~=2.4->tensorflow) (0.2.8)\n",
            "Requirement already satisfied: zipp>=0.5 in /usr/local/lib/python3.7/dist-packages (from importlib-metadata; python_version < \"3.8\"->markdown>=2.6.8->tensorboard~=2.4->tensorflow) (3.4.1)\n",
            "Requirement already satisfied: oauthlib>=3.0.0 in /usr/local/lib/python3.7/dist-packages (from requests-oauthlib>=0.7.0->google-auth-oauthlib<0.5,>=0.4.1->tensorboard~=2.4->tensorflow) (3.1.0)\n",
            "Requirement already satisfied: pyasn1>=0.1.3 in /usr/local/lib/python3.7/dist-packages (from rsa<5,>=3.1.4; python_version >= \"3.6\"->google-auth<2,>=1.6.3->tensorboard~=2.4->tensorflow) (0.4.8)\n"
          ],
          "name": "stdout"
        }
      ]
    },
    {
      "cell_type": "code",
      "metadata": {
        "id": "5l1QJv5o-gdl"
      },
      "source": [
        "import numpy as np\n",
        "import pandas as pd\n",
        "import tensorflow as tf\n",
        "from tensorflow import keras\n",
        "from google.colab import drive\n",
        "from tensorflow.keras.layers.experimental.preprocessing import TextVectorization\n",
        "import re\n",
        "import string"
      ],
      "execution_count": null,
      "outputs": []
    },
    {
      "cell_type": "code",
      "metadata": {
        "colab": {
          "base_uri": "https://localhost:8080/"
        },
        "id": "5rL7_l0U_QWo",
        "outputId": "844ba9ee-db90-4aa9-da71-5feb40df83b3"
      },
      "source": [
        "drive.mount('/content/drive')"
      ],
      "execution_count": null,
      "outputs": [
        {
          "output_type": "stream",
          "text": [
            "Drive already mounted at /content/drive; to attempt to forcibly remount, call drive.mount(\"/content/drive\", force_remount=True).\n"
          ],
          "name": "stdout"
        }
      ]
    },
    {
      "cell_type": "code",
      "metadata": {
        "colab": {
          "base_uri": "https://localhost:8080/",
          "height": 202
        },
        "id": "lj6XuQ7G_dyx",
        "outputId": "f15d097c-7713-42df-8394-fdee50e2eddb"
      },
      "source": [
        "df = pd.read_csv('/content/drive/MyDrive/ocean-modelC/Data/final_myPersonality.csv')\n",
        "df.head()"
      ],
      "execution_count": null,
      "outputs": [
        {
          "output_type": "execute_result",
          "data": {
            "text/html": [
              "<div>\n",
              "<style scoped>\n",
              "    .dataframe tbody tr th:only-of-type {\n",
              "        vertical-align: middle;\n",
              "    }\n",
              "\n",
              "    .dataframe tbody tr th {\n",
              "        vertical-align: top;\n",
              "    }\n",
              "\n",
              "    .dataframe thead th {\n",
              "        text-align: right;\n",
              "    }\n",
              "</style>\n",
              "<table border=\"1\" class=\"dataframe\">\n",
              "  <thead>\n",
              "    <tr style=\"text-align: right;\">\n",
              "      <th></th>\n",
              "      <th>Unnamed: 0</th>\n",
              "      <th>STATUS</th>\n",
              "      <th>cEXT</th>\n",
              "      <th>cNEU</th>\n",
              "      <th>cAGR</th>\n",
              "      <th>cCON</th>\n",
              "      <th>cOPN</th>\n",
              "    </tr>\n",
              "  </thead>\n",
              "  <tbody>\n",
              "    <tr>\n",
              "      <th>0</th>\n",
              "      <td>0</td>\n",
              "      <td>likes sound thunder.</td>\n",
              "      <td>0</td>\n",
              "      <td>1</td>\n",
              "      <td>0</td>\n",
              "      <td>0</td>\n",
              "      <td>1</td>\n",
              "    </tr>\n",
              "    <tr>\n",
              "      <th>1</th>\n",
              "      <td>1</td>\n",
              "      <td>sleepy even funny get sleep.</td>\n",
              "      <td>0</td>\n",
              "      <td>1</td>\n",
              "      <td>0</td>\n",
              "      <td>0</td>\n",
              "      <td>1</td>\n",
              "    </tr>\n",
              "    <tr>\n",
              "      <th>2</th>\n",
              "      <td>2</td>\n",
              "      <td>sore wants knot muscles base neck stop hurting...</td>\n",
              "      <td>0</td>\n",
              "      <td>1</td>\n",
              "      <td>0</td>\n",
              "      <td>0</td>\n",
              "      <td>1</td>\n",
              "    </tr>\n",
              "    <tr>\n",
              "      <th>3</th>\n",
              "      <td>3</td>\n",
              "      <td>likes day sounds new song.</td>\n",
              "      <td>0</td>\n",
              "      <td>1</td>\n",
              "      <td>0</td>\n",
              "      <td>0</td>\n",
              "      <td>1</td>\n",
              "    </tr>\n",
              "    <tr>\n",
              "      <th>4</th>\n",
              "      <td>4</td>\n",
              "      <td>home. happy face smiley</td>\n",
              "      <td>0</td>\n",
              "      <td>1</td>\n",
              "      <td>0</td>\n",
              "      <td>0</td>\n",
              "      <td>1</td>\n",
              "    </tr>\n",
              "  </tbody>\n",
              "</table>\n",
              "</div>"
            ],
            "text/plain": [
              "   Unnamed: 0                                             STATUS  ...  cCON  cOPN\n",
              "0           0                               likes sound thunder.  ...     0     1\n",
              "1           1                       sleepy even funny get sleep.  ...     0     1\n",
              "2           2  sore wants knot muscles base neck stop hurting...  ...     0     1\n",
              "3           3                         likes day sounds new song.  ...     0     1\n",
              "4           4                            home. happy face smiley  ...     0     1\n",
              "\n",
              "[5 rows x 7 columns]"
            ]
          },
          "metadata": {
            "tags": []
          },
          "execution_count": 247
        }
      ]
    },
    {
      "cell_type": "code",
      "metadata": {
        "colab": {
          "base_uri": "https://localhost:8080/"
        },
        "id": "Xc9ORNSdBH-5",
        "outputId": "57752331-c050-4eb5-ba80-48aad3ec31d4"
      },
      "source": [
        "df['cAGR'].value_counts()"
      ],
      "execution_count": null,
      "outputs": [
        {
          "output_type": "execute_result",
          "data": {
            "text/plain": [
              "1    5266\n",
              "0    4638\n",
              "Name: cAGR, dtype: int64"
            ]
          },
          "metadata": {
            "tags": []
          },
          "execution_count": 248
        }
      ]
    },
    {
      "cell_type": "code",
      "metadata": {
        "colab": {
          "base_uri": "https://localhost:8080/",
          "height": 351
        },
        "id": "u7gclQleBUXr",
        "outputId": "8106801e-0909-4f14-890a-a76aa5c6f7cf"
      },
      "source": [
        "import seaborn as sns\n",
        "\n",
        "sns.barplot(df['cAGR'], df['cAGR'], palette='Set1', estimator=lambda x: len(x) / len(df) )"
      ],
      "execution_count": null,
      "outputs": [
        {
          "output_type": "stream",
          "text": [
            "/usr/local/lib/python3.7/dist-packages/seaborn/_decorators.py:43: FutureWarning: Pass the following variables as keyword args: x, y. From version 0.12, the only valid positional argument will be `data`, and passing other arguments without an explicit keyword will result in an error or misinterpretation.\n",
            "  FutureWarning\n"
          ],
          "name": "stderr"
        },
        {
          "output_type": "execute_result",
          "data": {
            "text/plain": [
              "<matplotlib.axes._subplots.AxesSubplot at 0x7fb4ce47ef50>"
            ]
          },
          "metadata": {
            "tags": []
          },
          "execution_count": 249
        },
        {
          "output_type": "display_data",
          "data": {
            "image/png": "[encoded data removed]",
            "text/plain": [
              "<Figure size 432x288 with 1 Axes>"
            ]
          },
          "metadata": {
            "tags": [],
            "needs_background": "light"
          }
        }
      ]
    },
    {
      "cell_type": "code",
      "metadata": {
        "colab": {
          "base_uri": "https://localhost:8080/",
          "height": 202
        },
        "id": "wKDyUXM4Boip",
        "outputId": "49e6c9a6-c877-412a-a7d5-935063f9fa3f"
      },
      "source": [
        "df['cAGR'] = df['cAGR'].astype('category')\n",
        "dataframe = df[['STATUS', 'cAGR']]\n",
        "dataframe.head()"
      ],
      "execution_count": null,
      "outputs": [
        {
          "output_type": "execute_result",
          "data": {
            "text/html": [
              "<div>\n",
              "<style scoped>\n",
              "    .dataframe tbody tr th:only-of-type {\n",
              "        vertical-align: middle;\n",
              "    }\n",
              "\n",
              "    .dataframe tbody tr th {\n",
              "        vertical-align: top;\n",
              "    }\n",
              "\n",
              "    .dataframe thead th {\n",
              "        text-align: right;\n",
              "    }\n",
              "</style>\n",
              "<table border=\"1\" class=\"dataframe\">\n",
              "  <thead>\n",
              "    <tr style=\"text-align: right;\">\n",
              "      <th></th>\n",
              "      <th>STATUS</th>\n",
              "      <th>cAGR</th>\n",
              "    </tr>\n",
              "  </thead>\n",
              "  <tbody>\n",
              "    <tr>\n",
              "      <th>0</th>\n",
              "      <td>likes sound thunder.</td>\n",
              "      <td>0</td>\n",
              "    </tr>\n",
              "    <tr>\n",
              "      <th>1</th>\n",
              "      <td>sleepy even funny get sleep.</td>\n",
              "      <td>0</td>\n",
              "    </tr>\n",
              "    <tr>\n",
              "      <th>2</th>\n",
              "      <td>sore wants knot muscles base neck stop hurting...</td>\n",
              "      <td>0</td>\n",
              "    </tr>\n",
              "    <tr>\n",
              "      <th>3</th>\n",
              "      <td>likes day sounds new song.</td>\n",
              "      <td>0</td>\n",
              "    </tr>\n",
              "    <tr>\n",
              "      <th>4</th>\n",
              "      <td>home. happy face smiley</td>\n",
              "      <td>0</td>\n",
              "    </tr>\n",
              "  </tbody>\n",
              "</table>\n",
              "</div>"
            ],
            "text/plain": [
              "                                              STATUS cAGR\n",
              "0                               likes sound thunder.    0\n",
              "1                       sleepy even funny get sleep.    0\n",
              "2  sore wants knot muscles base neck stop hurting...    0\n",
              "3                         likes day sounds new song.    0\n",
              "4                            home. happy face smiley    0"
            ]
          },
          "metadata": {
            "tags": []
          },
          "execution_count": 250
        }
      ]
    },
    {
      "cell_type": "code",
      "metadata": {
        "colab": {
          "base_uri": "https://localhost:8080/"
        },
        "id": "mlcQLEY9CRtS",
        "outputId": "2eb4c541-7f19-42b5-cead-f46c4fbb5720"
      },
      "source": [
        "val_dataframe = dataframe.sample(frac = 0.1, random_state = 10)\n",
        "train_dataframe = dataframe.drop(val_dataframe.index)\n",
        "val_data, val_labels, train_data, train_labels = val_dataframe['STATUS'], val_dataframe['cAGR'], train_dataframe['STATUS'], train_dataframe['cAGR']\n",
        "print(\"Training Samples => \",len(train_dataframe),\" Validation Samples => \",len(val_dataframe))"
      ],
      "execution_count": null,
      "outputs": [
        {
          "output_type": "stream",
          "text": [
            "Training Samples =>  8914  Validation Samples =>  990\n"
          ],
          "name": "stdout"
        }
      ]
    },
    {
      "cell_type": "code",
      "metadata": {
        "id": "KuGiRo0eDutc"
      },
      "source": [
        "class_names = ['n', 'y']"
      ],
      "execution_count": null,
      "outputs": []
    },
    {
      "cell_type": "code",
      "metadata": {
        "id": "5lwooRU9EITf"
      },
      "source": [
        "vectorizer = TextVectorization(standardize = \"lower_and_strip_punctuation\",\n",
        "                               max_tokens = 20000, \n",
        "                               output_sequence_length = 300,\n",
        "                               output_mode='int')\n",
        "\n",
        "train_ds = tf.data.Dataset.from_tensor_slices(train_data).batch(64)\n",
        "vectorizer.adapt(train_ds)"
      ],
      "execution_count": null,
      "outputs": []
    },
    {
      "cell_type": "code",
      "metadata": {
        "id": "dMwxlpNaHXa-"
      },
      "source": [
        "voc = vectorizer.get_vocabulary()\n",
        "word_index = dict(zip(voc, range(len(voc))))"
      ],
      "execution_count": null,
      "outputs": []
    },
    {
      "cell_type": "code",
      "metadata": {
        "colab": {
          "base_uri": "https://localhost:8080/"
        },
        "id": "oqxOaZeaJjrz",
        "outputId": "a4051596-4da1-4529-b55d-007a4d78e4f7"
      },
      "source": [
        "path_to_glove_file = '/content/drive/MyDrive/ocean-modelC/Data/glove.6B.100d.txt'\n",
        "\n",
        "embeddings_index = {}\n",
        "with open(path_to_glove_file) as f:\n",
        "    for line in f:\n",
        "        word, coefs = line.split(maxsplit=1)\n",
        "        coefs = np.fromstring(coefs, \"f\", sep=\" \")\n",
        "        embeddings_index[word] = coefs\n",
        "\n",
        "print(\"Found %s word vectors.\" % len(embeddings_index))"
      ],
      "execution_count": null,
      "outputs": [
        {
          "output_type": "stream",
          "text": [
            "Found 400000 word vectors.\n"
          ],
          "name": "stdout"
        }
      ]
    },
    {
      "cell_type": "code",
      "metadata": {
        "colab": {
          "base_uri": "https://localhost:8080/"
        },
        "id": "_Zg2ziBmOwk-",
        "outputId": "07f5fb07-cd90-4813-ab10-c39eaf826422"
      },
      "source": [
        "num_tokens = len(voc) + 2\n",
        "embedding_dim = 100\n",
        "hits = 0\n",
        "misses = 0\n",
        "\n",
        "embedding_matrix = np.zeros((num_tokens, embedding_dim))\n",
        "for word, i in word_index.items():\n",
        "    embedding_vector = embeddings_index.get(word)\n",
        "    if embedding_vector is not None:\n",
        "        embedding_matrix[i] = embedding_vector\n",
        "        hits += 1\n",
        "    else:\n",
        "        misses += 1\n",
        "print(\"Converted %d words (%d misses)\" % (hits, misses))"
      ],
      "execution_count": null,
      "outputs": [
        {
          "output_type": "stream",
          "text": [
            "Converted 12437 words (3949 misses)\n"
          ],
          "name": "stdout"
        }
      ]
    },
    {
      "cell_type": "code",
      "metadata": {
        "id": "H6yf41aRO7IW"
      },
      "source": [
        "from tensorflow.keras.layers import Embedding\n",
        "\n",
        "embedding_layer = Embedding(\n",
        "    num_tokens,\n",
        "    embedding_dim,\n",
        "    embeddings_initializer = keras.initializers.Constant(embedding_matrix),\n",
        "    trainable = False,\n",
        ")"
      ],
      "execution_count": null,
      "outputs": []
    },
    {
      "cell_type": "code",
      "metadata": {
        "colab": {
          "base_uri": "https://localhost:8080/"
        },
        "id": "XSCiHxxnPCG9",
        "outputId": "19ac627b-4d11-4268-94fb-2df9f6cf87de"
      },
      "source": [
        "from tensorflow.keras import layers\n",
        "xavier =  tf.keras.initializers.GlorotNormal()\n",
        "\n",
        "int_sequences_input = keras.Input(shape=(None,), dtype=\"int64\")\n",
        "embedded_sequences = embedding_layer(int_sequences_input)\n",
        "x = layers.Bidirectional(layers.LSTM(64, dropout = 0.22))(embedded_sequences)\n",
        "x = layers.Dense(8, activation=\"relu\")(x)\n",
        "x = layers.BatchNormalization()(x)\n",
        "x = layers.Dropout(0.22)(x)\n",
        "\n",
        "predictions = layers.Dense(2, activation=\"softmax\", name=\"predictions\")(x)\n",
        "model = tf.keras.Model(int_sequences_input, predictions)\n",
        "\n",
        "model.summary()"
      ],
      "execution_count": null,
      "outputs": [
        {
          "output_type": "stream",
          "text": [
            "Model: \"model_18\"\n",
            "_________________________________________________________________\n",
            "Layer (type)                 Output Shape              Param #   \n",
            "=================================================================\n",
            "input_19 (InputLayer)        [(None, None)]            0         \n",
            "_________________________________________________________________\n",
            "embedding_9 (Embedding)      (None, None, 100)         1638800   \n",
            "_________________________________________________________________\n",
            "bidirectional_9 (Bidirection (None, 128)               84480     \n",
            "_________________________________________________________________\n",
            "dense_9 (Dense)              (None, 8)                 1032      \n",
            "_________________________________________________________________\n",
            "batch_normalization_9 (Batch (None, 8)                 32        \n",
            "_________________________________________________________________\n",
            "dropout_9 (Dropout)          (None, 8)                 0         \n",
            "_________________________________________________________________\n",
            "predictions (Dense)          (None, 2)                 18        \n",
            "=================================================================\n",
            "Total params: 1,724,362\n",
            "Trainable params: 85,546\n",
            "Non-trainable params: 1,638,816\n",
            "_________________________________________________________________\n"
          ],
          "name": "stdout"
        }
      ]
    },
    {
      "cell_type": "code",
      "metadata": {
        "id": "cdZq0AW2PEgV"
      },
      "source": [
        "X_train = vectorizer(np.array([[s] for s in train_data])).numpy()\n",
        "X_val = vectorizer(np.array([[s] for s in val_data])).numpy()\n",
        "\n",
        "y_train = np.array(train_labels)\n",
        "y_val = np.array(val_labels)"
      ],
      "execution_count": null,
      "outputs": []
    },
    {
      "cell_type": "code",
      "metadata": {
        "colab": {
          "base_uri": "https://localhost:8080/"
        },
        "id": "6WSsjwluPHXs",
        "outputId": "11f37df0-9b15-44bc-9223-ce6e4fddb79b"
      },
      "source": [
        "from sklearn.utils import compute_class_weight\n",
        "\n",
        "classWeight = compute_class_weight('balanced', [0,1], df['cAGR']) \n",
        "classWeight = dict(enumerate(classWeight))\n",
        "print(classWeight)"
      ],
      "execution_count": null,
      "outputs": [
        {
          "output_type": "stream",
          "text": [
            "{0: 1.0677015955153084, 1: 0.9403721990125332}\n"
          ],
          "name": "stdout"
        }
      ]
    },
    {
      "cell_type": "code",
      "metadata": {
        "colab": {
          "base_uri": "https://localhost:8080/"
        },
        "id": "FpQAv8W6PKSM",
        "outputId": "5275fdcf-611b-4389-c6f3-b4af3c662d96"
      },
      "source": [
        "rms = tf.keras.optimizers.RMSprop(learning_rate=5*1e-5, rho=0.85, momentum=0.25, epsilon=1e-06)\n",
        "\n",
        "model.compile(loss = \"sparse_categorical_crossentropy\", optimizer = rms, metrics = [\"acc\"])\n",
        "\n",
        "history = model.fit(X_train, y_train, batch_size = 128, epochs = 40, validation_data = (X_val, y_val), class_weight=classWeight)"
      ],
      "execution_count": null,
      "outputs": [
        {
          "output_type": "stream",
          "text": [
            "Epoch 1/40\n",
            "70/70 [==============================] - 6s 54ms/step - loss: 0.9858 - acc: 0.5040 - val_loss: 0.6879 - val_acc: 0.5455\n",
            "Epoch 2/40\n",
            "70/70 [==============================] - 3s 37ms/step - loss: 0.8514 - acc: 0.5032 - val_loss: 0.6907 - val_acc: 0.5253\n",
            "Epoch 3/40\n",
            "70/70 [==============================] - 3s 37ms/step - loss: 0.7835 - acc: 0.5120 - val_loss: 0.6947 - val_acc: 0.5172\n",
            "Epoch 4/40\n",
            "70/70 [==============================] - 3s 37ms/step - loss: 0.7563 - acc: 0.5228 - val_loss: 0.6988 - val_acc: 0.5182\n",
            "Epoch 5/40\n",
            "70/70 [==============================] - 3s 37ms/step - loss: 0.7465 - acc: 0.5274 - val_loss: 0.7049 - val_acc: 0.5121\n",
            "Epoch 6/40\n",
            "70/70 [==============================] - 3s 37ms/step - loss: 0.7271 - acc: 0.5202 - val_loss: 0.7097 - val_acc: 0.5061\n",
            "Epoch 7/40\n",
            "70/70 [==============================] - 3s 37ms/step - loss: 0.7264 - acc: 0.5203 - val_loss: 0.7101 - val_acc: 0.5152\n",
            "Epoch 8/40\n",
            "70/70 [==============================] - 3s 38ms/step - loss: 0.7210 - acc: 0.5154 - val_loss: 0.7064 - val_acc: 0.5333\n",
            "Epoch 9/40\n",
            "70/70 [==============================] - 3s 38ms/step - loss: 0.7176 - acc: 0.5176 - val_loss: 0.7044 - val_acc: 0.5384\n",
            "Epoch 10/40\n",
            "70/70 [==============================] - 3s 37ms/step - loss: 0.7084 - acc: 0.5256 - val_loss: 0.7023 - val_acc: 0.5414\n",
            "Epoch 11/40\n",
            "70/70 [==============================] - 3s 37ms/step - loss: 0.7056 - acc: 0.5318 - val_loss: 0.7004 - val_acc: 0.5444\n",
            "Epoch 12/40\n",
            "70/70 [==============================] - 3s 38ms/step - loss: 0.7076 - acc: 0.5269 - val_loss: 0.6983 - val_acc: 0.5414\n",
            "Epoch 13/40\n",
            "70/70 [==============================] - 3s 38ms/step - loss: 0.7003 - acc: 0.5314 - val_loss: 0.6959 - val_acc: 0.5424\n",
            "Epoch 14/40\n",
            "70/70 [==============================] - 3s 37ms/step - loss: 0.7002 - acc: 0.5348 - val_loss: 0.6951 - val_acc: 0.5434\n",
            "Epoch 15/40\n",
            "70/70 [==============================] - 3s 37ms/step - loss: 0.6924 - acc: 0.5371 - val_loss: 0.6949 - val_acc: 0.5444\n",
            "Epoch 16/40\n",
            "70/70 [==============================] - 3s 38ms/step - loss: 0.6996 - acc: 0.5258 - val_loss: 0.6953 - val_acc: 0.5364\n",
            "Epoch 17/40\n",
            "70/70 [==============================] - 3s 37ms/step - loss: 0.6935 - acc: 0.5352 - val_loss: 0.6957 - val_acc: 0.5263\n",
            "Epoch 18/40\n",
            "70/70 [==============================] - 3s 37ms/step - loss: 0.6932 - acc: 0.5328 - val_loss: 0.6934 - val_acc: 0.5354\n",
            "Epoch 19/40\n",
            "70/70 [==============================] - 3s 37ms/step - loss: 0.6981 - acc: 0.5301 - val_loss: 0.6949 - val_acc: 0.5212\n",
            "Epoch 20/40\n",
            "70/70 [==============================] - 3s 38ms/step - loss: 0.6945 - acc: 0.5322 - val_loss: 0.6948 - val_acc: 0.5232\n",
            "Epoch 21/40\n",
            "70/70 [==============================] - 3s 38ms/step - loss: 0.6935 - acc: 0.5366 - val_loss: 0.6913 - val_acc: 0.5414\n",
            "Epoch 22/40\n",
            "70/70 [==============================] - 3s 37ms/step - loss: 0.6957 - acc: 0.5297 - val_loss: 0.6910 - val_acc: 0.5374\n",
            "Epoch 23/40\n",
            "70/70 [==============================] - 3s 37ms/step - loss: 0.6925 - acc: 0.5477 - val_loss: 0.6926 - val_acc: 0.5313\n",
            "Epoch 24/40\n",
            "70/70 [==============================] - 3s 37ms/step - loss: 0.6888 - acc: 0.5413 - val_loss: 0.6904 - val_acc: 0.5354\n",
            "Epoch 25/40\n",
            "70/70 [==============================] - 3s 37ms/step - loss: 0.6948 - acc: 0.5282 - val_loss: 0.6913 - val_acc: 0.5394\n",
            "Epoch 26/40\n",
            "70/70 [==============================] - 3s 37ms/step - loss: 0.6907 - acc: 0.5388 - val_loss: 0.6890 - val_acc: 0.5394\n",
            "Epoch 27/40\n",
            "70/70 [==============================] - 3s 37ms/step - loss: 0.6916 - acc: 0.5411 - val_loss: 0.6905 - val_acc: 0.5323\n",
            "Epoch 28/40\n",
            "70/70 [==============================] - 3s 38ms/step - loss: 0.6853 - acc: 0.5521 - val_loss: 0.6900 - val_acc: 0.5404\n",
            "Epoch 29/40\n",
            "70/70 [==============================] - 3s 37ms/step - loss: 0.6884 - acc: 0.5509 - val_loss: 0.6888 - val_acc: 0.5424\n",
            "Epoch 30/40\n",
            "70/70 [==============================] - 3s 38ms/step - loss: 0.6891 - acc: 0.5481 - val_loss: 0.6879 - val_acc: 0.5434\n",
            "Epoch 31/40\n",
            "70/70 [==============================] - 3s 37ms/step - loss: 0.6918 - acc: 0.5306 - val_loss: 0.6899 - val_acc: 0.5384\n",
            "Epoch 32/40\n",
            "70/70 [==============================] - 3s 38ms/step - loss: 0.6874 - acc: 0.5371 - val_loss: 0.6895 - val_acc: 0.5384\n",
            "Epoch 33/40\n",
            "70/70 [==============================] - 3s 37ms/step - loss: 0.6854 - acc: 0.5403 - val_loss: 0.6903 - val_acc: 0.5374\n",
            "Epoch 34/40\n",
            "70/70 [==============================] - 3s 37ms/step - loss: 0.6827 - acc: 0.5476 - val_loss: 0.6920 - val_acc: 0.5354\n",
            "Epoch 35/40\n",
            "70/70 [==============================] - 3s 37ms/step - loss: 0.6829 - acc: 0.5549 - val_loss: 0.6911 - val_acc: 0.5333\n",
            "Epoch 36/40\n",
            "70/70 [==============================] - 3s 37ms/step - loss: 0.6843 - acc: 0.5483 - val_loss: 0.6894 - val_acc: 0.5384\n",
            "Epoch 37/40\n",
            "70/70 [==============================] - 3s 37ms/step - loss: 0.6855 - acc: 0.5553 - val_loss: 0.6899 - val_acc: 0.5414\n",
            "Epoch 38/40\n",
            "70/70 [==============================] - 3s 37ms/step - loss: 0.6850 - acc: 0.5513 - val_loss: 0.6912 - val_acc: 0.5354\n",
            "Epoch 39/40\n",
            "70/70 [==============================] - 3s 37ms/step - loss: 0.6872 - acc: 0.5403 - val_loss: 0.6905 - val_acc: 0.5384\n",
            "Epoch 40/40\n",
            "70/70 [==============================] - 3s 38ms/step - loss: 0.6794 - acc: 0.5582 - val_loss: 0.6894 - val_acc: 0.5404\n"
          ],
          "name": "stdout"
        }
      ]
    },
    {
      "cell_type": "code",
      "metadata": {
        "colab": {
          "base_uri": "https://localhost:8080/"
        },
        "id": "HarcHuDhPM5L",
        "outputId": "0ece510e-1480-447e-fc15-b483ba7db403"
      },
      "source": [
        "score, acc = model.evaluate(x=(X_val), y=(y_val))\n",
        "print('Test score:', score)\n",
        "print('Test accuracy:', acc)"
      ],
      "execution_count": null,
      "outputs": [
        {
          "output_type": "stream",
          "text": [
            "31/31 [==============================] - 0s 12ms/step - loss: 0.6894 - acc: 0.5404\n",
            "Test score: 0.6893985271453857\n",
            "Test accuracy: 0.5404040217399597\n"
          ],
          "name": "stdout"
        }
      ]
    },
    {
      "cell_type": "code",
      "metadata": {
        "colab": {
          "base_uri": "https://localhost:8080/",
          "height": 573
        },
        "id": "uWUkfwOiPQXy",
        "outputId": "56c3393d-ae36-42ec-da3b-02358d813217"
      },
      "source": [
        "import matplotlib.pyplot as plt\n",
        "\n",
        "plt.plot(history.history['acc'])\n",
        "plt.plot(history.history['val_acc'])\n",
        "plt.title('model accuracy')\n",
        "plt.ylabel('accuracy')\n",
        "plt.xlabel('epoch')\n",
        "plt.legend(['train', 'test'], loc='upper left')\n",
        "plt.show()\n",
        "\n",
        "plt.plot(history.history['loss'])\n",
        "plt.plot(history.history['val_loss'])\n",
        "plt.title('model loss')\n",
        "plt.ylabel('loss')\n",
        "plt.xlabel('epoch')\n",
        "plt.legend(['train', 'test'], loc='upper left')\n",
        "plt.show()"
      ],
      "execution_count": null,
      "outputs": [
        {
          "output_type": "display_data",
          "data": {
            "image/png": "[encoded data removed]",
            "text/plain": [
              "<Figure size 432x288 with 1 Axes>"
            ]
          },
          "metadata": {
            "tags": [],
            "needs_background": "light"
          }
        },
        {
          "output_type": "display_data",
          "data": {
            "image/png": "[encoded data removed]",
            "text/plain": [
              "<Figure size 432x288 with 1 Axes>"
            ]
          },
          "metadata": {
            "tags": [],
            "needs_background": "light"
          }
        }
      ]
    },
    {
      "cell_type": "code",
      "metadata": {
        "colab": {
          "base_uri": "https://localhost:8080/"
        },
        "id": "3IOgm-P5Pe1X",
        "outputId": "caf28eae-0fdd-4ee6-d196-42dec8f4a453"
      },
      "source": [
        "from sklearn.metrics import classification_report, confusion_matrix\n",
        "\n",
        "y_pred = model.predict(X_val)\n",
        "y_pred = np.argmax(y_pred, axis=1)\n",
        "print('Confusion Matrix')\n",
        "print(confusion_matrix(y_val, y_pred))"
      ],
      "execution_count": null,
      "outputs": [
        {
          "output_type": "stream",
          "text": [
            "Confusion Matrix\n",
            "[[252 197]\n",
            " [258 283]]\n"
          ],
          "name": "stdout"
        }
      ]
    },
    {
      "cell_type": "code",
      "metadata": {
        "colab": {
          "base_uri": "https://localhost:8080/"
        },
        "id": "BXWwx2fuPiSw",
        "outputId": "eca4273b-5aa5-4c1e-c368-19a41ecb3c95"
      },
      "source": [
        "print('Classification Report')\n",
        "target_names = class_names\n",
        "print(classification_report(y_val, y_pred, target_names=target_names))"
      ],
      "execution_count": null,
      "outputs": [
        {
          "output_type": "stream",
          "text": [
            "Classification Report\n",
            "              precision    recall  f1-score   support\n",
            "\n",
            "           n       0.49      0.56      0.53       449\n",
            "           y       0.59      0.52      0.55       541\n",
            "\n",
            "    accuracy                           0.54       990\n",
            "   macro avg       0.54      0.54      0.54       990\n",
            "weighted avg       0.55      0.54      0.54       990\n",
            "\n"
          ],
          "name": "stdout"
        }
      ]
    },
    {
      "cell_type": "code",
      "metadata": {
        "colab": {
          "base_uri": "https://localhost:8080/",
          "height": 35
        },
        "id": "2NvZpkhrPmvz",
        "outputId": "69040f0b-3ba0-4ee6-9bdc-60e85ca599dd"
      },
      "source": [
        "string_input = keras.Input(shape=(1,), dtype=\"string\")\n",
        "x = vectorizer(string_input)\n",
        "preds = model(x)\n",
        "end_to_end_model = keras.Model(string_input, preds)\n",
        "\n",
        "probabilities = end_to_end_model.predict(\n",
        "    [[\"I  love new experiences\"]]\n",
        ")\n",
        "\n",
        "class_names[np.argmax(probabilities[0])]"
      ],
      "execution_count": null,
      "outputs": [
        {
          "output_type": "execute_result",
          "data": {
            "application/vnd.google.colaboratory.intrinsic+json": {
              "type": "string"
            },
            "text/plain": [
              "'y'"
            ]
          },
          "metadata": {
            "tags": []
          },
          "execution_count": 266
        }
      ]
    },
    {
      "cell_type": "code",
      "metadata": {
        "id": "7Q9JR2U2VcL9"
      },
      "source": [
        "rms = tf.keras.optimizers.RMSprop(learning_rate=5*1e-5, rho=0.85, momentum=0.25, epsilon=1e-06)\n",
        "end_to_end_model.compile(loss = \"sparse_categorical_crossentropy\", optimizer = rms, metrics = [\"acc\"])"
      ],
      "execution_count": null,
      "outputs": []
    },
    {
      "cell_type": "code",
      "metadata": {
        "id": "Zd9VNshlVqjn",
        "colab": {
          "base_uri": "https://localhost:8080/"
        },
        "outputId": "1529d4d1-d639-488a-ae17-17322953e504"
      },
      "source": [
        "end_to_end_model.save('/content/drive/MyDrive/ocean-modelC/Models/ANewModel_54_55', save_format='tf')"
      ],
      "execution_count": null,
      "outputs": [
        {
          "output_type": "stream",
          "text": [
            "WARNING:absl:Found untraced functions such as lstm_cell_28_layer_call_fn, lstm_cell_28_layer_call_and_return_conditional_losses, lstm_cell_29_layer_call_fn, lstm_cell_29_layer_call_and_return_conditional_losses, lstm_cell_28_layer_call_fn while saving (showing 5 of 10). These functions will not be directly callable after loading.\n",
            "WARNING:absl:Found untraced functions such as lstm_cell_28_layer_call_fn, lstm_cell_28_layer_call_and_return_conditional_losses, lstm_cell_29_layer_call_fn, lstm_cell_29_layer_call_and_return_conditional_losses, lstm_cell_28_layer_call_fn while saving (showing 5 of 10). These functions will not be directly callable after loading.\n"
          ],
          "name": "stderr"
        },
        {
          "output_type": "stream",
          "text": [
            "INFO:tensorflow:Assets written to: /content/drive/MyDrive/ocean-modelC/Models/ANewModel_54_55/assets\n"
          ],
          "name": "stdout"
        },
        {
          "output_type": "stream",
          "text": [
            "INFO:tensorflow:Assets written to: /content/drive/MyDrive/ocean-modelC/Models/ANewModel_54_55/assets\n"
          ],
          "name": "stderr"
        }
      ]
    },
    {
      "cell_type": "code",
      "metadata": {
        "id": "NXhZt2-VV6m8"
      },
      "source": [
        "Amodel = keras.models.load_model('/content/drive/MyDrive/ocean-modelC/Models/ANewModel_54_55')"
      ],
      "execution_count": null,
      "outputs": []
    },
    {
      "cell_type": "code",
      "metadata": {
        "id": "54bpshf3V99h",
        "colab": {
          "base_uri": "https://localhost:8080/"
        },
        "outputId": "3f8aef5b-752a-4e7b-ac19-15c7d54d9039"
      },
      "source": [
        "print(class_names[np.argmax(Amodel.predict([['I like new experiences']]))])"
      ],
      "execution_count": null,
      "outputs": [
        {
          "output_type": "stream",
          "text": [
            "y\n"
          ],
          "name": "stdout"
        }
      ]
    }
  ]
}